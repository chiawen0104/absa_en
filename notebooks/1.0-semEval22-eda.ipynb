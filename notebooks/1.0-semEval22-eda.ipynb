{
 "cells": [
  {
   "cell_type": "markdown",
   "id": "9efe5cc2-054a-4aa3-ab7a-80048f9cc685",
   "metadata": {
    "tags": []
   },
   "source": [
    "## SemEval Dataset 2022 EDA\n",
    " - Author: Nana\n",
    " - Created: 2022/07/14\n",
    "\n",
    "[SemEval dataset (En)](https://github.com/jerbarnes/semeval22_structured_sentiment/tree/master/data#data-and-formatting)\n",
    "```\n",
    "        cd /share/home/nana2929/semEval22/Structured_Sentiment/data\n",
    "```\n",
    " - opener_en (English hotel reviews) \n",
    "     - domain: 旅館\n",
    "     - 平均每筆資料標記出的opinions數量: 1.5筆左右\n",
    " - darmstadt_unis (English online university reviews): \n",
    "     - domain: 校園\n",
    "     - 平均每筆資料標記出的opinions數量: 0.4筆左右 (很多reviews無標記）\n",
    " - MPQA: \n",
    "     - domain: 政治\n",
    "     - 平均每筆資料標記出的opinions數量: 0.3筆左右 (很多reviews無標記）\n",
    " - 資料數量\n",
    "    \n",
    "    |split\\dataset|opener_en|darmstadt_unis|mpqa|\n",
    "    |-------|------|------|-------|\n",
    "    |train  |1744 |2253|5643|\n",
    "    |dev    |249|232|1997|\n",
    "    |test   |499|318|2055|\n",
    "\n",
    " - 無情緒標記資料數量\n",
    "    \n",
    "    |split\\dataset|opener_en|darmstadt_unis|mpqa|\n",
    "    |-------|------|------|-------|\n",
    "    |train  |344|1572|4389|\n",
    "    |dev    |51|150|1581|\n",
    "    |test   |92|214|1665|\n"
   ]
  },
  {
   "cell_type": "code",
   "execution_count": 1,
   "id": "080b5097-13be-4eae-a621-bf7cb1524baa",
   "metadata": {},
   "outputs": [],
   "source": [
    "import json \n",
    "from collections import defaultdict\n",
    "import os"
   ]
  },
  {
   "cell_type": "code",
   "execution_count": 2,
   "id": "2ce2c4b2-e5ba-4e00-b9a9-da38fe99a5c5",
   "metadata": {},
   "outputs": [],
   "source": [
    "from collections import defaultdict\n",
    "import pandas as pd\n",
    "import numpy as np\n",
    "import os\n",
    "import json"
   ]
  },
  {
   "cell_type": "code",
   "execution_count": 3,
   "id": "fc3ba5ae-75eb-4008-9c71-4e7c702cc376",
   "metadata": {},
   "outputs": [],
   "source": [
    "data_root = '/share/home/nana2929/semEval22/Structured_Sentiment/data/'\n",
    "datasets = ['opener_en', 'darmstadt_unis', 'mpqa']\n",
    "splits = ['train', 'dev', 'test']\n",
    "filesuffix =  '.json'"
   ]
  },
  {
   "cell_type": "code",
   "execution_count": 4,
   "id": "731ec4bb-9476-465f-bdd6-ca469ed0b04a",
   "metadata": {},
   "outputs": [
    {
     "name": "stdout",
     "output_type": "stream",
     "text": [
      "Loading /share/home/nana2929/semEval22/Structured_Sentiment/data/opener_en/train.json.\n",
      "Loading /share/home/nana2929/semEval22/Structured_Sentiment/data/opener_en/dev.json.\n",
      "Loading /share/home/nana2929/semEval22/Structured_Sentiment/data/opener_en/test.json.\n",
      "Loading /share/home/nana2929/semEval22/Structured_Sentiment/data/darmstadt_unis/train.json.\n",
      "Loading /share/home/nana2929/semEval22/Structured_Sentiment/data/darmstadt_unis/dev.json.\n",
      "Loading /share/home/nana2929/semEval22/Structured_Sentiment/data/darmstadt_unis/test.json.\n",
      "Loading /share/home/nana2929/semEval22/Structured_Sentiment/data/mpqa/train.json.\n",
      "Loading /share/home/nana2929/semEval22/Structured_Sentiment/data/mpqa/dev.json.\n",
      "Loading /share/home/nana2929/semEval22/Structured_Sentiment/data/mpqa/test.json.\n"
     ]
    }
   ],
   "source": [
    "all_datas = defaultdict(dict)\n",
    "\n",
    "for dataset in datasets:\n",
    "    for split in splits:\n",
    "        path = os.path.join(data_root, dataset, split + filesuffix)\n",
    "        print(f'Loading {path}.')\n",
    "        with open(path, 'r') as f:\n",
    "            op_split = json.load(f)\n",
    "        all_datas[dataset][split] = op_split "
   ]
  },
  {
   "cell_type": "markdown",
   "id": "dffd9b2e-bc16-4f03-821c-145f0f30dc74",
   "metadata": {
    "tags": []
   },
   "source": [
    "### Overall statistics"
   ]
  },
  {
   "cell_type": "code",
   "execution_count": 5,
   "id": "4a36b259-59c3-4851-bf6c-f3fe0a9869e9",
   "metadata": {},
   "outputs": [],
   "source": [
    "op = pd.Series(\n",
    "    index=[\"train\", \"dev\", \"test\"], \n",
    "    name=\"opener\",\n",
    "    dtype=np.int32)\n",
    "op.train = len(all_datas['opener_en']['train'])\n",
    "op.dev =  len(all_datas['opener_en']['dev'])\n",
    "op.test =  len(all_datas['opener_en']['test'])"
   ]
  },
  {
   "cell_type": "code",
   "execution_count": 6,
   "id": "22af4acf-9552-4c68-8d67-579e85523c85",
   "metadata": {},
   "outputs": [],
   "source": [
    "d = 'darmstadt_unis'\n",
    "darm = pd.Series(\n",
    "    index=[\"train\", \"dev\", \"test\"], \n",
    "    name = d,\n",
    "    dtype=np.int32)\n",
    "darm.train = len(all_datas[d]['train'])\n",
    "darm.dev =  len(all_datas[d]['dev'])\n",
    "darm.test =  len(all_datas[d]['test'])\n",
    "\n",
    "m = 'mpqa'\n",
    "mpqa= pd.Series(\n",
    "    index=[\"train\", \"dev\", \"test\"], \n",
    "    name = m,\n",
    "    dtype=np.int32)\n",
    "mpqa.train = len(all_datas[m]['train'])\n",
    "mpqa.dev =  len(all_datas[m]['dev'])\n",
    "mpqa.test =  len(all_datas[m]['test'])"
   ]
  },
  {
   "cell_type": "code",
   "execution_count": 7,
   "id": "8847117d-bb9c-414f-9ad4-c903d4caf562",
   "metadata": {},
   "outputs": [
    {
     "data": {
      "text/html": [
       "<div>\n",
       "<style scoped>\n",
       "    .dataframe tbody tr th:only-of-type {\n",
       "        vertical-align: middle;\n",
       "    }\n",
       "\n",
       "    .dataframe tbody tr th {\n",
       "        vertical-align: top;\n",
       "    }\n",
       "\n",
       "    .dataframe thead th {\n",
       "        text-align: right;\n",
       "    }\n",
       "</style>\n",
       "<table border=\"1\" class=\"dataframe\">\n",
       "  <thead>\n",
       "    <tr style=\"text-align: right;\">\n",
       "      <th></th>\n",
       "      <th>opener</th>\n",
       "      <th>darmstadt_unis</th>\n",
       "      <th>mpqa</th>\n",
       "    </tr>\n",
       "  </thead>\n",
       "  <tbody>\n",
       "    <tr>\n",
       "      <th>train</th>\n",
       "      <td>1744</td>\n",
       "      <td>2253</td>\n",
       "      <td>5643</td>\n",
       "    </tr>\n",
       "    <tr>\n",
       "      <th>dev</th>\n",
       "      <td>249</td>\n",
       "      <td>232</td>\n",
       "      <td>1997</td>\n",
       "    </tr>\n",
       "    <tr>\n",
       "      <th>test</th>\n",
       "      <td>499</td>\n",
       "      <td>318</td>\n",
       "      <td>2055</td>\n",
       "    </tr>\n",
       "  </tbody>\n",
       "</table>\n",
       "</div>"
      ],
      "text/plain": [
       "       opener  darmstadt_unis  mpqa\n",
       "train    1744            2253  5643\n",
       "dev       249             232  1997\n",
       "test      499             318  2055"
      ]
     },
     "execution_count": 7,
     "metadata": {},
     "output_type": "execute_result"
    }
   ],
   "source": [
    "all_stats = pd.concat([op, darm, mpqa], axis=1)\n",
    "all_stats"
   ]
  },
  {
   "cell_type": "code",
   "execution_count": 16,
   "id": "4b40aced-d801-438c-b6af-d52c3e233581",
   "metadata": {},
   "outputs": [],
   "source": [
    "import random \n",
    "import matplotlib.pyplot as plt\n",
    "import numpy as np"
   ]
  },
  {
   "cell_type": "markdown",
   "id": "e1286f53-0609-4be5-96b8-163a36b3a971",
   "metadata": {
    "tags": [],
    "toc-hr-collapsed": true
   },
   "source": [
    "## A. opener_en"
   ]
  },
  {
   "cell_type": "markdown",
   "id": "e431923b-2f35-47f9-b7ad-b4d9f613c076",
   "metadata": {},
   "source": [
    "### 1. training data random example"
   ]
  },
  {
   "cell_type": "code",
   "execution_count": 85,
   "id": "d44e58d9-36bd-4f72-a9bd-0434b1793f5d",
   "metadata": {},
   "outputs": [
    {
     "name": "stdout",
     "output_type": "stream",
     "text": [
      "index 728\n"
     ]
    },
    {
     "data": {
      "text/plain": [
       "{'sent_id': 'opener_en/kaf/hotel/english00190_e21978b83fc34738690f427f3d55e364-9',\n",
       " 'text': 'I was concerning whether my booking was confirmed .',\n",
       " 'opinions': []}"
      ]
     },
     "execution_count": 85,
     "metadata": {},
     "output_type": "execute_result"
    }
   ],
   "source": [
    "dataset_ = 'opener_en'\n",
    "print(f'index {rand}')\n",
    "opener = all_datas[dataset_]\n",
    "rand = random.randint(0, len(opener['train']))\n",
    "opener['train'][rand]"
   ]
  },
  {
   "cell_type": "code",
   "execution_count": 33,
   "id": "e0cdc553-b539-48f6-ba25-95b98b9adad4",
   "metadata": {},
   "outputs": [
    {
     "name": "stdout",
     "output_type": "stream",
     "text": [
      "Source Target Polar_expression Polarity Intensity\n"
     ]
    }
   ],
   "source": [
    "print(*opener['train'][3]['opinions'][0])"
   ]
  },
  {
   "cell_type": "markdown",
   "id": "e9012da9-b567-4593-b80f-a54321cd7907",
   "metadata": {},
   "source": [
    "### 2. percentile plots of \"opinion numbers per review text\"\n",
    "\n",
    "percentile plot code snippet: https://stackoverflow.com/questions/18153054/percentiles-on-x-axis-with-matplotlib"
   ]
  },
  {
   "cell_type": "code",
   "execution_count": 104,
   "id": "781d9ed6-0315-4cff-b5a0-9897298950ab",
   "metadata": {},
   "outputs": [
    {
     "name": "stdout",
     "output_type": "stream",
     "text": [
      "===== opener_en: train =====\n",
      "median: 1.0, minimum: 0, maximum: 17, average: 1.654\n",
      "zero-opinion reviews: 344\n",
      "\n",
      "===== opener_en: dev =====\n",
      "median: 1.0, minimum: 0, maximum: 13, average: 1.606\n",
      "zero-opinion reviews: 51\n",
      "\n",
      "===== opener_en: test =====\n",
      "median: 1.0, minimum: 0, maximum: 18, average: 1.733\n",
      "zero-opinion reviews: 92\n",
      "\n"
     ]
    },
    {
     "data": {
      "image/png": "[encoded data removed]",
      "text/plain": [
       "<Figure size 576x432 with 3 Axes>"
      ]
     },
     "metadata": {
      "needs_background": "light"
     },
     "output_type": "display_data"
    }
   ],
   "source": [
    "p = np.array([0.0, 25.0, 50.0, 75.0, 100.0]) # Percentile values\n",
    "\n",
    "# check opinion 數量區間表格 \n",
    "# plotting? \n",
    "fig, ax = plt.subplots(3, figsize=(8,6))#plt.subplot(1, 3, split_id, figsize=(10, 15))\n",
    "for split_id, split in enumerate(splits):\n",
    "    print(f'===== opener_en: {split} =====')\n",
    "    lengths = [len(opener[split][i]['opinions']) for i in range(len(opener[split]))]\n",
    "    lengths.sort()\n",
    "    medi, maxi, mini = np.median(lengths), max(lengths), min(lengths)\n",
    "    avg = round(sum(lengths)/len(lengths), 3)\n",
    "    print('median: {}, minimum: {}, maximum: {}, average: {}'.format(medi, mini, maxi, avg))\n",
    "    print('zero-opinion reviews: {}\\n'.format(lengths.count(0)))\n",
    "    perc = np.percentile(lengths, q = p)\n",
    "    ax[split_id].plot(lengths)\n",
    "    # Place red dots on the percentiles\n",
    "    ax[split_id].plot((len(lengths)-1) * p/100., perc, 'ro')\n",
    "    # Set tick locations and labels\n",
    "    ax[split_id].set_xticks((len(lengths)-1) * p/100.)\n",
    "fig.show()"
   ]
  },
  {
   "cell_type": "markdown",
   "id": "55de5a8f-8c4a-498f-9b6c-29ecef194f7d",
   "metadata": {},
   "source": [
    "### 3. checking targets (top *n*)\n",
    "將該資料集所有splits都pool在一起計算。"
   ]
  },
  {
   "cell_type": "code",
   "execution_count": 47,
   "id": "141fa7e0-16fb-4e9b-8fa9-f028a1537495",
   "metadata": {},
   "outputs": [],
   "source": [
    "opener_chained = [*opener['train'], *opener['dev'], *opener['test']]"
   ]
  },
  {
   "cell_type": "code",
   "execution_count": 53,
   "id": "fa794fd0-02ac-4f2d-9bcb-b4375397dba7",
   "metadata": {},
   "outputs": [
    {
     "data": {
      "text/plain": [
       "[('hotel', 198),\n",
       " ('it', 111),\n",
       " ('staff', 85),\n",
       " ('location', 75),\n",
       " ('The hotel', 58),\n",
       " ('room', 54),\n",
       " ('food', 52),\n",
       " ('rooms', 50),\n",
       " ('Hotel', 46),\n",
       " ('breakfast', 45),\n",
       " ('the hotel', 43),\n",
       " ('It', 41),\n",
       " ('The rooms', 41),\n",
       " ('The staff', 36),\n",
       " ('this hotel', 36)]"
      ]
     },
     "execution_count": 53,
     "metadata": {},
     "output_type": "execute_result"
    }
   ],
   "source": [
    "from collections import Counter\n",
    "targets = [x['opinions'][i]['Target'][0] for x in opener_chained for i in range(len(x['opinions']))]\n",
    "flat_targets = [x for xs in targets for x in xs]\n",
    "target_counter = Counter(flat_targets)\n",
    "target_counter.most_common(15)"
   ]
  },
  {
   "cell_type": "markdown",
   "id": "95179aff-2c20-4e6b-ac9c-c3c799694db4",
   "metadata": {
    "tags": [],
    "toc-hr-collapsed": true
   },
   "source": [
    "## B. darmstadt_unis\n",
    "darms 完全都在講學校（9校）的評價，而且reviews中完全無opinions標記者較opener更多。"
   ]
  },
  {
   "cell_type": "markdown",
   "id": "1547e07f-219d-491e-8671-4b93ffb276ff",
   "metadata": {},
   "source": [
    "### 1. training data example"
   ]
  },
  {
   "cell_type": "code",
   "execution_count": 94,
   "id": "2b37f0a0-8953-403f-a705-c44b928176a8",
   "metadata": {},
   "outputs": [
    {
     "name": "stdout",
     "output_type": "stream",
     "text": [
      "index 331\n"
     ]
    },
    {
     "data": {
      "text/plain": [
       "{'sent_id': 'Colorado_Technical_University_Online_61_01-28-2006-5',\n",
       " 'text': \"I went to one of the best private universities in the country for my B.A . At both schools I've had good and bad professors .\",\n",
       " 'opinions': [{'Source': [[], []],\n",
       "   'Target': [['professors'], ['113:123']],\n",
       "   'Polar_expression': [['bad'], ['109:112']],\n",
       "   'Polarity': 'Negative',\n",
       "   'Intensity': 'Average'},\n",
       "  {'Source': [[], []],\n",
       "   'Target': [['professors'], ['113:123']],\n",
       "   'Polar_expression': [['good'], ['100:104']],\n",
       "   'Polarity': 'Positive',\n",
       "   'Intensity': 'Average'}]}"
      ]
     },
     "execution_count": 94,
     "metadata": {},
     "output_type": "execute_result"
    }
   ],
   "source": [
    "dataset_ = 'darmstadt_unis'\n",
    "print(f'index {rand}')\n",
    "darms = all_datas[dataset_]\n",
    "rand = random.randint(0, len(darms['train']))\n",
    "darms['train'][rand]"
   ]
  },
  {
   "cell_type": "markdown",
   "id": "4b109396-9ed7-4208-bdfa-fe9a8c550dba",
   "metadata": {},
   "source": [
    "### 2. percentile plots "
   ]
  },
  {
   "cell_type": "code",
   "execution_count": 100,
   "id": "08b96344-e4f9-4b36-a05d-38a96eb80044",
   "metadata": {},
   "outputs": [
    {
     "name": "stdout",
     "output_type": "stream",
     "text": [
      "===== darms: train =====\n",
      "median: 0.0, minimum: 0, maximum: 5, average: 0.358\n",
      "zero-opinion reviews: 1572\n",
      "\n",
      "===== darms: dev =====\n",
      "median: 0.0, minimum: 0, maximum: 3, average: 0.422\n",
      "zero-opinion reviews: 150\n",
      "\n",
      "===== darms: test =====\n",
      "median: 0.0, minimum: 0, maximum: 4, average: 0.409\n",
      "zero-opinion reviews: 214\n",
      "\n"
     ]
    },
    {
     "data": {
      "image/png": "[encoded data removed]",
      "text/plain": [
       "<Figure size 576x432 with 3 Axes>"
      ]
     },
     "metadata": {
      "needs_background": "light"
     },
     "output_type": "display_data"
    }
   ],
   "source": [
    "p = np.array([0.0, 25.0, 50.0, 75.0, 100.0]) # Percentile values\n",
    "dataset = darms\n",
    "# check opinion 數量區間表格 \n",
    "# plotting? \n",
    "fig, ax = plt.subplots(3, figsize=(8,6))#plt.subplot(1, 3, split_id, figsize=(10, 15))\n",
    "for split_id, split in enumerate(splits):\n",
    "    print(f'===== darms: {split} =====')\n",
    "    lengths = [len(dataset[split][i]['opinions']) for i in range(len(dataset[split]))]\n",
    "    lengths.sort()\n",
    "    medi, maxi, mini = np.median(lengths), max(lengths), min(lengths)\n",
    "    avg = round(sum(lengths)/len(lengths), 3)\n",
    "    print('median: {}, minimum: {}, maximum: {}, average: {}'.format(medi, mini, maxi, avg))\n",
    "    print('zero-opinion reviews: {}\\n'.format(lengths.count(0)))\n",
    "    perc = np.percentile(lengths, q = p)\n",
    "    ax[split_id].plot(lengths)\n",
    "    # Place red dots on the percentiles\n",
    "    ax[split_id].plot((len(lengths)-1) * p/100., perc, 'ro')\n",
    "    # Set tick locations and labels\n",
    "    ax[split_id].set_xticks((len(lengths)-1) * p/100.)\n",
    "fig.show() "
   ]
  },
  {
   "cell_type": "markdown",
   "id": "1b6d854f-6325-4dc6-9a3f-c1e0b7a5b45b",
   "metadata": {},
   "source": [
    "### 3. checking sense_id for universities, top *n* \n",
    "抓sense_id中出現的大學。"
   ]
  },
  {
   "cell_type": "code",
   "execution_count": 67,
   "id": "74b7ca64-6925-4d24-b16a-d6695c71da9c",
   "metadata": {},
   "outputs": [
    {
     "data": {
      "text/plain": [
       "Counter({'University_of_Phoenix': 1208,\n",
       "         'Colorado_Technical_University': 458,\n",
       "         'DeVry_University': 482,\n",
       "         'University_of_Maryland_University': 221,\n",
       "         'Capella_University': 345,\n",
       "         'Jones_International_University': 13,\n",
       "         'American_InterContinental_University': 57,\n",
       "         'St_Leo_University': 17,\n",
       "         'Northcentral_Online_University': 2})"
      ]
     },
     "execution_count": 67,
     "metadata": {},
     "output_type": "execute_result"
    }
   ],
   "source": [
    "import re \n",
    "\n",
    "def getuni(string):\n",
    "    pattern = r'(\\w+_University|University_of_[a-zA-Z]+)'\n",
    "    matches = re.finditer(pattern, string)\n",
    "    return [m.group() for m in matches]\n",
    "\n",
    "darms_chained = [*darms['train'], *darms['dev'], *darms['test']]\n",
    "unis = [getuni(x['sent_id']) for x in darms_chained]\n",
    "flat_unis = [x for xs in unis for x in xs]\n",
    "unis_counter = Counter(flat_unis)\n",
    "unis_counter.most_common(15)\n",
    "unis_counter # 全部都是針對學校的評價 "
   ]
  },
  {
   "cell_type": "markdown",
   "id": "e517660f-70b9-43d2-93b8-5363844712bb",
   "metadata": {},
   "source": [
    "### 4. checking targets and corresponding expressions\n",
    "schools, professors, classes, program, 虛主詞..."
   ]
  },
  {
   "cell_type": "code",
   "execution_count": 82,
   "id": "c9343acf-17db-4d86-b050-52f7bfc07384",
   "metadata": {},
   "outputs": [],
   "source": [
    "pairs = []\n",
    "for data in darms_chained:\n",
    "    for op in data['opinions']:\n",
    "        targets = op['Target']\n",
    "        exprs = op['Polar_expression']\n",
    "        t, e = targets[0], exprs[0]\n",
    "        pairs.append((t[0], e[0]))\n",
    "pair_counter = Counter(pairs)"
   ]
  },
  {
   "cell_type": "code",
   "execution_count": 84,
   "id": "1ad9f55c-8b5e-47d1-8cbe-7a49edee1d09",
   "metadata": {},
   "outputs": [
    {
     "data": {
      "text/plain": [
       "[(('it', 'not'), 7),\n",
       " (('school', 'not'), 5),\n",
       " (('professors', 'very'), 4),\n",
       " (('UOP', 'not'), 4),\n",
       " (('They', 'very'), 4),\n",
       " (('they', 'not'), 4),\n",
       " (('instructors', 'very'), 3),\n",
       " (('experience', 'very'), 3),\n",
       " (('school', 'Great'), 3),\n",
       " (('classes', 'great'), 3),\n",
       " (('UOP', \"don't\"), 3),\n",
       " (('classes', 'challenging'), 3),\n",
       " (('program', 'great'), 3),\n",
       " (('it', 'very'), 3),\n",
       " (('education', 'great'), 3)]"
      ]
     },
     "execution_count": 84,
     "metadata": {},
     "output_type": "execute_result"
    }
   ],
   "source": [
    "pair_counter.most_common(15) "
   ]
  },
  {
   "cell_type": "markdown",
   "id": "6213a5bc-d9f1-4e2e-86a8-5dffe8f38523",
   "metadata": {
    "tags": []
   },
   "source": [
    "## C. MPQA\n",
    "   - [mpqa dataset download point](https://mpqa.cs.pitt.edu/corpora/mpqa_corpus/)\n",
    "   - [mpqa 3.0 README](https://mpqa.cs.pitt.edu/corpora/mpqa_corpus/mpqa_corpus_3_0/mpqa_3_0_readme.txt)"
   ]
  },
  {
   "cell_type": "markdown",
   "id": "5609611c-9acc-45c6-8672-724a7aa7fc71",
   "metadata": {},
   "source": [
    "### 1. training data example "
   ]
  },
  {
   "cell_type": "code",
   "execution_count": 95,
   "id": "d7f6906f-b5ff-4907-ba8a-43d3774cabb5",
   "metadata": {},
   "outputs": [
    {
     "name": "stdout",
     "output_type": "stream",
     "text": [
      "index 2115\n"
     ]
    },
    {
     "data": {
      "text/plain": [
       "{'sent_id': '20020304/20.50.30-97-17',\n",
       " 'text': 'We all know that even the targets in the Kyoto Protocol are only a first step if we want to prevent the severe consequences that climate change could have . \"',\n",
       " 'opinions': [{'Source': [[], []],\n",
       "   'Target': [['to prevent the severe consequences that climate change could have'],\n",
       "    ['89:154']],\n",
       "   'Polar_expression': [['want'], ['84:88']],\n",
       "   'Polarity': 'Positive',\n",
       "   'Intensity': 'Average'},\n",
       "  {'Source': [[], []],\n",
       "   'Target': [['the severe consequences that climate change could have'],\n",
       "    ['100:154']],\n",
       "   'Polar_expression': [['want'], ['84:88']],\n",
       "   'Polarity': 'Positive',\n",
       "   'Intensity': 'Average'}]}"
      ]
     },
     "execution_count": 95,
     "metadata": {},
     "output_type": "execute_result"
    }
   ],
   "source": [
    "dataset_ = 'mpqa'\n",
    "print(f'index {rand}')\n",
    "mpqa = all_datas[dataset_]\n",
    "rand = random.randint(0, len(mpqa['train']))\n",
    "mpqa['train'][rand]"
   ]
  },
  {
   "cell_type": "markdown",
   "id": "d4cb4cdb-5a9f-4ae1-a7a9-ec1349895b27",
   "metadata": {},
   "source": [
    "### 2. percentile plots"
   ]
  },
  {
   "cell_type": "code",
   "execution_count": 102,
   "id": "738b1798-486a-4138-9811-45fbb364fc2d",
   "metadata": {},
   "outputs": [
    {
     "name": "stdout",
     "output_type": "stream",
     "text": [
      "===== mpqa: train =====\n",
      "median: 0.0, minimum: 0, maximum: 8, average: 0.302\n",
      "zero-opinion reviews: 4389\n",
      "\n",
      "===== mpqa: dev =====\n",
      "median: 0.0, minimum: 0, maximum: 7, average: 0.285\n",
      "zero-opinion reviews: 1581\n",
      "\n",
      "===== mpqa: test =====\n",
      "median: 0.0, minimum: 0, maximum: 5, average: 0.252\n",
      "zero-opinion reviews: 1665\n",
      "\n"
     ]
    },
    {
     "data": {
      "image/png": "[encoded data removed]",
      "text/plain": [
       "<Figure size 576x432 with 3 Axes>"
      ]
     },
     "metadata": {
      "needs_background": "light"
     },
     "output_type": "display_data"
    }
   ],
   "source": [
    "p = np.array([0.0, 25.0, 50.0, 75.0, 100.0]) # Percentile values\n",
    "dataset = mpqa\n",
    "# check opinion 數量區間表格 \n",
    "# plotting? \n",
    "fig, ax = plt.subplots(3, figsize=(8,6))#plt.subplot(1, 3, split_id, figsize=(10, 15))\n",
    "for split_id, split in enumerate(splits):\n",
    "    print(f'===== mpqa: {split} =====')\n",
    "    lengths = [len(dataset[split][i]['opinions']) for i in range(len(dataset[split]))]\n",
    "    lengths.sort()\n",
    "    medi, maxi, mini = np.median(lengths), max(lengths), min(lengths)\n",
    "    avg = round(sum(lengths)/len(lengths), 3)\n",
    "    print('median: {}, minimum: {}, maximum: {}, average: {}'.format(medi, mini, maxi, avg))\n",
    "    print('zero-opinion reviews: {}\\n'.format(lengths.count(0)))\n",
    "    perc = np.percentile(lengths, q = p)\n",
    "    ax[split_id].plot(lengths)\n",
    "    # Place red dots on the percentiles\n",
    "    ax[split_id].plot((len(lengths)-1) * p/100., perc, 'ro')\n",
    "    # Set tick locations and labels\n",
    "    ax[split_id].set_xticks((len(lengths)-1) * p/100.)\n",
    "fig.show() "
   ]
  },
  {
   "cell_type": "markdown",
   "id": "9d25adcd-f4fd-4615-a1da-dd60267d453a",
   "metadata": {},
   "source": [
    "### 3. checking targets \n",
    "人權、美國、中國、恐怖主義、．．．domain: politics"
   ]
  },
  {
   "cell_type": "code",
   "execution_count": 106,
   "id": "b9c51b47-32be-4e66-9f90-90d0d8755785",
   "metadata": {},
   "outputs": [
    {
     "data": {
      "text/plain": [
       "[('it', 41),\n",
       " ('him', 27),\n",
       " ('the United States', 26),\n",
       " ('Chavez', 25),\n",
       " ('Mugabe', 22),\n",
       " ('Israel', 17),\n",
       " ('they', 15),\n",
       " ('the Kyoto Protocol', 13),\n",
       " ('Zimbabwe', 13),\n",
       " ('he', 12),\n",
       " ('them', 12),\n",
       " ('China', 11),\n",
       " ('the election', 11),\n",
       " ('the US', 10),\n",
       " ('human rights', 9),\n",
       " ('terrorism', 8),\n",
       " ('you', 8),\n",
       " ('Argentina', 7),\n",
       " ('the government', 7),\n",
       " ('us', 7),\n",
       " ('Iran', 7),\n",
       " ('this', 6),\n",
       " ('It', 6),\n",
       " ('Iraq', 6),\n",
       " ('the Islamic Republic', 6),\n",
       " ('the President', 5),\n",
       " ('Taiwan', 5),\n",
       " ('Bush', 5),\n",
       " ('Washington', 5),\n",
       " ('Hugo Chavez', 5)]"
      ]
     },
     "execution_count": 106,
     "metadata": {},
     "output_type": "execute_result"
    }
   ],
   "source": [
    "from collections import Counter\n",
    "mpqa_chained = [*mpqa['train'], *mpqa['dev'], *mpqa['test']]\n",
    "targets = [x['opinions'][i]['Target'][0] for x in mpqa_chained for i in range(len(x['opinions']))]\n",
    "flat_targets = [x for xs in targets for x in xs]\n",
    "target_counter = Counter(flat_targets)\n",
    "target_counter.most_common(30)"
   ]
  }
 ],
 "metadata": {
  "kernelspec": {
   "display_name": "Python 3",
   "language": "python",
   "name": "python3"
  },
  "language_info": {
   "codemirror_mode": {
    "name": "ipython",
    "version": 3
   },
   "file_extension": ".py",
   "mimetype": "text/x-python",
   "name": "python",
   "nbconvert_exporter": "python",
   "pygments_lexer": "ipython3",
   "version": "3.6.9"
  },
  "toc-autonumbering": false,
  "toc-showcode": false
 },
 "nbformat": 4,
 "nbformat_minor": 5
}
