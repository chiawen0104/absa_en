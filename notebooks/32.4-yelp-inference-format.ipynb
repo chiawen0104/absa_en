{
 "cells": [
  {
   "cell_type": "code",
   "execution_count": 9,
   "id": "e621770b-e8ee-4f6e-acef-c29c0b1517b5",
   "metadata": {},
   "outputs": [],
   "source": [
    "import json \n",
    "import re\n",
    "from copy import deepcopy"
   ]
  },
  {
   "cell_type": "code",
   "execution_count": 53,
   "id": "3a87bcf8-748e-44a3-8dff-e4fde5c5439d",
   "metadata": {},
   "outputs": [],
   "source": [
    "DATA = '../data/yelp'\n",
    "f1p = f'{DATA}/RAW_yelp-food-test_2rest100.json'\n",
    "f2p = f'{DATA}/RAW_yelp-food-test_rand100.json'\n",
    "with open(f1p, 'r') as f:\n",
    "    f1 = json.load(f)\n",
    "with open(f2p, 'r') as f:\n",
    "    f2 = json.load(f)"
   ]
  },
  {
   "cell_type": "markdown",
   "id": "d2657ca8-da9a-47af-9c32-b1b6d08d7b7c",
   "metadata": {},
   "source": [
    "## Transformation Function"
   ]
  },
  {
   "cell_type": "code",
   "execution_count": 57,
   "id": "165ed831-a272-45cc-84e5-7c81010aa7ca",
   "metadata": {},
   "outputs": [
    {
     "name": "stdout",
     "output_type": "stream",
     "text": [
      "Input Data Size: 100\n",
      "Total Size After Transform: 695\n"
     ]
    }
   ],
   "source": [
    "# https://stackoverflow.com/questions/44244583/splitting-on-regex-without-removing-delimiters\n",
    "def transform(datas):\n",
    "    '''\n",
    "    input: datas: a list of json dictionary \n",
    "    return: \n",
    "    '''\n",
    "    RESULT = []\n",
    "    print(f'Input Data Size: {len(datas)}')\n",
    "    for data in datas:\n",
    "        review_id = data['review_id']\n",
    "        text = data['text']\n",
    "        # cleaning text\n",
    "        # text = re.sub('/n', '', text) \n",
    "        # # separating\n",
    "        # text = re.sub('[.|!|?]', '|', text)\n",
    "        # sentences = text.split('|')\n",
    "        sentences = re.split(r'(?<=[\\.\\!\\?])\\s*', text)\n",
    "        idx = 0 \n",
    "        for sentence in sentences:\n",
    "            sentence = sentence.strip()\n",
    "            # print(review_id, idx)\n",
    "            if len(sentence) == 0:\n",
    "                continue\n",
    "            this_data = deepcopy(data)\n",
    "            this_data['sent_id'] = f'{review_id}:{idx}'\n",
    "            this_data['text'] = sentence\n",
    "            this_data['opinions'] = []\n",
    "            # print(this_data)\n",
    "            \n",
    "            RESULT.append(this_data)\n",
    "            idx += 1 \n",
    "            \n",
    "    print(f'Total Size After Transform: {len(RESULT)}')\n",
    "    return RESULT\n",
    "            \n",
    "f1_ = transform(f1)        "
   ]
  },
  {
   "cell_type": "code",
   "execution_count": 58,
   "id": "7f54ac71-ff37-4bcc-9d60-abfe625590ef",
   "metadata": {},
   "outputs": [
    {
     "name": "stdout",
     "output_type": "stream",
     "text": [
      "Input Data Size: 100\n",
      "Total Size After Transform: 825\n"
     ]
    }
   ],
   "source": [
    "f2_ = transform(f2) "
   ]
  },
  {
   "cell_type": "code",
   "execution_count": 70,
   "id": "404fda1f-64b9-4b85-8ea5-c0ef6ce90f1e",
   "metadata": {},
   "outputs": [
    {
     "data": {
      "text/plain": [
       "{'review_id': 'JpkFwAxtmF8kkXGkZmqg3w',\n",
       " 'user_id': '4xcjS_64MEHfO4sngneFEQ',\n",
       " 'business_id': 'w4wYlGd-ADrda22Z7zO0Nw',\n",
       " 'stars': 4.0,\n",
       " 'useful': 3,\n",
       " 'funny': 0,\n",
       " 'cool': 2,\n",
       " 'text': 'The side salad that came with it was surprisingly really good and the dressing had a nice kick.',\n",
       " 'date': '2018-12-23 22:36:38',\n",
       " 'sent_id': 'JpkFwAxtmF8kkXGkZmqg3w:14',\n",
       " 'opinions': []}"
      ]
     },
     "execution_count": 70,
     "metadata": {},
     "output_type": "execute_result"
    }
   ],
   "source": [
    "import random \n",
    "x = f2_\n",
    "i = random.randint(0, len(x))\n",
    "x[i]"
   ]
  },
  {
   "cell_type": "markdown",
   "id": "77d8e917-e5d0-4089-a137-334eba7e4301",
   "metadata": {},
   "source": [
    "## Output"
   ]
  },
  {
   "cell_type": "code",
   "execution_count": null,
   "id": "f54c2341-fc42-48a7-a6dd-f552dff935a5",
   "metadata": {},
   "outputs": [],
   "source": [
    "new_f1p = f1p.lstrip('RAW_')\n",
    "new_f2p = f2p.lstrip('RAW_')\n",
    "\n",
    "\n",
    "new_fp = [new_f1p, new_f2p]\n",
    "new_files = [f1_, f2_]\n",
    "for new_con, fp in zip(new_files, new_fp):\n",
    "    with open(fp, 'w') as f:\n",
    "        json.dump(f, indent = 4, ensure_ascii = False)"
   ]
  }
 ],
 "metadata": {
  "kernelspec": {
   "display_name": "Python 3",
   "language": "python",
   "name": "python3"
  },
  "language_info": {
   "codemirror_mode": {
    "name": "ipython",
    "version": 3
   },
   "file_extension": ".py",
   "mimetype": "text/x-python",
   "name": "python",
   "nbconvert_exporter": "python",
   "pygments_lexer": "ipython3",
   "version": "3.6.9"
  }
 },
 "nbformat": 4,
 "nbformat_minor": 5
}
