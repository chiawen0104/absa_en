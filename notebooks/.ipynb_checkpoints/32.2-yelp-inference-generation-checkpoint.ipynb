{
 "cells": [
  {
   "cell_type": "markdown",
   "id": "10eec8ac-874a-4eb7-9d01-62f02464a188",
   "metadata": {},
   "source": [
    "## Yelp inference (test-set) generation\n",
    "- Author: Nana/Ching Wen Yang \n",
    "- Date Created: Aug 26, 2022\n"
   ]
  },
  {
   "cell_type": "code",
   "execution_count": 1,
   "id": "bc2c59cd-bd75-49e9-b3f3-54f321e14d26",
   "metadata": {},
   "outputs": [],
   "source": [
    "YELPPATH = '/share/data/yelp'\n",
    "RP = 'yelp_academic_dataset_review.json'\n",
    "BUSINESS = 'yelp_academic_dataset_business.json'\n",
    "rppath = f'{YELPPATH}/{RP}'\n",
    "busipath = f'{YELPPATH}/{BUSINESS}'"
   ]
  },
  {
   "cell_type": "code",
   "execution_count": 2,
   "id": "52d6473e-9a27-45ba-8764-79de9d35bd30",
   "metadata": {},
   "outputs": [],
   "source": [
    "import pandas as pd\n",
    "import json"
   ]
  },
  {
   "cell_type": "code",
   "execution_count": 3,
   "id": "a4453922-eb3f-4ed0-85c5-6c7865e679ef",
   "metadata": {},
   "outputs": [],
   "source": [
    "Bid2Info = {}\n",
    "with open (busipath, 'r') as f:\n",
    "    for line in f:\n",
    "        line = json.loads(line)\n",
    "        busi_id = line['business_id']\n",
    "        category = line['categories']\n",
    "        \n",
    "        name = line['name']\n",
    "        star = line['stars']\n",
    "        Bid2Info[busi_id] = {'name':name, \n",
    "                             'category':category, \n",
    "                             'star':star, \n",
    "                             'review_ids':[], \n",
    "                             'business_id':busi_id}"
   ]
  },
  {
   "cell_type": "code",
   "execution_count": 4,
   "id": "8b0b0d7f-a175-4dc6-bb2c-d31054985ea5",
   "metadata": {},
   "outputs": [
    {
     "name": "stdout",
     "output_type": "stream",
     "text": [
      "No category: 103\n"
     ]
    }
   ],
   "source": [
    "tags = set()\n",
    "from collections import defaultdict\n",
    "counter = defaultdict(int)\n",
    "NoCat = 0 \n",
    "for ts in Bid2Info.values():\n",
    "    try:\n",
    "        ts = ts['category'].split(',')\n",
    "    except:\n",
    "        NoCat += 1\n",
    "        continue\n",
    "    for t in ts:\n",
    "        t = t.strip()\n",
    "        tags.add(t)\n",
    "        counter[t]+=1\n",
    "print(f'No category: {NoCat}')\n",
    "# print(f'#tags: {len(tags)}') "
   ]
  },
  {
   "cell_type": "code",
   "execution_count": 30,
   "id": "b37081d2-dfa0-4269-bacf-eb27e7ef3202",
   "metadata": {},
   "outputs": [],
   "source": [
    "path = '../data/yelp_tags.csv'\n",
    "tags = pd.DataFrame({'tag': list(tags)})\n",
    "tags.to_csv(path, index = False)"
   ]
  },
  {
   "cell_type": "code",
   "execution_count": 5,
   "id": "a813dfaf-5a71-419d-84a4-a35ea45219ef",
   "metadata": {},
   "outputs": [
    {
     "data": {
      "text/plain": [
       "124"
      ]
     },
     "execution_count": 5,
     "metadata": {},
     "output_type": "execute_result"
    }
   ],
   "source": [
    "scounter = sorted(counter.items(), key = lambda x:-x[1])\n",
    "# ('Eyewear & Opticians', 1016)\n",
    "scounter.index(('Eyewear & Opticians', 1016)) # 124\n",
    "# scounter[:124]"
   ]
  },
  {
   "cell_type": "code",
   "execution_count": 6,
   "id": "eac0861f-8d98-4172-a78f-a93de8bbdced",
   "metadata": {},
   "outputs": [],
   "source": [
    "import sys\n",
    "# caution: path[0] is reserved for script path (or '' in REPL)\n",
    "sys.path.insert(1, '../data')\n",
    "from yelp_tags import YelpFoodTags\n",
    "\n",
    "RID_Dict = {}\n",
    "FoodReviewIDs = set()\n",
    "isCoveredReview = 0 \n",
    "YelpFoodTags = set(YelpFoodTags)\n",
    "KnownRestaurants = set()\n",
    "with open (rppath, 'r') as f:\n",
    "    for id, line in enumerate(f):\n",
    "        line = json.loads(line)\n",
    "        store = Bid2Info[line['business_id']]\n",
    "        # 'Shipping Centers, Local Services, Notaries, Mailbox Centers, Printing Services'\n",
    "        flag = False\n",
    "        if store['business_id'] in KnownRestaurants:\n",
    "            isCoveredReview += 1 \n",
    "            flag = True\n",
    "        elif store['category']:\n",
    "            for tag in store['category'].split(','):\n",
    "                tag = tag.strip()\n",
    "                if tag in YelpFoodTags:\n",
    "                    isCoveredReview += 1\n",
    "                    flag = True\n",
    "                    KnownRestaurants.add(store['business_id'])\n",
    "                break \n",
    "        if flag:\n",
    "            FoodReviewIDs.add(line['review_id'])\n",
    "            \n",
    "        RID_Dict[line['review_id']] = line"
   ]
  },
  {
   "cell_type": "code",
   "execution_count": 7,
   "id": "73b88ba7-c0dc-410f-af24-39e6d6a6d217",
   "metadata": {},
   "outputs": [
    {
     "name": "stdout",
     "output_type": "stream",
     "text": [
      "Successfully seeding 1024\n"
     ]
    },
    {
     "data": {
      "text/plain": [
       "3258904"
      ]
     },
     "execution_count": 7,
     "metadata": {},
     "output_type": "execute_result"
    }
   ],
   "source": [
    "MYSEED = 1024\n",
    "import random \n",
    "random.seed(MYSEED)\n",
    "print(f'Successfully seeding {MYSEED}')\n",
    "len(FoodReviewIDs)"
   ]
  },
  {
   "cell_type": "markdown",
   "id": "73688245-8845-45d8-b94d-7c7b850a8f86",
   "metadata": {},
   "source": [
    "### Generate random/general inference data \n",
    "- 100 筆，選擇任意餐廳的任意評論。\n",
    "- please run the 3 cells contiguously. "
   ]
  },
  {
   "cell_type": "code",
   "execution_count": 42,
   "id": "d95d0bf2-d60c-4b06-94e3-89dbe6a5df28",
   "metadata": {},
   "outputs": [],
   "source": [
    "n = 100"
   ]
  },
  {
   "cell_type": "code",
   "execution_count": 43,
   "id": "90a472ca-677c-41f0-9242-546200bfe14b",
   "metadata": {},
   "outputs": [],
   "source": [
    "chosenIDs = random.sample(FoodReviewIDs, n)\n",
    "chosenReviews = [RID_Dict[x] for x in chosenIDs]"
   ]
  },
  {
   "cell_type": "code",
   "execution_count": 44,
   "id": "56e1e350-928e-48bb-96be-b689a3769c61",
   "metadata": {},
   "outputs": [
    {
     "data": {
      "text/plain": [
       "99"
      ]
     },
     "execution_count": 44,
     "metadata": {},
     "output_type": "execute_result"
    }
   ],
   "source": [
    "from collections import Counter\n",
    "c = Counter([x['business_id'] for x in chosenReviews])\n",
    "len(c) # # of unique restaurant in this inference data"
   ]
  },
  {
   "cell_type": "code",
   "execution_count": 45,
   "id": "43957ad3-a522-4147-b3b3-61f8571e74fa",
   "metadata": {},
   "outputs": [],
   "source": [
    "import json \n",
    "# the path is commented to avoid revising the file by accident\n",
    "# rand_test = '../data/yelp-food-test_rand100.json'\n",
    "with open(rand_test, 'w') as f:\n",
    "    json.dump(chosenReviews, f, ensure_ascii = False, indent = 4)"
   ]
  },
  {
   "cell_type": "markdown",
   "id": "0f1541ad-0bff-4643-a217-46dc9d1e0171",
   "metadata": {},
   "source": [
    "### Generate restaurant-specific data\n",
    "- 100 筆，只選擇兩間最多評論的餐廳的任意評論各五十筆。\n",
    "- 兩間最多評論的餐廳（over 7K reviews）:\n",
    "    - (_ab50qdWOk0DdB6XOrBitw) Acme Oyster House\n",
    "    - (ac1AeYqs8Z4_e2X5M3if2A) Oceana Grill \n",
    "- Please run the 3 cells contiguously.  "
   ]
  },
  {
   "cell_type": "code",
   "execution_count": 46,
   "id": "41fc90d9-0536-417b-b4ca-4f7955c18f11",
   "metadata": {},
   "outputs": [],
   "source": [
    "## add review number attribute\n",
    "from collections import defaultdict\n",
    "BID_Freq = defaultdict(set)\n",
    "with open (rppath, 'r') as f:\n",
    "    for id, review in enumerate(f): \n",
    "        review = json.loads(review)\n",
    "        bid = review['business_id']\n",
    "        rid = review['review_id']\n",
    "        BID_Freq[bid].add(rid)"
   ]
  },
  {
   "cell_type": "code",
   "execution_count": 47,
   "id": "a12d0a54-7b1f-40d7-ba37-18565a6425a4",
   "metadata": {},
   "outputs": [
    {
     "name": "stdout",
     "output_type": "stream",
     "text": [
      "_ab50qdWOk0DdB6XOrBitw Acme Oyster House\n",
      "ac1AeYqs8Z4_e2X5M3if2A Oceana Grill\n"
     ]
    }
   ],
   "source": [
    "BFreqS = sorted(BID_Freq.items(), key = lambda pair:-len(pair[1]))\n",
    "\n",
    "numRes = 2\n",
    "chosenReviews = []\n",
    "\n",
    "for s in BFreqS[:numRes]:\n",
    "    print(s[0], Bid2Info[s[0]]['name'])\n",
    "    chosenIDs = random.sample(s[1], int(n/numRes))\n",
    "    chosenReviews.extend([RID_Dict[x] for x in chosenIDs])"
   ]
  },
  {
   "cell_type": "code",
   "execution_count": 48,
   "id": "e4d7745f-441d-4c05-84c8-28f29d1eeae5",
   "metadata": {},
   "outputs": [],
   "source": [
    "import json \n",
    "# the path  is commented to avoid revising the file by accident\n",
    "# two_restaurant_test = '../data/yelp-food-test_2rest100.json'\n",
    "with open(two_restaurant_test, 'w') as f:\n",
    "    json.dump(chosenReviews, f, ensure_ascii = False, indent =4)"
   ]
  },
  {
   "cell_type": "markdown",
   "id": "0258b818-9aae-4971-8794-8bc0353a3d80",
   "metadata": {},
   "source": [
    "### Restaurant Covered Ratio\n",
    "- Out of the 15K (unique business_id) stores(business) that yelp records, \n",
    "\n",
    "  about 7K (46%) are restaurants/food-related stores. "
   ]
  },
  {
   "cell_type": "code",
   "execution_count": 48,
   "id": "b2cda23d-8538-4b2c-8f01-096d3685e469",
   "metadata": {},
   "outputs": [
    {
     "data": {
      "text/plain": [
       "0.4609633778085217"
      ]
     },
     "execution_count": 48,
     "metadata": {},
     "output_type": "execute_result"
    }
   ],
   "source": [
    "restaurant = 0\n",
    "for ts in Bid2Info.values():\n",
    "    try:\n",
    "        ts = ts['category'].split(',')\n",
    "    except:\n",
    "        NoCat += 1\n",
    "        continue\n",
    "    for t in ts:\n",
    "        t = t.strip()\n",
    "        if t in YelpFoodTags:\n",
    "            restaurant += 1\n",
    "            break \n",
    "restaurant/len(Bid2Info) "
   ]
  },
  {
   "cell_type": "code",
   "execution_count": 51,
   "id": "c7b86688-3be5-43a1-92c2-be750c63f2dc",
   "metadata": {},
   "outputs": [
    {
     "data": {
      "text/plain": [
       "69304"
      ]
     },
     "execution_count": 51,
     "metadata": {},
     "output_type": "execute_result"
    }
   ],
   "source": [
    "restaurant"
   ]
  },
  {
   "cell_type": "markdown",
   "id": "1e7de34b-53fb-4fe5-9ab9-bd537a35baf0",
   "metadata": {},
   "source": [
    "### Review Covered Ratio \n",
    "- Out of the 699K data, roughly 325K are commenting on restuarants/stores relevant to food. \n",
    "- The coverage is 46.6%. "
   ]
  },
  {
   "cell_type": "code",
   "execution_count": 60,
   "id": "26a8480f-b1fb-4ee1-ba41-c3f7cebf3433",
   "metadata": {},
   "outputs": [
    {
     "data": {
      "text/plain": [
       "0.4662050733303959"
      ]
     },
     "execution_count": 60,
     "metadata": {},
     "output_type": "execute_result"
    }
   ],
   "source": [
    "# review covered ratio: \n",
    "isCoveredReview/len(REVIEWS) "
   ]
  },
  {
   "cell_type": "code",
   "execution_count": 7,
   "id": "376c08a5-f759-4520-946f-6d0466ae3461",
   "metadata": {},
   "outputs": [],
   "source": [
    "# !cp /share/home/yuxiang/yelp_data/mapping/tags.txt /share/home/nana2929/repo_en/data"
   ]
  },
  {
   "cell_type": "code",
   "execution_count": 62,
   "id": "beba9f37-cd39-4a5a-b159-f35883ec23a6",
   "metadata": {},
   "outputs": [
    {
     "data": {
      "text/plain": [
       "3258904"
      ]
     },
     "execution_count": 62,
     "metadata": {},
     "output_type": "execute_result"
    }
   ],
   "source": [
    "isCoveredReview"
   ]
  },
  {
   "cell_type": "code",
   "execution_count": 39,
   "id": "22427151-f2c5-4023-9374-ecceac7bc985",
   "metadata": {},
   "outputs": [
    {
     "data": {
      "text/plain": [
       "6990280"
      ]
     },
     "execution_count": 39,
     "metadata": {},
     "output_type": "execute_result"
    }
   ],
   "source": [
    "len(REVIEWS) "
   ]
  }
 ],
 "metadata": {
  "kernelspec": {
   "display_name": "Python 3",
   "language": "python",
   "name": "python3"
  },
  "language_info": {
   "codemirror_mode": {
    "name": "ipython",
    "version": 3
   },
   "file_extension": ".py",
   "mimetype": "text/x-python",
   "name": "python",
   "nbconvert_exporter": "python",
   "pygments_lexer": "ipython3",
   "version": "3.6.9"
  }
 },
 "nbformat": 4,
 "nbformat_minor": 5
}
