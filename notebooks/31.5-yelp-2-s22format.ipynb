{
 "cells": [
  {
   "cell_type": "markdown",
   "id": "e191c726-4068-4786-a241-9d8088178d51",
   "metadata": {},
   "source": [
    "## YELP data to S22 format\n",
    "- Author: Nana\n",
    "- Created: 2022.08.22\n",
    "---\n",
    "- Goal: preprocess yelp to fit the format provided by semEval 2022.\n",
    "- Source data: `/share/data/yelp/yelp_academic_dataset_review.json`\n",
    "- Converted data: `/share/data/nana2929/yelp/`\n"
   ]
  },
  {
   "cell_type": "code",
   "execution_count": 36,
   "id": "782e4cd7-d925-4d12-9167-fa2b2eee7d56",
   "metadata": {},
   "outputs": [],
   "source": [
    "from utils import structs\n",
    "import json \n",
    "import numpy as np"
   ]
  },
  {
   "cell_type": "code",
   "execution_count": 37,
   "id": "a105a8b7-7f52-475c-957f-74a587398ce4",
   "metadata": {},
   "outputs": [],
   "source": [
    "# wow are we turning everything to ONE File? \n",
    "# splitting to 3 files? "
   ]
  },
  {
   "cell_type": "code",
   "execution_count": 38,
   "id": "94e388ce-de15-431d-94e5-93c933e5a55a",
   "metadata": {},
   "outputs": [],
   "source": [
    "YELPPATH = '/share/data/yelp'\n",
    "RP = 'yelp_academic_dataset_review.json'\n",
    "rppath = f'{YELPPATH}/{RP}'\n",
    "yelpdir = '/share/home/nana2929/yelp'"
   ]
  },
  {
   "cell_type": "code",
   "execution_count": 39,
   "id": "1332e627-54f2-41db-9b9f-b680dd9f2119",
   "metadata": {},
   "outputs": [
    {
     "name": "stdout",
     "output_type": "stream",
     "text": [
      "{'review_id': 'KU_O5udG6zpxOg-VcAEodg', 'user_id': 'mh_-eMZ6K5RLWhZyISBhwA', 'business_id': 'XQfwVwDr-v0ZS3_CbbE5Xw', 'stars': 3.0, 'useful': 0, 'funny': 0, 'cool': 0, 'text': \"If you decide to eat here, just be aware it is going to take about 2 hours from beginning to end. We have tried it multiple times, because I want to like it! I have been to it's other locations in NJ and never had a bad experience. \\n\\nThe food is good, but it takes a very long time to come out. The waitstaff is very young, but usually pleasant. We have just had too many experiences where we spent way too long waiting. We usually opt for another diner or restaurant on the weekends, in order to be done quicker.\", 'date': '2018-07-07 22:09:11'}\n"
     ]
    }
   ],
   "source": [
    "REVIEWS = []\n",
    "with open (rppath, 'r') as f:\n",
    "    for id, line in enumerate(f):\n",
    "        line = json.loads(line)\n",
    "        if id == 0: print(line)\n",
    "        REVIEWS.append(line) "
   ]
  },
  {
   "cell_type": "code",
   "execution_count": 40,
   "id": "364b428d-6b64-412b-a964-cbbeebec6cb9",
   "metadata": {},
   "outputs": [],
   "source": [
    "def transform(x):\n",
    "    if x == 3: return 'Neutral'\n",
    "    elif x < 3: return 'Negative'\n",
    "    else: return 'Positive'\n",
    "\n",
    "def Yelp2JSON(reviews):\n",
    "    '''\n",
    "    input: YELP a list of dictionaries\n",
    "    return: SemEval22 format json dictionaries (with positivity)\n",
    "    '''\n",
    "    result = []\n",
    "    for review in reviews:\n",
    "        RD = structs.ReviewDict()\n",
    "        RD['review_id'] = review['review_id']\n",
    "        RD['text'] = review['text'].replace('\\n', '')\n",
    "        RD['overall_polarity'] = transform(int(review['stars']))\n",
    "        result.append(RD)\n",
    "    return result "
   ]
  },
  {
   "cell_type": "markdown",
   "id": "a098fc3e-ee91-4669-9525-22b71fcb5880",
   "metadata": {},
   "source": [
    "### Because of the large size of YELP, split the files to avoid OOM/crashes"
   ]
  },
  {
   "cell_type": "code",
   "execution_count": 41,
   "id": "b54260b7-3dc3-4603-981c-ccf5d30ba8d1",
   "metadata": {},
   "outputs": [],
   "source": [
    "NSPLIT = 6"
   ]
  },
  {
   "cell_type": "code",
   "execution_count": 42,
   "id": "4449ea72-24b3-4468-be7e-4515142749d2",
   "metadata": {},
   "outputs": [],
   "source": [
    "N_REVIEWS = np.array_split(REVIEWS, NSPLIT)"
   ]
  },
  {
   "cell_type": "code",
   "execution_count": 43,
   "id": "4812d838-eec0-4328-8cf9-257253df350d",
   "metadata": {},
   "outputs": [
    {
     "name": "stdout",
     "output_type": "stream",
     "text": [
      "1165047 data is successfully converted to /share/home/nana2929/yelp/s22_formatted_yelp_reviews_1.json.\n",
      "1165047 data is successfully converted to /share/home/nana2929/yelp/s22_formatted_yelp_reviews_2.json.\n",
      "1165047 data is successfully converted to /share/home/nana2929/yelp/s22_formatted_yelp_reviews_3.json.\n",
      "1165047 data is successfully converted to /share/home/nana2929/yelp/s22_formatted_yelp_reviews_4.json.\n",
      "1165046 data is successfully converted to /share/home/nana2929/yelp/s22_formatted_yelp_reviews_5.json.\n",
      "1165046 data is successfully converted to /share/home/nana2929/yelp/s22_formatted_yelp_reviews_6.json.\n"
     ]
    }
   ],
   "source": [
    "import time\n",
    "for i, split in enumerate(N_REVIEWS):\n",
    "    converted_split = Yelp2JSON(split)\n",
    "    jsonfilename = f'{yelpdir}/s22_formatted_yelp_reviews_{i+1}.json'\n",
    "    with open(jsonfilename, 'w') as fout:\n",
    "        json.dump(converted_split, fout, ensure_ascii = False, indent = 4)\n",
    "    print(f'{len(split)} data is successfully converted to {jsonfilename}.')"
   ]
  },
  {
   "cell_type": "code",
   "execution_count": 44,
   "id": "52d3d60a-9cbf-468b-be94-e018976707c1",
   "metadata": {},
   "outputs": [],
   "source": [
    "# display file size"
   ]
  },
  {
   "cell_type": "code",
   "execution_count": 45,
   "id": "832902c4-c36c-498a-b057-ff957aa15b69",
   "metadata": {},
   "outputs": [
    {
     "name": "stdout",
     "output_type": "stream",
     "text": [
      "-rw-r--r-- 1 nana2929 nana2929 809M Aug 22 20:44 s22_formatted_yelp_reviews_1.json\n",
      "-rw-r--r-- 1 nana2929 nana2929 815M Aug 22 20:45 s22_formatted_yelp_reviews_2.json\n",
      "-rw-r--r-- 1 nana2929 nana2929 822M Aug 22 20:45 s22_formatted_yelp_reviews_3.json\n",
      "-rw-r--r-- 1 nana2929 nana2929 808M Aug 22 20:46 s22_formatted_yelp_reviews_4.json\n",
      "-rw-r--r-- 1 nana2929 nana2929 814M Aug 22 20:46 s22_formatted_yelp_reviews_5.json\n",
      "-rw-r--r-- 1 nana2929 nana2929 817M Aug 22 20:47 s22_formatted_yelp_reviews_6.json\n"
     ]
    }
   ],
   "source": [
    "%%bash\n",
    "cd ../../yelp\n",
    "ls -lh *"
   ]
  },
  {
   "cell_type": "code",
   "execution_count": 46,
   "id": "6f828a9a-9f71-4acd-a45e-bbee2e4f584b",
   "metadata": {},
   "outputs": [
    {
     "data": {
      "text/plain": [
       "{'review_id': 'KU_O5udG6zpxOg-VcAEodg',\n",
       " 'sent_id': '',\n",
       " 'text': \"If you decide to eat here, just be aware it is going to take about 2 hours from beginning to end. We have tried it multiple times, because I want to like it! I have been to it's other locations in NJ and never had a bad experience. The food is good, but it takes a very long time to come out. The waitstaff is very young, but usually pleasant. We have just had too many experiences where we spent way too long waiting. We usually opt for another diner or restaurant on the weekends, in order to be done quicker.\",\n",
       " 'overall_polarity': 'Neutral',\n",
       " 'opinions': []}"
      ]
     },
     "execution_count": 46,
     "metadata": {},
     "output_type": "execute_result"
    }
   ],
   "source": [
    "# try reading in \n",
    "with open(f'{yelpdir}/s22_formatted_yelp_reviews_1.json', 'r') as fin:\n",
    "    x = json.load(fin)\n",
    "x[0]"
   ]
  },
  {
   "cell_type": "code",
   "execution_count": null,
   "id": "08fdf94d-88d8-4bff-9d8c-13e88879d274",
   "metadata": {},
   "outputs": [],
   "source": []
  }
 ],
 "metadata": {
  "kernelspec": {
   "display_name": "Python 3.6.9 ('qwe9887476': venv)",
   "language": "python",
   "name": "python3"
  },
  "language_info": {
   "codemirror_mode": {
    "name": "ipython",
    "version": 3
   },
   "file_extension": ".py",
   "mimetype": "text/x-python",
   "name": "python",
   "nbconvert_exporter": "python",
   "pygments_lexer": "ipython3",
   "version": "3.6.9"
  },
  "vscode": {
   "interpreter": {
    "hash": "5bf6df6aca0587c3d575cbe78d8d9df74e83db4ef5eb69188bbfb0803a9e9627"
   }
  }
 },
 "nbformat": 4,
 "nbformat_minor": 5
}
