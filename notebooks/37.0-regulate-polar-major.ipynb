{
 "cells": [
  {
   "cell_type": "code",
   "execution_count": 1,
   "metadata": {},
   "outputs": [],
   "source": [
    "import pandas as pd\n",
    "import json"
   ]
  },
  {
   "cell_type": "code",
   "execution_count": 32,
   "metadata": {},
   "outputs": [
    {
     "data": {
      "text/plain": [
       "[{'sent_id': 'LxMrMDZvwNL7btnuqKYm8g:0',\n",
       "  'text': 'I agree with the previous review.',\n",
       "  'opinions': [{'Source': [['I'], ['0:1']],\n",
       "    'Target': [['review.'], ['26:33']],\n",
       "    'Polar_expression': [['agree'], ['2:7']],\n",
       "    'Polarity': 'Positive',\n",
       "    'Intensity': 'Standard',\n",
       "    'Target_key': ['review']}],\n",
       "  'business_id': '_ab50qdWOk0DdB6XOrBitw',\n",
       "  'review_id': 'LxMrMDZvwNL7btnuqKYm8g',\n",
       "  'stars': 1.0,\n",
       "  'polar_ans': True},\n",
       " {'sent_id': 'LxMrMDZvwNL7btnuqKYm8g:1',\n",
       "  'text': 'You can definitely find better restaurants in New Orleans.',\n",
       "  'opinions': [{'Source': [[], []],\n",
       "    'Target': [['restaurants'], ['31:42']],\n",
       "    'Polar_expression': [['better'], ['24:30']],\n",
       "    'Polarity': 'Positive',\n",
       "    'Intensity': 'Standard',\n",
       "    'Target_key': ['restaurant']}],\n",
       "  'business_id': '_ab50qdWOk0DdB6XOrBitw',\n",
       "  'review_id': 'LxMrMDZvwNL7btnuqKYm8g',\n",
       "  'stars': 1.0,\n",
       "  'polar_ans': True}]"
      ]
     },
     "execution_count": 32,
     "metadata": {},
     "output_type": "execute_result"
    }
   ],
   "source": [
    "with open('../data/yelp/ANS_polar-major_2rest100.json') as f:\n",
    "    gold1 = json.load(f)\n",
    "\n",
    "gold1[:2]"
   ]
  },
  {
   "cell_type": "code",
   "execution_count": 33,
   "metadata": {},
   "outputs": [
    {
     "data": {
      "text/plain": [
       "321"
      ]
     },
     "execution_count": 33,
     "metadata": {},
     "output_type": "execute_result"
    }
   ],
   "source": [
    "# count number of opinion\n",
    "opnum = 0\n",
    "\n",
    "for g in range(len(gold1)):\n",
    "    if len(gold1[g]['opinions']) == 1:\n",
    "        opnum += len(gold1[g]['opinions'])\n",
    "\n",
    "opnum\n"
   ]
  },
  {
   "cell_type": "code",
   "execution_count": 34,
   "metadata": {},
   "outputs": [],
   "source": [
    "# move 'polar_ans' into 'opinions'\n",
    "# set 'polar_ans' = 'default' if length of opinions > 1\n",
    "for g in range(len(gold1)):\n",
    "    if (len(gold1[g]['opinions']) >= 1):  \n",
    "        for op in range(len(gold1[g]['opinions'])):\n",
    "            if len(gold1[g]['opinions'][op]['Target'][0]) == 0: # no 'Target' -> 'polar_ans' = false\n",
    "                gold1[g]['opinions'][op]['Polar_ans'] = False\n",
    "            else:\n",
    "                if (len(gold1[g]['opinions']) == 1):\n",
    "                    gold1[g]['opinions'][op]['Polar_ans'] = gold1[g]['polar_ans']\n",
    "                else:\n",
    "                    gold1[g]['opinions'][op]['Polar_ans'] = \"default\"\n",
    "                # print(gold1[g]['opinions'][op])"
   ]
  },
  {
   "cell_type": "code",
   "execution_count": 35,
   "metadata": {},
   "outputs": [
    {
     "data": {
      "text/plain": [
       "[{'review_id': 'LxMrMDZvwNL7btnuqKYm8g',\n",
       "  'user_id': '2ssBdVC1kKKe4wZNDzF5Vw',\n",
       "  'business_id': '_ab50qdWOk0DdB6XOrBitw',\n",
       "  'stars': 1.0,\n",
       "  'useful': 0,\n",
       "  'funny': 0,\n",
       "  'cool': 0,\n",
       "  'text': 'I agree with the previous review. You can definitely find better restaurants in New Orleans. Buyer beware: the food does not live up to its hype.',\n",
       "  'date': '2016-08-22 19:13:22'},\n",
       " {'review_id': 'gWLiqQWybWwIZS4gT9Spbw',\n",
       "  'user_id': 'ryNLy69uEwBSGQfSl5ZXzg',\n",
       "  'business_id': '_ab50qdWOk0DdB6XOrBitw',\n",
       "  'stars': 3.0,\n",
       "  'useful': 0,\n",
       "  'funny': 0,\n",
       "  'cool': 0,\n",
       "  'text': 'Acme has a welcoming atmosphere to a city guy.  Old, not much natural light, bustling, and kind of dirty like every bar should be.\\n\\nI ate here twice for quick lunches.  My first experience was better.  Seated at the oyster bar, the shucker was quite friendly.  After serving me 10 oysters (I ordered the half dozen) he asked how I enjoyed them.  \"I dont touch \\'em,\" he replied to my favorable review.  It was pretty funny.\\n\\nI also had the seafood gumbo and their signature po\\'boy, which were both decent.\\n\\nGo for oysters and beer.',\n",
       "  'date': '2008-09-30 15:00:00'}]"
      ]
     },
     "execution_count": 35,
     "metadata": {},
     "output_type": "execute_result"
    }
   ],
   "source": [
    "with open('../data/yelp/RAW_yelp-food-test_2rest100.json') as f:\n",
    "    raw = json.load(f)\n",
    "\n",
    "raw[:2]"
   ]
  },
  {
   "cell_type": "code",
   "execution_count": 36,
   "metadata": {},
   "outputs": [
    {
     "name": "stdout",
     "output_type": "stream",
     "text": [
      "LxMrMDZvwNL7btnuqKYm8g 2ssBdVC1kKKe4wZNDzF5Vw\n",
      "gWLiqQWybWwIZS4gT9Spbw ryNLy69uEwBSGQfSl5ZXzg\n",
      "KNgC9AqrK8lAztmDnmZReg Zq5FPoa1yOFGEHGnSltWqw\n",
      "MDnLLtUkZV5BhExaCNnPiQ LbUNMg-xDib6UMmkh32a0w\n",
      "1Y-T419l7IPwfkXzMeP4vQ nMFlEQRj3MAeo9pcjbGCKw\n"
     ]
    }
   ],
   "source": [
    "for i in raw[:5]:\n",
    "    print(i['review_id'], i['user_id'])"
   ]
  },
  {
   "cell_type": "code",
   "execution_count": 37,
   "metadata": {},
   "outputs": [],
   "source": [
    "# add two key: 'user_id' & 'date'\n",
    "# delete 'polar_ans'\n",
    "for g in range(len(gold1)):\n",
    "    for i in raw:\n",
    "        if i['review_id'] == gold1[g]['review_id']:\n",
    "            gold1[g]['user_id'] = i['user_id']\n",
    "            gold1[g]['date'] = i['date']\n",
    "            break\n",
    "    del gold1[g]['polar_ans']\n",
    "    # print(gold1[g]['review_id'])"
   ]
  },
  {
   "cell_type": "code",
   "execution_count": 38,
   "metadata": {},
   "outputs": [
    {
     "data": {
      "text/plain": [
       "[{'sent_id': 'LxMrMDZvwNL7btnuqKYm8g:0',\n",
       "  'text': 'I agree with the previous review.',\n",
       "  'opinions': [{'Source': [['I'], ['0:1']],\n",
       "    'Target': [['review.'], ['26:33']],\n",
       "    'Polar_expression': [['agree'], ['2:7']],\n",
       "    'Polarity': 'Positive',\n",
       "    'Intensity': 'Standard',\n",
       "    'Target_key': ['review'],\n",
       "    'Polar_ans': True}],\n",
       "  'business_id': '_ab50qdWOk0DdB6XOrBitw',\n",
       "  'review_id': 'LxMrMDZvwNL7btnuqKYm8g',\n",
       "  'stars': 1.0,\n",
       "  'user_id': '2ssBdVC1kKKe4wZNDzF5Vw',\n",
       "  'date': '2016-08-22 19:13:22'},\n",
       " {'sent_id': 'LxMrMDZvwNL7btnuqKYm8g:1',\n",
       "  'text': 'You can definitely find better restaurants in New Orleans.',\n",
       "  'opinions': [{'Source': [[], []],\n",
       "    'Target': [['restaurants'], ['31:42']],\n",
       "    'Polar_expression': [['better'], ['24:30']],\n",
       "    'Polarity': 'Positive',\n",
       "    'Intensity': 'Standard',\n",
       "    'Target_key': ['restaurant'],\n",
       "    'Polar_ans': True}],\n",
       "  'business_id': '_ab50qdWOk0DdB6XOrBitw',\n",
       "  'review_id': 'LxMrMDZvwNL7btnuqKYm8g',\n",
       "  'stars': 1.0,\n",
       "  'user_id': '2ssBdVC1kKKe4wZNDzF5Vw',\n",
       "  'date': '2016-08-22 19:13:22'},\n",
       " {'sent_id': 'LxMrMDZvwNL7btnuqKYm8g:2',\n",
       "  'text': 'Buyer beware: the food does not live up to its hype.',\n",
       "  'opinions': [{'Source': [[], []],\n",
       "    'Target': [['the food'], ['14:22']],\n",
       "    'Polar_expression': [['not live up to its hype.'], ['28:52']],\n",
       "    'Polarity': 'Negative',\n",
       "    'Intensity': 'Standard',\n",
       "    'Target_key': ['food'],\n",
       "    'Polar_ans': True}],\n",
       "  'business_id': '_ab50qdWOk0DdB6XOrBitw',\n",
       "  'review_id': 'LxMrMDZvwNL7btnuqKYm8g',\n",
       "  'stars': 1.0,\n",
       "  'user_id': '2ssBdVC1kKKe4wZNDzF5Vw',\n",
       "  'date': '2016-08-22 19:13:22'}]"
      ]
     },
     "execution_count": 38,
     "metadata": {},
     "output_type": "execute_result"
    }
   ],
   "source": [
    "gold1[:3]"
   ]
  },
  {
   "cell_type": "code",
   "execution_count": 39,
   "metadata": {},
   "outputs": [],
   "source": [
    "# output json \n",
    "with open('../data/yelp/ANS2-raw_polar-major_2rest100.json', 'w') as outfile:\n",
    "    json.dump(gold1, outfile, indent = 4, ensure_ascii=False)"
   ]
  },
  {
   "cell_type": "code",
   "execution_count": 40,
   "metadata": {},
   "outputs": [
    {
     "name": "stdout",
     "output_type": "stream",
     "text": [
      "112 text with length of opinions > 1\n"
     ]
    }
   ],
   "source": [
    "n = 0\n",
    "for g in range(len(gold1)):\n",
    "    if (len(gold1[g]['opinions']) >= 2): \n",
    "        n += 1\n",
    "\n",
    "print(f'{n} text with length of opinions > 1')"
   ]
  },
  {
   "cell_type": "markdown",
   "metadata": {},
   "source": [
    "### After regulating polar_ans, convert the json to csv file"
   ]
  },
  {
   "cell_type": "code",
   "execution_count": 41,
   "metadata": {},
   "outputs": [
    {
     "data": {
      "text/plain": [
       "[{'sent_id': 'LxMrMDZvwNL7btnuqKYm8g:0',\n",
       "  'text': 'I agree with the previous review.',\n",
       "  'opinions': [{'Source': [['I'], ['0:1']],\n",
       "    'Target': [['review.'], ['26:33']],\n",
       "    'Polar_expression': [['agree'], ['2:7']],\n",
       "    'Polarity': 'Positive',\n",
       "    'Intensity': 'Standard',\n",
       "    'Target_key': ['review'],\n",
       "    'Polar_ans': True}],\n",
       "  'business_id': '_ab50qdWOk0DdB6XOrBitw',\n",
       "  'review_id': 'LxMrMDZvwNL7btnuqKYm8g',\n",
       "  'stars': 1.0,\n",
       "  'user_id': '2ssBdVC1kKKe4wZNDzF5Vw',\n",
       "  'date': '2016-08-22 19:13:22'},\n",
       " {'sent_id': 'LxMrMDZvwNL7btnuqKYm8g:1',\n",
       "  'text': 'You can definitely find better restaurants in New Orleans.',\n",
       "  'opinions': [{'Source': [[], []],\n",
       "    'Target': [['restaurants'], ['31:42']],\n",
       "    'Polar_expression': [['better'], ['24:30']],\n",
       "    'Polarity': 'Positive',\n",
       "    'Intensity': 'Standard',\n",
       "    'Target_key': ['restaurant'],\n",
       "    'Polar_ans': True}],\n",
       "  'business_id': '_ab50qdWOk0DdB6XOrBitw',\n",
       "  'review_id': 'LxMrMDZvwNL7btnuqKYm8g',\n",
       "  'stars': 1.0,\n",
       "  'user_id': '2ssBdVC1kKKe4wZNDzF5Vw',\n",
       "  'date': '2016-08-22 19:13:22'}]"
      ]
     },
     "execution_count": 41,
     "metadata": {},
     "output_type": "execute_result"
    }
   ],
   "source": [
    "with open('../data/yelp/ANS2-correct_polar-major_2rest100.json') as f:\n",
    "    gold2 = json.load(f)\n",
    "\n",
    "gold2[:2]"
   ]
  },
  {
   "cell_type": "code",
   "execution_count": 42,
   "metadata": {},
   "outputs": [],
   "source": [
    "# df column: rest | user_id | review_id | sent_id | text | Target | Target_key | Polar_expression | Polarity | Polar_ans | date | stars\n",
    "# rest1's bus_id: '_ab50qdWOk0DdB6XOrBitw'\n",
    "\n",
    "rest, user_id, review_id, sent_id, text= [], [], [], [], []\n",
    "Target, Target_key, Polar_expression, Polarity, Polar_ans = [], [], [], [], []\n",
    "date, stars = [], []\n",
    "\n",
    "for i in gold2:\n",
    "    if len(i['opinions']) > 0:\n",
    "        for j in i['opinions']:\n",
    "            if i['business_id'] == '_ab50qdWOk0DdB6XOrBitw':\n",
    "                rest.append(1)\n",
    "            else:\n",
    "                rest.append(2)\n",
    "\n",
    "            user_id.append(i['user_id'])\n",
    "            review_id.append(i['review_id'])\n",
    "            sent_id.append(i['sent_id'])\n",
    "            text.append(i['text'])\n",
    "\n",
    "            Target.append(j['Target'][0])\n",
    "            Target_key.append(j['Target_key'])\n",
    "            Polar_expression.append(j['Polar_expression'][0])\n",
    "            Polarity.append(j['Polarity'])\n",
    "            Polar_ans.append(j['Polar_ans'])\n",
    "\n",
    "            date.append(i['date'])\n",
    "            stars.append(i['stars'])\n",
    "            # print(j['Target'][0], j['Target_key'], j['Polar_expression'][0])"
   ]
  },
  {
   "cell_type": "code",
   "execution_count": 43,
   "metadata": {},
   "outputs": [
    {
     "data": {
      "text/html": [
       "<div>\n",
       "<style scoped>\n",
       "    .dataframe tbody tr th:only-of-type {\n",
       "        vertical-align: middle;\n",
       "    }\n",
       "\n",
       "    .dataframe tbody tr th {\n",
       "        vertical-align: top;\n",
       "    }\n",
       "\n",
       "    .dataframe thead th {\n",
       "        text-align: right;\n",
       "    }\n",
       "</style>\n",
       "<table border=\"1\" class=\"dataframe\">\n",
       "  <thead>\n",
       "    <tr style=\"text-align: right;\">\n",
       "      <th></th>\n",
       "      <th>rest</th>\n",
       "      <th>user_id</th>\n",
       "      <th>review_id</th>\n",
       "      <th>sent_id</th>\n",
       "      <th>text</th>\n",
       "      <th>Target</th>\n",
       "      <th>Target_key</th>\n",
       "      <th>Polar_expression</th>\n",
       "      <th>Polarity</th>\n",
       "      <th>Polar_ans</th>\n",
       "      <th>date</th>\n",
       "      <th>stars</th>\n",
       "    </tr>\n",
       "  </thead>\n",
       "  <tbody>\n",
       "    <tr>\n",
       "      <th>0</th>\n",
       "      <td>1</td>\n",
       "      <td>2ssBdVC1kKKe4wZNDzF5Vw</td>\n",
       "      <td>LxMrMDZvwNL7btnuqKYm8g</td>\n",
       "      <td>LxMrMDZvwNL7btnuqKYm8g:0</td>\n",
       "      <td>I agree with the previous review.</td>\n",
       "      <td>[review.]</td>\n",
       "      <td>[review]</td>\n",
       "      <td>[agree]</td>\n",
       "      <td>Positive</td>\n",
       "      <td>True</td>\n",
       "      <td>2016-08-22 19:13:22</td>\n",
       "      <td>1.0</td>\n",
       "    </tr>\n",
       "    <tr>\n",
       "      <th>1</th>\n",
       "      <td>1</td>\n",
       "      <td>2ssBdVC1kKKe4wZNDzF5Vw</td>\n",
       "      <td>LxMrMDZvwNL7btnuqKYm8g</td>\n",
       "      <td>LxMrMDZvwNL7btnuqKYm8g:1</td>\n",
       "      <td>You can definitely find better restaurants in ...</td>\n",
       "      <td>[restaurants]</td>\n",
       "      <td>[restaurant]</td>\n",
       "      <td>[better]</td>\n",
       "      <td>Positive</td>\n",
       "      <td>True</td>\n",
       "      <td>2016-08-22 19:13:22</td>\n",
       "      <td>1.0</td>\n",
       "    </tr>\n",
       "    <tr>\n",
       "      <th>2</th>\n",
       "      <td>1</td>\n",
       "      <td>2ssBdVC1kKKe4wZNDzF5Vw</td>\n",
       "      <td>LxMrMDZvwNL7btnuqKYm8g</td>\n",
       "      <td>LxMrMDZvwNL7btnuqKYm8g:2</td>\n",
       "      <td>Buyer beware: the food does not live up to its...</td>\n",
       "      <td>[the food]</td>\n",
       "      <td>[food]</td>\n",
       "      <td>[not live up to its hype.]</td>\n",
       "      <td>Negative</td>\n",
       "      <td>True</td>\n",
       "      <td>2016-08-22 19:13:22</td>\n",
       "      <td>1.0</td>\n",
       "    </tr>\n",
       "    <tr>\n",
       "      <th>3</th>\n",
       "      <td>1</td>\n",
       "      <td>ryNLy69uEwBSGQfSl5ZXzg</td>\n",
       "      <td>gWLiqQWybWwIZS4gT9Spbw</td>\n",
       "      <td>gWLiqQWybWwIZS4gT9Spbw:0</td>\n",
       "      <td>Acme has a welcoming atmosphere to a city guy.</td>\n",
       "      <td>[atmosphere]</td>\n",
       "      <td>[atmosphere]</td>\n",
       "      <td>[welcoming]</td>\n",
       "      <td>Positive</td>\n",
       "      <td>True</td>\n",
       "      <td>2008-09-30 15:00:00</td>\n",
       "      <td>3.0</td>\n",
       "    </tr>\n",
       "    <tr>\n",
       "      <th>4</th>\n",
       "      <td>1</td>\n",
       "      <td>ryNLy69uEwBSGQfSl5ZXzg</td>\n",
       "      <td>gWLiqQWybWwIZS4gT9Spbw</td>\n",
       "      <td>gWLiqQWybWwIZS4gT9Spbw:1</td>\n",
       "      <td>Old, not much natural light, bustling, and kin...</td>\n",
       "      <td>[bar]</td>\n",
       "      <td>[bar]</td>\n",
       "      <td>[should be.]</td>\n",
       "      <td>Negative</td>\n",
       "      <td>True</td>\n",
       "      <td>2008-09-30 15:00:00</td>\n",
       "      <td>3.0</td>\n",
       "    </tr>\n",
       "    <tr>\n",
       "      <th>...</th>\n",
       "      <td>...</td>\n",
       "      <td>...</td>\n",
       "      <td>...</td>\n",
       "      <td>...</td>\n",
       "      <td>...</td>\n",
       "      <td>...</td>\n",
       "      <td>...</td>\n",
       "      <td>...</td>\n",
       "      <td>...</td>\n",
       "      <td>...</td>\n",
       "      <td>...</td>\n",
       "      <td>...</td>\n",
       "    </tr>\n",
       "    <tr>\n",
       "      <th>561</th>\n",
       "      <td>2</td>\n",
       "      <td>gg_dtdHYIy61RMzIttYG9Q</td>\n",
       "      <td>tENVpuWZHpOt9AsQ7ijtMg</td>\n",
       "      <td>tENVpuWZHpOt9AsQ7ijtMg:2</td>\n",
       "      <td>The sauce on the oysters is way too heavy and ...</td>\n",
       "      <td>[]</td>\n",
       "      <td>[]</td>\n",
       "      <td>[not complement]</td>\n",
       "      <td>Negative</td>\n",
       "      <td>False</td>\n",
       "      <td>2017-09-07 15:53:27</td>\n",
       "      <td>2.0</td>\n",
       "    </tr>\n",
       "    <tr>\n",
       "      <th>562</th>\n",
       "      <td>2</td>\n",
       "      <td>gg_dtdHYIy61RMzIttYG9Q</td>\n",
       "      <td>tENVpuWZHpOt9AsQ7ijtMg</td>\n",
       "      <td>tENVpuWZHpOt9AsQ7ijtMg:3</td>\n",
       "      <td>The rice for the gumbo was hard, as if it was ...</td>\n",
       "      <td>[The rice]</td>\n",
       "      <td>[rice]</td>\n",
       "      <td>[hard,]</td>\n",
       "      <td>Positive</td>\n",
       "      <td>False</td>\n",
       "      <td>2017-09-07 15:53:27</td>\n",
       "      <td>2.0</td>\n",
       "    </tr>\n",
       "    <tr>\n",
       "      <th>563</th>\n",
       "      <td>2</td>\n",
       "      <td>gg_dtdHYIy61RMzIttYG9Q</td>\n",
       "      <td>tENVpuWZHpOt9AsQ7ijtMg</td>\n",
       "      <td>tENVpuWZHpOt9AsQ7ijtMg:4</td>\n",
       "      <td>The service was not great either, aside from t...</td>\n",
       "      <td>[The service]</td>\n",
       "      <td>[service]</td>\n",
       "      <td>[not great]</td>\n",
       "      <td>Negative</td>\n",
       "      <td>True</td>\n",
       "      <td>2017-09-07 15:53:27</td>\n",
       "      <td>2.0</td>\n",
       "    </tr>\n",
       "    <tr>\n",
       "      <th>564</th>\n",
       "      <td>2</td>\n",
       "      <td>gg_dtdHYIy61RMzIttYG9Q</td>\n",
       "      <td>tENVpuWZHpOt9AsQ7ijtMg</td>\n",
       "      <td>tENVpuWZHpOt9AsQ7ijtMg:5</td>\n",
       "      <td>I wouldn't recommend this place for seafood, b...</td>\n",
       "      <td>[the po boys]</td>\n",
       "      <td>[po, boys]</td>\n",
       "      <td>[good.]</td>\n",
       "      <td>Positive</td>\n",
       "      <td>True</td>\n",
       "      <td>2017-09-07 15:53:27</td>\n",
       "      <td>2.0</td>\n",
       "    </tr>\n",
       "    <tr>\n",
       "      <th>565</th>\n",
       "      <td>2</td>\n",
       "      <td>gg_dtdHYIy61RMzIttYG9Q</td>\n",
       "      <td>tENVpuWZHpOt9AsQ7ijtMg</td>\n",
       "      <td>tENVpuWZHpOt9AsQ7ijtMg:5</td>\n",
       "      <td>I wouldn't recommend this place for seafood, b...</td>\n",
       "      <td>[this place]</td>\n",
       "      <td>[place]</td>\n",
       "      <td>[recommend]</td>\n",
       "      <td>Positive</td>\n",
       "      <td>False</td>\n",
       "      <td>2017-09-07 15:53:27</td>\n",
       "      <td>2.0</td>\n",
       "    </tr>\n",
       "  </tbody>\n",
       "</table>\n",
       "<p>566 rows × 12 columns</p>\n",
       "</div>"
      ],
      "text/plain": [
       "     rest                 user_id               review_id  \\\n",
       "0       1  2ssBdVC1kKKe4wZNDzF5Vw  LxMrMDZvwNL7btnuqKYm8g   \n",
       "1       1  2ssBdVC1kKKe4wZNDzF5Vw  LxMrMDZvwNL7btnuqKYm8g   \n",
       "2       1  2ssBdVC1kKKe4wZNDzF5Vw  LxMrMDZvwNL7btnuqKYm8g   \n",
       "3       1  ryNLy69uEwBSGQfSl5ZXzg  gWLiqQWybWwIZS4gT9Spbw   \n",
       "4       1  ryNLy69uEwBSGQfSl5ZXzg  gWLiqQWybWwIZS4gT9Spbw   \n",
       "..    ...                     ...                     ...   \n",
       "561     2  gg_dtdHYIy61RMzIttYG9Q  tENVpuWZHpOt9AsQ7ijtMg   \n",
       "562     2  gg_dtdHYIy61RMzIttYG9Q  tENVpuWZHpOt9AsQ7ijtMg   \n",
       "563     2  gg_dtdHYIy61RMzIttYG9Q  tENVpuWZHpOt9AsQ7ijtMg   \n",
       "564     2  gg_dtdHYIy61RMzIttYG9Q  tENVpuWZHpOt9AsQ7ijtMg   \n",
       "565     2  gg_dtdHYIy61RMzIttYG9Q  tENVpuWZHpOt9AsQ7ijtMg   \n",
       "\n",
       "                      sent_id  \\\n",
       "0    LxMrMDZvwNL7btnuqKYm8g:0   \n",
       "1    LxMrMDZvwNL7btnuqKYm8g:1   \n",
       "2    LxMrMDZvwNL7btnuqKYm8g:2   \n",
       "3    gWLiqQWybWwIZS4gT9Spbw:0   \n",
       "4    gWLiqQWybWwIZS4gT9Spbw:1   \n",
       "..                        ...   \n",
       "561  tENVpuWZHpOt9AsQ7ijtMg:2   \n",
       "562  tENVpuWZHpOt9AsQ7ijtMg:3   \n",
       "563  tENVpuWZHpOt9AsQ7ijtMg:4   \n",
       "564  tENVpuWZHpOt9AsQ7ijtMg:5   \n",
       "565  tENVpuWZHpOt9AsQ7ijtMg:5   \n",
       "\n",
       "                                                  text         Target  \\\n",
       "0                    I agree with the previous review.      [review.]   \n",
       "1    You can definitely find better restaurants in ...  [restaurants]   \n",
       "2    Buyer beware: the food does not live up to its...     [the food]   \n",
       "3       Acme has a welcoming atmosphere to a city guy.   [atmosphere]   \n",
       "4    Old, not much natural light, bustling, and kin...          [bar]   \n",
       "..                                                 ...            ...   \n",
       "561  The sauce on the oysters is way too heavy and ...             []   \n",
       "562  The rice for the gumbo was hard, as if it was ...     [The rice]   \n",
       "563  The service was not great either, aside from t...  [The service]   \n",
       "564  I wouldn't recommend this place for seafood, b...  [the po boys]   \n",
       "565  I wouldn't recommend this place for seafood, b...   [this place]   \n",
       "\n",
       "       Target_key            Polar_expression  Polarity  Polar_ans  \\\n",
       "0        [review]                     [agree]  Positive       True   \n",
       "1    [restaurant]                    [better]  Positive       True   \n",
       "2          [food]  [not live up to its hype.]  Negative       True   \n",
       "3    [atmosphere]                 [welcoming]  Positive       True   \n",
       "4           [bar]                [should be.]  Negative       True   \n",
       "..            ...                         ...       ...        ...   \n",
       "561            []            [not complement]  Negative      False   \n",
       "562        [rice]                     [hard,]  Positive      False   \n",
       "563     [service]                 [not great]  Negative       True   \n",
       "564    [po, boys]                     [good.]  Positive       True   \n",
       "565       [place]                 [recommend]  Positive      False   \n",
       "\n",
       "                    date  stars  \n",
       "0    2016-08-22 19:13:22    1.0  \n",
       "1    2016-08-22 19:13:22    1.0  \n",
       "2    2016-08-22 19:13:22    1.0  \n",
       "3    2008-09-30 15:00:00    3.0  \n",
       "4    2008-09-30 15:00:00    3.0  \n",
       "..                   ...    ...  \n",
       "561  2017-09-07 15:53:27    2.0  \n",
       "562  2017-09-07 15:53:27    2.0  \n",
       "563  2017-09-07 15:53:27    2.0  \n",
       "564  2017-09-07 15:53:27    2.0  \n",
       "565  2017-09-07 15:53:27    2.0  \n",
       "\n",
       "[566 rows x 12 columns]"
      ]
     },
     "execution_count": 43,
     "metadata": {},
     "output_type": "execute_result"
    }
   ],
   "source": [
    "df = pd.DataFrame({'rest': rest, 'user_id': user_id, 'review_id': review_id, 'sent_id': sent_id, 'text': text,\n",
    "                    'Target': Target, 'Target_key': Target_key, 'Polar_expression': Polar_expression, 'Polarity': Polarity,\n",
    "                    'Polar_ans': Polar_ans, 'date': date, 'stars': stars})\n",
    "df"
   ]
  },
  {
   "cell_type": "code",
   "execution_count": 44,
   "metadata": {},
   "outputs": [
    {
     "data": {
      "text/plain": [
       "102"
      ]
     },
     "execution_count": 44,
     "metadata": {},
     "output_type": "execute_result"
    }
   ],
   "source": [
    "len(df[(df.Polar_ans == False) &  (df.Polarity == 'Positive')] )"
   ]
  },
  {
   "cell_type": "code",
   "execution_count": 47,
   "metadata": {},
   "outputs": [],
   "source": [
    "# df to csv\n",
    "df.to_csv('../data/yelp/STAT2_polar-table_2rest.csv', index=False)"
   ]
  },
  {
   "cell_type": "code",
   "execution_count": null,
   "metadata": {},
   "outputs": [],
   "source": []
  }
 ],
 "metadata": {
  "kernelspec": {
   "display_name": "Python 3.6.9 ('qwe9887476': venv)",
   "language": "python",
   "name": "python3"
  },
  "language_info": {
   "codemirror_mode": {
    "name": "ipython",
    "version": 3
   },
   "file_extension": ".py",
   "mimetype": "text/x-python",
   "name": "python",
   "nbconvert_exporter": "python",
   "pygments_lexer": "ipython3",
   "version": "3.6.9"
  },
  "orig_nbformat": 4,
  "vscode": {
   "interpreter": {
    "hash": "5bf6df6aca0587c3d575cbe78d8d9df74e83db4ef5eb69188bbfb0803a9e9627"
   }
  }
 },
 "nbformat": 4,
 "nbformat_minor": 2
}
