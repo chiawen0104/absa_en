{
 "cells": [
  {
   "cell_type": "code",
   "execution_count": 1,
   "metadata": {},
   "outputs": [],
   "source": [
    "import pandas as pd\n",
    "import json\n",
    "import string"
   ]
  },
  {
   "cell_type": "code",
   "execution_count": 13,
   "metadata": {},
   "outputs": [],
   "source": [
    "with open('../data/semEval16_plus/review_train.json') as f:\n",
    "    train = json.load(f)"
   ]
  },
  {
   "cell_type": "code",
   "execution_count": 14,
   "metadata": {},
   "outputs": [],
   "source": [
    "with open('../data/semEval16_plus/review_dev.json') as f:\n",
    "    test = json.load(f)"
   ]
  },
  {
   "cell_type": "code",
   "execution_count": 12,
   "metadata": {},
   "outputs": [],
   "source": [
    "with open('../data/yelp/inference/yelp-food-rawtext_2rest100.json') as f:\n",
    "    yelp = json.load(f)"
   ]
  },
  {
   "cell_type": "code",
   "execution_count": 9,
   "metadata": {},
   "outputs": [
    {
     "data": {
      "text/plain": [
       "{'sent_id': 'opener_en/kaf/hotel/english00192_e3fe22eeb360723a699504a27e13065e',\n",
       " 'text': 'Experienced staff and had a memorable stay India as a country has always fascinated me and all of my friends who have been there always have wonderful things to say about it . One of my friends who had been there before was planning a weeklong trip to Rajasthan in India and I decided to join him this time . Yes , it really was a great experience and we visited various places but the most wonderful part of the trip was our stay at the Oberoi Udaivilas Luxury Hotel . I can ’t explain in words how grand this place looks . It is a unique blend of the old world royal charm and the modern luxuries . I ’m definitely going there again whenever I get a chance .',\n",
       " 'opinions': [{'Source': [[], []],\n",
       "   'Target': [['the Oberoi Udaivilas Luxury Hotel'], ['125:158']],\n",
       "   'Polar_expression': [['the most wonderful part of the trip'], ['73:108']],\n",
       "   'Polarity': 'Positive',\n",
       "   'Intensity': 'Standard'},\n",
       "  {'Source': [[], []],\n",
       "   'Target': [['this place'], ['36:46']],\n",
       "   'Polar_expression': [['how grand', 'looks'], ['26:35', '47:52']],\n",
       "   'Polarity': 'Positive',\n",
       "   'Intensity': 'Standard'},\n",
       "  {'Source': [[], []],\n",
       "   'Target': [['It'], ['0:2']],\n",
       "   'Polar_expression': [['unique blend of the old world royal charm and the modern luxuries'],\n",
       "    ['8:73']],\n",
       "   'Polarity': 'Positive',\n",
       "   'Intensity': 'Strong'},\n",
       "  {'Source': [['I'], ['0:1']],\n",
       "   'Target': [['there'], ['22:27']],\n",
       "   'Polar_expression': [['definitely going', 'again'], ['5:21', '28:33']],\n",
       "   'Polarity': 'Positive',\n",
       "   'Intensity': 'Strong'}],\n",
       " 'dataset': 'opener_en'}"
      ]
     },
     "execution_count": 9,
     "metadata": {},
     "output_type": "execute_result"
    }
   ],
   "source": [
    "train[0]"
   ]
  },
  {
   "cell_type": "code",
   "execution_count": 15,
   "metadata": {},
   "outputs": [],
   "source": [
    "# replace period with comma\n",
    "for data in [train, test, yelp]:\n",
    "    for i in range(len(data)):\n",
    "        text = data[i]['text']\n",
    "        text = text.replace('\\n','')\n",
    "        text = text.replace(' . ', ' , ')\n",
    "        \n",
    "        text_list = list(text)\n",
    "        for element in range(len(text_list)):\n",
    "            if element+1 < len(text_list) and element-1 >= 0:\n",
    "                if text_list[element] == '.' and text_list[element+1] == '.':\n",
    "                    continue\n",
    "\n",
    "                if text_list[element] == '.' and text_list[element-1] == '.':\n",
    "                    continue\n",
    "                \n",
    "                if text_list[element] == '.' and (text_list[element-1].isalpha() or text_list[element-1].isalnum()) and text_list[element+1] != '.':\n",
    "                    text_list[element] = ' ,'\n",
    "\n",
    "                if text_list[element] in string.punctuation and text_list[element+1]  == ' ' and text_list[element-1]  != ' ' :\n",
    "                    text_list[element] = ' ' + text_list[element]\n",
    "        \n",
    "        if text_list[-1] in string.punctuation and text_list[-2] != ' ' and text_list[-2] != '.':\n",
    "            text_list[-1] = ' ' + text_list[-1]\n",
    "\n",
    "        text2 = \"\".join(text_list)\n",
    "        text2 = text2.replace('  ', ' ')\n",
    "        data[i]['text'] = text2\n"
   ]
  },
  {
   "cell_type": "code",
   "execution_count": 11,
   "metadata": {},
   "outputs": [
    {
     "name": "stdout",
     "output_type": "stream",
     "text": [
      "Sensational located superfriendly hotel Top of the Tops , the staff was frienly and the rooms were new renovarted in a luxury modern style , very clean and fine , a lot of opportunitys possible and an ideal hotel for a buiseness stay or city trip\n",
      "------------\n",
      "Excellent hotel & service , Very happy with food Ignore the complainers ! ( If you are one · Dont expect Macdonalds or fish & chips if you go to a foreign country ! ) The five free restaurants gave an excellent choice of food although beach bar was just chips , burgers , hotdogs ( occasional BBQ fish ) and salad , All staff very friendly and service was excellent , ( These were the typical views of the vast majority of British people we spoke to at the location too , ) Booked through Flights and Packages who were excellent .\n",
      "------------\n",
      "Nicest hotel ever ! This was my favourite holiday place I have ever been to ! Will definitely be retuning , advise people to go here for a great holiday ! People are great ! Staff are great and the whole holiday package was fantastic !\n",
      "------------\n",
      "Definitely not a five star hotel ! First impression was good , Excellent check in and given all information needed , Then started realizing that the money we paid were far too much for what we got ! ! All staff excellent and always willing to help but lack of management and easy to see that services not even close to 5 star , Choice of food very poor , not enough staff so employees were running like crazy , and you could tell there is a lack of management ! !\n",
      "------------\n",
      "5 stars Great design hotel , where every detail is looked after , The villa was very spacious , with living room with private terrace , fantastic bathroom and a really nice bed , Staff was always happy to comply with our wishes , Absolutely unique pools , Excellent restaurants offering a wide range .\n",
      "------------\n",
      "They steal your stuff In 2011 I stayed there with my Fam , I bought a pair of Converse sneakers , I thought it would be safe to keep them in my room , The next day I found out that my new Converse were stolen , The manager of the hotel didn 't do anything , He promised me he would contact me , but he NEVER did , I will NOT recommend this hotel to anyone , And they will never have me as a guest again .\n",
      "------------\n",
      "Never again loud and noisy , despite rule tat fron 22 ; 00 everything must be quit , staff says ; bad luck 'also staaf was responsible for serious damage on my motorcycle , which was put in a bike shed 'only they could enter ' no adequate respons to that , So , same price as cheap hotel , crappy room , food is horrible , we left it and went into town for food , no night rest and a few 100 euro damage on motorbike ..\n",
      "------------\n",
      "Level Club at Melia It 's Michel and Pamela We took the package of the honeymooners , and we spent one of the best holidays ever ! Having the Level Member offer , we had several VIP services ( free mini bar refilled , bottle of wine as a welcoming reception , VIP restaurant for breakfast , free lounge bar access ( alcohol + sweets + tea / coffee / ... ) , discount on several things ( restaurant , laundry , shopping areas , clubs ... ) VIP area at the pool and in the garden , special SPA treatment and many other special services ... The service at the LEVEL lounge bar was amazing , there was a hostess named Anna , she was so friendly , smart , very elegant and treated us as VIPs , She deserves an excellent rating too .. Overall , all the stay was WOW , as we have amazing 8 days at a luxurious hotel , We will surely visit it again next summer !\n",
      "------------\n",
      "Cozy French hotel near to Monmarte It was really cozy french style hotel because it was small but still quite nice if you don 't expect much of a hotel , It really inspires to go out and spend more time at the city and Paris is worth to explore definitely , Monmarte is really near ( about 1mile ) , so it great to walk around hotel and this part of the city is not so crowded , so location is excellent , Metro , buses and train stations are near , Staff is not the most positive persons in the world but still helpful and understanding if you need something , For business trips as well as for short stays · great place to stay at .\n",
      "------------\n",
      "Good value for money As a HH Diamond I booked a standard guest room and got upgraded to an Executive room , Even though the hotel is build in the 70s everything was in good shape , Lobby , Executive Lounge and Room left a good impression , The rooms are on the smaller side but again my room seemed to be in good shape , As a Diamond you get the choice of breakfast either in the Exec , Lounge or restaurant , As I had a very early flight I did not get a chance to try the breakfast , Checkin was fast , convenient and friendly , With a rate of 95 € the price was good food an airport hotel , Would recommend when in transit .\n",
      "------------\n"
     ]
    }
   ],
   "source": [
    "for i in train[20:30]:\n",
    "    print(i['text'])\n",
    "    print('------------')"
   ]
  },
  {
   "cell_type": "code",
   "execution_count": 16,
   "metadata": {},
   "outputs": [],
   "source": [
    "def lower_exceptI (txt):\n",
    "    if txt == 'i' or txt == 'I':\n",
    "        return 'I'\n",
    "    else:\n",
    "        lst = list(txt.lower())\n",
    "        for i in range(len(lst)):\n",
    "            if i+1 < len(lst) and i-1 >= 0:\n",
    "                if lst[i] == 'i' and (lst[i+1] == ' ' or lst[i+1] in string.punctuation) and lst[i-1] == ' ':\n",
    "                    lst[i] = lst[i].upper()\n",
    "                elif lst[i] == 'i' and (lst[i+1].isalpha() == False) and (lst[i-1].isalpha() == False):\n",
    "                    lst[i] = lst[i].upper()\n",
    "            elif i == 0 and lst[i] == 'i' and (lst[i+1] == ' ' or lst[i+1] in string.punctuation):\n",
    "                lst[i] = lst[i].upper()\n",
    "            else:\n",
    "                lst[i] = lst[i].lower()\n",
    "        return (\"\".join(lst))"
   ]
  },
  {
   "cell_type": "code",
   "execution_count": 17,
   "metadata": {},
   "outputs": [],
   "source": [
    "# convert uppercase to lowercase for all letters (also for targets and expression)\n",
    "# only I be uppercase\n",
    "for data in [train, test, yelp]:\n",
    "    for i in range(len(data)):\n",
    "        data[i]['text'] = lower_exceptI(data[i]['text'])\n",
    "\n",
    "        if len(data[i]['opinions']) > 0:\n",
    "            for op in range(len(data[i]['opinions'])):\n",
    "                source = data[i]['opinions'][op]['Source'][0]\n",
    "                target = data[i]['opinions'][op]['Target'][0]\n",
    "                exp = data[i]['opinions'][op]['Polar_expression'][0]\n",
    "\n",
    "                source_lower = [lower_exceptI(s) for s in source]\n",
    "                target_lower = [lower_exceptI(t) for t in target]\n",
    "                exp_lower = [lower_exceptI(e) for e in exp]\n",
    "\n",
    "                data[i]['opinions'][op]['Source'][0] = source_lower\n",
    "                data[i]['opinions'][op]['Target'][0] = target_lower\n",
    "                data[i]['opinions'][op]['Polar_expression'][0] = exp_lower "
   ]
  },
  {
   "cell_type": "code",
   "execution_count": 18,
   "metadata": {},
   "outputs": [],
   "source": [
    "# replace , ! with and\n",
    "for data in [train, test, yelp]:\n",
    "    for i in range(len(data)):\n",
    "        text = data[i]['text']\n",
    "        text = text.replace(' , ', ' and ')\n",
    "        text = text.replace(' ! ', ' and ')\n",
    "        text = text.replace(' and !', ' ! !')\n",
    "        text = text.replace('and but', 'but')\n",
    "        data[i]['text'] = text"
   ]
  },
  {
   "cell_type": "code",
   "execution_count": 15,
   "metadata": {},
   "outputs": [
    {
     "name": "stdout",
     "output_type": "stream",
     "text": [
      "sensational located superfriendly hotel top of the tops and the staff was frienly and the rooms were new renovarted in a luxury modern style and very clean and fine and a lot of opportunitys possible and an ideal hotel for a buiseness stay or city trip\n",
      "------------\n",
      "excellent hotel & service and very happy with food ignore the complainers and ( if you are one · dont expect macdonalds or fish & chips if you go to a foreign country and ) the five free restaurants gave an excellent choice of food although beach bar was just chips and burgers and hotdogs ( occasional bbq fish ) and salad and all staff very friendly and service was excellent and ( these were the typical views of the vast majority of british people we spoke to at the location too and ) booked through flights and packages who were excellent .\n",
      "------------\n",
      "nicest hotel ever and this was my favourite holiday place I have ever been to and will definitely be retuning and advise people to go here for a great holiday and people are great and staff are great and the whole holiday package was fantastic !\n",
      "------------\n",
      "definitely not a five star hotel and first impression was good and excellent check in and given all information needed and then started realizing that the money we paid were far too much for what we got ! ! all staff excellent and always willing to help but lack of management and easy to see that services not even close to 5 star and choice of food very poor and not enough staff so employees were running like crazy and and you could tell there is a lack of management ! !\n",
      "------------\n",
      "5 stars great design hotel and where every detail is looked after and the villa was very spacious and with living room with private terrace and fantastic bathroom and a really nice bed and staff was always happy to comply with our wishes and absolutely unique pools and excellent restaurants offering a wide range .\n",
      "------------\n",
      "they steal your stuff in 2011 I stayed there with my fam and I bought a pair of converse sneakers and I thought it would be safe to keep them in my room and the next day I found out that my new converse were stolen and the manager of the hotel didn 't do anything and he promised me he would contact me but he never did and I will not recommend this hotel to anyone and and they will never have me as a guest again .\n",
      "------------\n",
      "never again loud and noisy and despite rule tat fron 22 ; 00 everything must be quit and staff says ; bad luck 'also staaf was responsible for serious damage on my motorcycle and which was put in a bike shed 'only they could enter ' no adequate respons to that and so and same price as cheap hotel and crappy room and food is horrible and we left it and went into town for food and no night rest and a few 100 euro damage on motorbike ..\n",
      "------------\n",
      "level club at melia it 's michel and pamela we took the package of the honeymooners and and we spent one of the best holidays ever and having the level member offer and we had several vip services ( free mini bar refilled and bottle of wine as a welcoming reception and vip restaurant for breakfast and free lounge bar access ( alcohol + sweets + tea / coffee / ... ) and discount on several things ( restaurant and laundry and shopping areas and clubs ... ) vip area at the pool and in the garden and special spa treatment and many other special services ... the service at the level lounge bar was amazing and there was a hostess named anna and she was so friendly and smart and very elegant and treated us as vips and she deserves an excellent rating too .. overall and all the stay was wow and as we have amazing 8 days at a luxurious hotel and we will surely visit it again next summer !\n",
      "------------\n",
      "cozy french hotel near to monmarte it was really cozy french style hotel because it was small but still quite nice if you don 't expect much of a hotel and it really inspires to go out and spend more time at the city and paris is worth to explore definitely and monmarte is really near ( about 1mile ) and so it great to walk around hotel and this part of the city is not so crowded and so location is excellent and metro and buses and train stations are near and staff is not the most positive persons in the world but still helpful and understanding if you need something and for business trips as well as for short stays · great place to stay at .\n",
      "------------\n",
      "good value for money as a hh diamond I booked a standard guest room and got upgraded to an executive room and even though the hotel is build in the 70s everything was in good shape and lobby and executive lounge and room left a good impression and the rooms are on the smaller side but again my room seemed to be in good shape and as a diamond you get the choice of breakfast either in the exec and lounge or restaurant and as I had a very early flight I did not get a chance to try the breakfast and checkin was fast and convenient and friendly and with a rate of 95 € the price was good food an airport hotel and would recommend when in transit .\n",
      "------------\n"
     ]
    }
   ],
   "source": [
    "for i in train[20:30]:\n",
    "    print(i['text'])\n",
    "    print('------------')"
   ]
  },
  {
   "cell_type": "code",
   "execution_count": 19,
   "metadata": {},
   "outputs": [
    {
     "data": {
      "text/plain": [
       "{'sent_id': 'TFS#2',\n",
       " 'text': 'the four seasons restaurant is a great experience and the food is great and the environment is even better .',\n",
       " 'opinions': [{'Source': [[], []],\n",
       "   'Target': [['the four seasons restaurant'], ['0:27']],\n",
       "   'Polar_expression': [['great experience.'], ['33:50']],\n",
       "   'Polarity': 'Positive',\n",
       "   'Intensity': 'Standard'},\n",
       "  {'Source': [[], []],\n",
       "   'Target': [['the food'], ['0:8']],\n",
       "   'Polar_expression': [['great'], ['12:17']],\n",
       "   'Polarity': 'Positive',\n",
       "   'Intensity': 'Standard'},\n",
       "  {'Source': [[], []],\n",
       "   'Target': [['the environment'], ['22:37']],\n",
       "   'Polar_expression': [['even better.'], ['41:53']],\n",
       "   'Polarity': 'Negative',\n",
       "   'Intensity': 'Standard'}],\n",
       " 'dataset': 's16+_train'}"
      ]
     },
     "execution_count": 19,
     "metadata": {},
     "output_type": "execute_result"
    }
   ],
   "source": [
    "train[-7]"
   ]
  },
  {
   "cell_type": "code",
   "execution_count": 20,
   "metadata": {},
   "outputs": [
    {
     "data": {
      "text/plain": [
       "{'review_id': 'gWLiqQWybWwIZS4gT9Spbw',\n",
       " 'user_id': 'ryNLy69uEwBSGQfSl5ZXzg',\n",
       " 'business_id': '_ab50qdWOk0DdB6XOrBitw',\n",
       " 'stars': 3.0,\n",
       " 'useful': 0,\n",
       " 'funny': 0,\n",
       " 'cool': 0,\n",
       " 'text': 'acme has a welcoming atmosphere to a city guy and old and not much natural light and bustling and and kind of dirty like every bar should be ,I ate here twice for quick lunches and my first experience was better and seated at the oyster bar and the shucker was quite friendly and after serving me 10 oysters (I ordered the half dozen ) he asked how I enjoyed them and \"I dont touch \\'em, \" he replied to my favorable review and it was pretty funny ,I also had the seafood gumbo and their signature po\\'boy and which were both decent ,go for oysters and beer .',\n",
       " 'date': '2008-09-30 15:00:00',\n",
       " 'sent_id': 'gWLiqQWybWwIZS4gT9Spbw',\n",
       " 'opinions': []}"
      ]
     },
     "execution_count": 20,
     "metadata": {},
     "output_type": "execute_result"
    }
   ],
   "source": [
    "yelp[1]"
   ]
  },
  {
   "cell_type": "code",
   "execution_count": 48,
   "metadata": {},
   "outputs": [],
   "source": [
    "# output json \n",
    "with open('../data/semEval16_plus/noperiod_dev.json', 'w') as outfile1:\n",
    "    json.dump(test, outfile1, ensure_ascii = False, indent = 4)"
   ]
  },
  {
   "cell_type": "code",
   "execution_count": 47,
   "metadata": {},
   "outputs": [],
   "source": [
    "# output json \n",
    "with open('../data/semEval16_plus/noperiod_train.json', 'w') as outfile2:\n",
    "    json.dump(train, outfile2, ensure_ascii = False, indent = 4)"
   ]
  },
  {
   "cell_type": "code",
   "execution_count": 21,
   "metadata": {},
   "outputs": [],
   "source": [
    "# output json \n",
    "with open('../data/yelp/inference/yelp-food-nopr_2rest100.json', 'w') as outfile2:\n",
    "    json.dump(yelp, outfile2, ensure_ascii = False, indent = 4)"
   ]
  }
 ],
 "metadata": {
  "kernelspec": {
   "display_name": "Python 3.6.9 ('qwe9887476': venv)",
   "language": "python",
   "name": "python3"
  },
  "language_info": {
   "codemirror_mode": {
    "name": "ipython",
    "version": 3
   },
   "file_extension": ".py",
   "mimetype": "text/x-python",
   "name": "python",
   "nbconvert_exporter": "python",
   "pygments_lexer": "ipython3",
   "version": "3.6.9"
  },
  "orig_nbformat": 4,
  "vscode": {
   "interpreter": {
    "hash": "5bf6df6aca0587c3d575cbe78d8d9df74e83db4ef5eb69188bbfb0803a9e9627"
   }
  }
 },
 "nbformat": 4,
 "nbformat_minor": 2
}
