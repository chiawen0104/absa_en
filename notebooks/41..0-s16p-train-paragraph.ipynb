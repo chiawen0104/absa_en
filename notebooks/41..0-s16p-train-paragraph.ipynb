{
 "cells": [
  {
   "cell_type": "code",
   "execution_count": 2,
   "metadata": {},
   "outputs": [],
   "source": [
    "import pandas as pd\n",
    "import json"
   ]
  },
  {
   "cell_type": "code",
   "execution_count": 3,
   "metadata": {},
   "outputs": [
    {
     "data": {
      "text/plain": [
       "[{'sent_id': 'opener_en/kaf/hotel/english00192_e3fe22eeb360723a699504a27e13065e-1',\n",
       "  'text': 'Experienced staff and had a memorable stay',\n",
       "  'opinions': [],\n",
       "  'dataset': 'opener_en'},\n",
       " {'sent_id': 'opener_en/kaf/hotel/english00192_e3fe22eeb360723a699504a27e13065e-2',\n",
       "  'text': 'India as a country has always fascinated me and all of my friends who have been there always have wonderful things to say about it .',\n",
       "  'opinions': [],\n",
       "  'dataset': 'opener_en'},\n",
       " {'sent_id': 'opener_en/kaf/hotel/english00192_e3fe22eeb360723a699504a27e13065e-3',\n",
       "  'text': 'One of my friends who had been there before was planning a weeklong trip to Rajasthan in India and I decided to join him this time .',\n",
       "  'opinions': [],\n",
       "  'dataset': 'opener_en'}]"
      ]
     },
     "execution_count": 3,
     "metadata": {},
     "output_type": "execute_result"
    }
   ],
   "source": [
    "with open('../data/semEval16_plus/mixed_train.json') as f:\n",
    "    sent_train = json.load(f)\n",
    "\n",
    "sent_train[:3]"
   ]
  },
  {
   "cell_type": "code",
   "execution_count": 4,
   "metadata": {},
   "outputs": [],
   "source": [
    "for i in range(len(sent_train)):\n",
    "    if sent_train[i]['dataset'] == 's16+_train':\n",
    "        # print(sent_train[i])\n",
    "        if len(sent_train[i]['opinions']) > 0:\n",
    "            for o in range(len(sent_train[i]['opinions'])):\n",
    "                del sent_train[i]['opinions'][o]['Matching']"
   ]
  },
  {
   "cell_type": "code",
   "execution_count": 5,
   "metadata": {},
   "outputs": [
    {
     "data": {
      "text/plain": [
       "2367"
      ]
     },
     "execution_count": 5,
     "metadata": {},
     "output_type": "execute_result"
    }
   ],
   "source": [
    "len(sent_train)"
   ]
  },
  {
   "cell_type": "code",
   "execution_count": 6,
   "metadata": {},
   "outputs": [
    {
     "name": "stdout",
     "output_type": "stream",
     "text": [
      "580 reviews in total\n"
     ]
    }
   ],
   "source": [
    "sentid_list = []\n",
    "\n",
    "for train in sent_train:\n",
    "    sentid = ''\n",
    "    if train['dataset'] == 'opener_en':\n",
    "        if train['sent_id'][-2] == '-':\n",
    "            sentid = train['sent_id'][:-2]\n",
    "            # print(train['sent_id'])\n",
    "        else:\n",
    "            sentid = train['sent_id'][:-3]\n",
    "    else: #s16p\n",
    "        if train['sent_id'][-2] == ':':\n",
    "            sentid = train['sent_id'][:-2]\n",
    "            # print(train['sent_id'])\n",
    "        else:\n",
    "            sentid = train['sent_id'][:-3]\n",
    "\n",
    "    if sentid not in sentid_list:\n",
    "            sentid_list.append(sentid)\n",
    "\n",
    "print(f'{len(sentid_list)} reviews in total')\n",
    "# print(f'total length: {len(sent_train)}')\n",
    "# print(f'nonempty opinion sent: {nonempty_sent}')        "
   ]
  },
  {
   "cell_type": "code",
   "execution_count": 7,
   "metadata": {},
   "outputs": [
    {
     "data": {
      "text/plain": [
       "[{'sent_id': 'opener_en/kaf/hotel/english00192_e3fe22eeb360723a699504a27e13065e',\n",
       "  'text': '',\n",
       "  'opinions': [],\n",
       "  'dataset': ''},\n",
       " {'sent_id': 'opener_en/kaf/hotel/english00073_4ec3ca101056f97554290430ff17c373',\n",
       "  'text': '',\n",
       "  'opinions': [],\n",
       "  'dataset': ''},\n",
       " {'sent_id': 'opener_en/kaf/hotel/english00021_200ecfff7ef01cd7ca9402afef5965da',\n",
       "  'text': '',\n",
       "  'opinions': [],\n",
       "  'dataset': ''},\n",
       " {'sent_id': 'opener_en/kaf/hotel/english00167_cc796a2ecc444b13f812e5ff758ba063',\n",
       "  'text': '',\n",
       "  'opinions': [],\n",
       "  'dataset': ''},\n",
       " {'sent_id': 'opener_en/kaf/hotel/english00028_215e138d3847d893cf98d98f444770c3',\n",
       "  'text': '',\n",
       "  'opinions': [],\n",
       "  'dataset': ''}]"
      ]
     },
     "execution_count": 7,
     "metadata": {},
     "output_type": "execute_result"
    }
   ],
   "source": [
    "review_train = []\n",
    "\n",
    "for sid in sentid_list:\n",
    "    review_train.append({'sent_id': sid, 'text': '', 'opinions': [], 'dataset': ''})\n",
    "\n",
    "review_train[:5]"
   ]
  },
  {
   "cell_type": "code",
   "execution_count": 8,
   "metadata": {},
   "outputs": [],
   "source": [
    "for i in range(len(review_train)):\n",
    "    text = ''\n",
    "    opinions = []\n",
    "    dataset = ''\n",
    "\n",
    "    for train in sent_train:\n",
    "        sentid = ''\n",
    "\n",
    "        if train['dataset'] == 'opener_en':\n",
    "            if train['sent_id'][-2] == '-':\n",
    "                sentid = train['sent_id'][:-2]\n",
    "            else:\n",
    "                sentid = train['sent_id'][:-3]\n",
    "        else: #s16p\n",
    "            if train['sent_id'][-2] == ':':\n",
    "                sentid = train['sent_id'][:-2]\n",
    "            else:\n",
    "                sentid = train['sent_id'][:-3]\n",
    "        \n",
    "        \n",
    "        if sentid == review_train[i]['sent_id']:\n",
    "            text = text + ' ' + train['text']\n",
    "            dataset = train['dataset']\n",
    "\n",
    "            if len(train['opinions']) > 0:\n",
    "                opinions = opinions + train['opinions']\n",
    "\n",
    "    review_train[i]['text'] = text\n",
    "    review_train[i]['opinions'] = opinions\n",
    "    review_train[i]['dataset'] = dataset"
   ]
  },
  {
   "cell_type": "code",
   "execution_count": 9,
   "metadata": {},
   "outputs": [
    {
     "data": {
      "text/plain": [
       "579"
      ]
     },
     "execution_count": 9,
     "metadata": {},
     "output_type": "execute_result"
    }
   ],
   "source": [
    "removeindex = 0\n",
    "for r in range(len(review_train)):# one element with empty opinion\n",
    "    if len(review_train[r]['opinions']) == 0:\n",
    "        removeindex = r\n",
    "        break\n",
    "\n",
    "review_train.remove(review_train[removeindex])\n",
    "len(review_train)"
   ]
  },
  {
   "cell_type": "code",
   "execution_count": 12,
   "metadata": {},
   "outputs": [
    {
     "data": {
      "text/plain": [
       "{'sent_id': 'FF#10',\n",
       " 'text': ' bad staff The food is good. But the service is HORRID!',\n",
       " 'opinions': [{'Source': [[], []],\n",
       "   'Target': [['staff'], ['4:9']],\n",
       "   'Polar_expression': [['bad'], ['0:3']],\n",
       "   'Polarity': 'Positive',\n",
       "   'Intensity': 'Standard'},\n",
       "  {'Source': [[], []],\n",
       "   'Target': [['The food'], ['0:8']],\n",
       "   'Polar_expression': [['good.'], ['12:17']],\n",
       "   'Polarity': 'Positive',\n",
       "   'Intensity': 'Standard'},\n",
       "  {'Source': [[], []],\n",
       "   'Target': [['the service'], ['4:15']],\n",
       "   'Polar_expression': [['HORRID!'], ['19:26']],\n",
       "   'Polarity': 'Positive',\n",
       "   'Intensity': 'Standard'}],\n",
       " 'dataset': 's16+_train'}"
      ]
     },
     "execution_count": 12,
     "metadata": {},
     "output_type": "execute_result"
    }
   ],
   "source": [
    "review_train[-1]"
   ]
  },
  {
   "cell_type": "code",
   "execution_count": 14,
   "metadata": {},
   "outputs": [],
   "source": [
    "# output json \n",
    "with open('../data/semEval16_plus/review_train.json', 'w') as outfile:\n",
    "    json.dump(review_train, outfile)"
   ]
  }
 ],
 "metadata": {
  "kernelspec": {
   "display_name": "Python 3.6.9 ('qwe9887476': venv)",
   "language": "python",
   "name": "python3"
  },
  "language_info": {
   "codemirror_mode": {
    "name": "ipython",
    "version": 3
   },
   "file_extension": ".py",
   "mimetype": "text/x-python",
   "name": "python",
   "nbconvert_exporter": "python",
   "pygments_lexer": "ipython3",
   "version": "3.6.9"
  },
  "orig_nbformat": 4,
  "vscode": {
   "interpreter": {
    "hash": "5bf6df6aca0587c3d575cbe78d8d9df74e83db4ef5eb69188bbfb0803a9e9627"
   }
  }
 },
 "nbformat": 4,
 "nbformat_minor": 2
}
