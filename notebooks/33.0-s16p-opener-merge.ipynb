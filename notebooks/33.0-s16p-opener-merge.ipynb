{
 "cells": [
  {
   "cell_type": "code",
   "execution_count": 13,
   "metadata": {},
   "outputs": [
    {
     "data": {
      "text/plain": [
       "1744"
      ]
     },
     "execution_count": 13,
     "metadata": {},
     "output_type": "execute_result"
    }
   ],
   "source": [
    "import json\n",
    "\n",
    "with open('../../../semeval22_structured_sentiment/data/opener_en/train.json') as f:\n",
    "    oper = json.load(f)\n",
    "\n",
    "len(oper)"
   ]
  },
  {
   "cell_type": "code",
   "execution_count": 14,
   "metadata": {},
   "outputs": [
    {
     "data": {
      "text/plain": [
       "2884"
      ]
     },
     "execution_count": 14,
     "metadata": {},
     "output_type": "execute_result"
    }
   ],
   "source": [
    "# count number of opinions\n",
    "\n",
    "count = 0\n",
    "for i in oper:\n",
    "    count += len(i['opinions'])\n",
    "\n",
    "count"
   ]
  },
  {
   "cell_type": "code",
   "execution_count": 2,
   "metadata": {},
   "outputs": [
    {
     "data": {
      "text/plain": [
       "[{'sent_id': 'opener_en/kaf/hotel/english00192_e3fe22eeb360723a699504a27e13065e-1',\n",
       "  'text': 'Experienced staff and had a memorable stay',\n",
       "  'opinions': [],\n",
       "  'dataset': 'opener_en'},\n",
       " {'sent_id': 'opener_en/kaf/hotel/english00192_e3fe22eeb360723a699504a27e13065e-2',\n",
       "  'text': 'India as a country has always fascinated me and all of my friends who have been there always have wonderful things to say about it .',\n",
       "  'opinions': [],\n",
       "  'dataset': 'opener_en'},\n",
       " {'sent_id': 'opener_en/kaf/hotel/english00192_e3fe22eeb360723a699504a27e13065e-3',\n",
       "  'text': 'One of my friends who had been there before was planning a weeklong trip to Rajasthan in India and I decided to join him this time .',\n",
       "  'opinions': [],\n",
       "  'dataset': 'opener_en'},\n",
       " {'sent_id': 'opener_en/kaf/hotel/english00192_e3fe22eeb360723a699504a27e13065e-4',\n",
       "  'text': 'Yes , it really was a great experience and we visited various places but the most wonderful part of the trip was our stay at the Oberoi Udaivilas Luxury Hotel .',\n",
       "  'opinions': [{'Source': [[], []],\n",
       "    'Target': [['the Oberoi Udaivilas Luxury Hotel'], ['125:158']],\n",
       "    'Polar_expression': [['the most wonderful part of the trip'], ['73:108']],\n",
       "    'Polarity': 'Positive',\n",
       "    'Intensity': 'Standard'}],\n",
       "  'dataset': 'opener_en'},\n",
       " {'sent_id': 'opener_en/kaf/hotel/english00192_e3fe22eeb360723a699504a27e13065e-5',\n",
       "  'text': 'I can ’t explain in words how grand this place looks .',\n",
       "  'opinions': [{'Source': [[], []],\n",
       "    'Target': [['this place'], ['36:46']],\n",
       "    'Polar_expression': [['how grand', 'looks'], ['26:35', '47:52']],\n",
       "    'Polarity': 'Positive',\n",
       "    'Intensity': 'Standard'}],\n",
       "  'dataset': 'opener_en'},\n",
       " {'sent_id': 'opener_en/kaf/hotel/english00192_e3fe22eeb360723a699504a27e13065e-6',\n",
       "  'text': 'It is a unique blend of the old world royal charm and the modern luxuries .',\n",
       "  'opinions': [{'Source': [[], []],\n",
       "    'Target': [['It'], ['0:2']],\n",
       "    'Polar_expression': [['unique blend of the old world royal charm and the modern luxuries'],\n",
       "     ['8:73']],\n",
       "    'Polarity': 'Positive',\n",
       "    'Intensity': 'Strong'}],\n",
       "  'dataset': 'opener_en'},\n",
       " {'sent_id': 'opener_en/kaf/hotel/english00192_e3fe22eeb360723a699504a27e13065e-7',\n",
       "  'text': 'I ’m definitely going there again whenever I get a chance .',\n",
       "  'opinions': [{'Source': [['I'], ['0:1']],\n",
       "    'Target': [['there'], ['22:27']],\n",
       "    'Polar_expression': [['definitely going', 'again'], ['5:21', '28:33']],\n",
       "    'Polarity': 'Positive',\n",
       "    'Intensity': 'Strong'}],\n",
       "  'dataset': 'opener_en'},\n",
       " {'sent_id': 'opener_en/kaf/hotel/english00073_4ec3ca101056f97554290430ff17c373-1',\n",
       "  'text': 'Bit pricey and but away from center',\n",
       "  'opinions': [{'Source': [[], []],\n",
       "    'Target': [[], []],\n",
       "    'Polar_expression': [['Bit pricey'], ['0:10']],\n",
       "    'Polarity': 'Negative',\n",
       "    'Intensity': 'Standard'},\n",
       "   {'Source': [[], []],\n",
       "    'Target': [[], []],\n",
       "    'Polar_expression': [['away from center'], ['19:35']],\n",
       "    'Polarity': 'Negative',\n",
       "    'Intensity': 'Standard'}],\n",
       "  'dataset': 'opener_en'},\n",
       " {'sent_id': 'opener_en/kaf/hotel/english00073_4ec3ca101056f97554290430ff17c373-2',\n",
       "  'text': 'You need to count 20 · 30 minutes walking time to get to Dubling city center from this hotel .',\n",
       "  'opinions': [{'Source': [[], []],\n",
       "    'Target': [[], []],\n",
       "    'Polar_expression': [['20 · 30 minutes walking', 'to Dubling city center'],\n",
       "     ['18:41', '54:76']],\n",
       "    'Polarity': 'Negative',\n",
       "    'Intensity': 'Standard'}],\n",
       "  'dataset': 'opener_en'},\n",
       " {'sent_id': 'opener_en/kaf/hotel/english00073_4ec3ca101056f97554290430ff17c373-3',\n",
       "  'text': 'There is no sauna nor swimming pool .',\n",
       "  'opinions': [{'Source': [[], []],\n",
       "    'Target': [['sauna'], ['12:17']],\n",
       "    'Polar_expression': [['There is no'], ['0:11']],\n",
       "    'Polarity': 'Negative',\n",
       "    'Intensity': 'Standard'},\n",
       "   {'Source': [[], []],\n",
       "    'Target': [['swimming pool'], ['22:35']],\n",
       "    'Polar_expression': [['There is no'], ['0:11']],\n",
       "    'Polarity': 'Negative',\n",
       "    'Intensity': 'Standard'}],\n",
       "  'dataset': 'opener_en'}]"
      ]
     },
     "execution_count": 2,
     "metadata": {},
     "output_type": "execute_result"
    }
   ],
   "source": [
    "# add key of dataset\n",
    "\n",
    "for i in range(len(oper)):\n",
    "    oper[i]['dataset'] = 'opener_en'\n",
    "\n",
    "oper[:10]"
   ]
  },
  {
   "cell_type": "code",
   "execution_count": 12,
   "metadata": {},
   "outputs": [
    {
     "data": {
      "text/plain": [
       "623"
      ]
     },
     "execution_count": 12,
     "metadata": {},
     "output_type": "execute_result"
    }
   ],
   "source": [
    "with open('../data/semEval16_plus/s16+_train.json') as f:\n",
    "    s16p = json.load(f)\n",
    "\n",
    "len(s16p)"
   ]
  },
  {
   "cell_type": "code",
   "execution_count": 15,
   "metadata": {},
   "outputs": [
    {
     "data": {
      "text/plain": [
       "928"
      ]
     },
     "execution_count": 15,
     "metadata": {},
     "output_type": "execute_result"
    }
   ],
   "source": [
    "# count number of opinions\n",
    "\n",
    "count = 0\n",
    "for i in s16p:\n",
    "    count += len(i['opinions'])\n",
    "\n",
    "count"
   ]
  },
  {
   "cell_type": "code",
   "execution_count": 4,
   "metadata": {},
   "outputs": [
    {
     "data": {
      "text/plain": [
       "2367"
      ]
     },
     "execution_count": 4,
     "metadata": {},
     "output_type": "execute_result"
    }
   ],
   "source": [
    "merge_list = oper\n",
    "\n",
    "for i in s16p:\n",
    "    merge_list.append(i)\n",
    "\n",
    "len(merge_list)"
   ]
  },
  {
   "cell_type": "code",
   "execution_count": 19,
   "metadata": {},
   "outputs": [],
   "source": [
    "# output to json file\n",
    "\n",
    "with open('../semEval16_plus/mixed_train.json', 'w') as outfile:\n",
    "    json.dump(merge_list, outfile)"
   ]
  }
 ],
 "metadata": {
  "kernelspec": {
   "display_name": "Python 3.6.9 ('qwe9887476': venv)",
   "language": "python",
   "name": "python3"
  },
  "language_info": {
   "codemirror_mode": {
    "name": "ipython",
    "version": 3
   },
   "file_extension": ".py",
   "mimetype": "text/x-python",
   "name": "python",
   "nbconvert_exporter": "python",
   "pygments_lexer": "ipython3",
   "version": "3.6.9"
  },
  "orig_nbformat": 4,
  "vscode": {
   "interpreter": {
    "hash": "5bf6df6aca0587c3d575cbe78d8d9df74e83db4ef5eb69188bbfb0803a9e9627"
   }
  }
 },
 "nbformat": 4,
 "nbformat_minor": 2
}
