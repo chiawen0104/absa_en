{
 "cells": [
  {
   "cell_type": "code",
   "execution_count": 1,
   "metadata": {},
   "outputs": [],
   "source": [
    "import pandas as pd\n",
    "import json"
   ]
  },
  {
   "cell_type": "markdown",
   "metadata": {},
   "source": [
    "### Combine sentences of training data"
   ]
  },
  {
   "cell_type": "code",
   "execution_count": 2,
   "metadata": {},
   "outputs": [
    {
     "data": {
      "text/plain": [
       "[{'sent_id': 'opener_en/kaf/hotel/english00192_e3fe22eeb360723a699504a27e13065e-1',\n",
       "  'text': 'Experienced staff and had a memorable stay',\n",
       "  'opinions': [],\n",
       "  'dataset': 'opener_en'},\n",
       " {'sent_id': 'opener_en/kaf/hotel/english00192_e3fe22eeb360723a699504a27e13065e-2',\n",
       "  'text': 'India as a country has always fascinated me and all of my friends who have been there always have wonderful things to say about it .',\n",
       "  'opinions': [],\n",
       "  'dataset': 'opener_en'},\n",
       " {'sent_id': 'opener_en/kaf/hotel/english00192_e3fe22eeb360723a699504a27e13065e-3',\n",
       "  'text': 'One of my friends who had been there before was planning a weeklong trip to Rajasthan in India and I decided to join him this time .',\n",
       "  'opinions': [],\n",
       "  'dataset': 'opener_en'}]"
      ]
     },
     "execution_count": 2,
     "metadata": {},
     "output_type": "execute_result"
    }
   ],
   "source": [
    "with open('../data/semEval16_plus/mixed_train.json') as f:\n",
    "    sent_train = json.load(f)\n",
    "\n",
    "sent_train[:3]"
   ]
  },
  {
   "cell_type": "code",
   "execution_count": 3,
   "metadata": {},
   "outputs": [],
   "source": [
    "# remove noused key\n",
    "for i in range(len(sent_train)):\n",
    "    if sent_train[i]['dataset'] == 's16+_train':\n",
    "        # print(sent_train[i])\n",
    "        if len(sent_train[i]['opinions']) > 0:\n",
    "            for o in range(len(sent_train[i]['opinions'])):\n",
    "                del sent_train[i]['opinions'][o]['Matching']"
   ]
  },
  {
   "cell_type": "code",
   "execution_count": 4,
   "metadata": {},
   "outputs": [
    {
     "data": {
      "text/plain": [
       "2367"
      ]
     },
     "execution_count": 4,
     "metadata": {},
     "output_type": "execute_result"
    }
   ],
   "source": [
    "len(sent_train)"
   ]
  },
  {
   "cell_type": "code",
   "execution_count": 5,
   "metadata": {},
   "outputs": [
    {
     "name": "stdout",
     "output_type": "stream",
     "text": [
      "580 reviews in total\n"
     ]
    }
   ],
   "source": [
    "sentid_list = []\n",
    "\n",
    "for train in sent_train:\n",
    "    sentid = ''\n",
    "    if train['dataset'] == 'opener_en':\n",
    "        if train['sent_id'][-2] == '-':\n",
    "            sentid = train['sent_id'][:-2]\n",
    "            # print(train['sent_id'])\n",
    "        else:\n",
    "            sentid = train['sent_id'][:-3]\n",
    "    else: #s16p\n",
    "        if train['sent_id'][-2] == ':':\n",
    "            sentid = train['sent_id'][:-2]\n",
    "            # print(train['sent_id'])\n",
    "        else:\n",
    "            sentid = train['sent_id'][:-3]\n",
    "\n",
    "    if sentid not in sentid_list:\n",
    "            sentid_list.append(sentid)\n",
    "\n",
    "print(f'{len(sentid_list)} reviews in total')\n",
    "# print(f'total length: {len(sent_train)}')\n",
    "# print(f'nonempty opinion sent: {nonempty_sent}')        "
   ]
  },
  {
   "cell_type": "code",
   "execution_count": 6,
   "metadata": {},
   "outputs": [
    {
     "data": {
      "text/plain": [
       "[{'sent_id': 'opener_en/kaf/hotel/english00192_e3fe22eeb360723a699504a27e13065e',\n",
       "  'text': '',\n",
       "  'opinions': [],\n",
       "  'dataset': ''},\n",
       " {'sent_id': 'opener_en/kaf/hotel/english00073_4ec3ca101056f97554290430ff17c373',\n",
       "  'text': '',\n",
       "  'opinions': [],\n",
       "  'dataset': ''},\n",
       " {'sent_id': 'opener_en/kaf/hotel/english00021_200ecfff7ef01cd7ca9402afef5965da',\n",
       "  'text': '',\n",
       "  'opinions': [],\n",
       "  'dataset': ''},\n",
       " {'sent_id': 'opener_en/kaf/hotel/english00167_cc796a2ecc444b13f812e5ff758ba063',\n",
       "  'text': '',\n",
       "  'opinions': [],\n",
       "  'dataset': ''},\n",
       " {'sent_id': 'opener_en/kaf/hotel/english00028_215e138d3847d893cf98d98f444770c3',\n",
       "  'text': '',\n",
       "  'opinions': [],\n",
       "  'dataset': ''}]"
      ]
     },
     "execution_count": 6,
     "metadata": {},
     "output_type": "execute_result"
    }
   ],
   "source": [
    "review_train = []\n",
    "\n",
    "for sid in sentid_list:\n",
    "    review_train.append({'sent_id': sid, 'text': '', 'opinions': [], 'dataset': ''})\n",
    "\n",
    "review_train[:5]"
   ]
  },
  {
   "cell_type": "code",
   "execution_count": 7,
   "metadata": {},
   "outputs": [],
   "source": [
    "for i in range(len(review_train)):\n",
    "    text = ''\n",
    "    opinions = []\n",
    "    dataset = ''\n",
    "\n",
    "    for train in sent_train:\n",
    "        sentid = ''\n",
    "\n",
    "        if train['dataset'] == 'opener_en':\n",
    "            if train['sent_id'][-2] == '-':\n",
    "                sentid = train['sent_id'][:-2]\n",
    "            else:\n",
    "                sentid = train['sent_id'][:-3]\n",
    "        else: #s16p\n",
    "            if train['sent_id'][-2] == ':':\n",
    "                sentid = train['sent_id'][:-2]\n",
    "            else:\n",
    "                sentid = train['sent_id'][:-3]\n",
    "        \n",
    "        \n",
    "        if sentid == review_train[i]['sent_id']:\n",
    "            text = text + ' ' + train['text']\n",
    "            dataset = train['dataset']\n",
    "\n",
    "            if len(train['opinions']) > 0:\n",
    "                opinions = opinions + train['opinions']\n",
    "\n",
    "    review_train[i]['text'] = text\n",
    "    review_train[i]['opinions'] = opinions\n",
    "    review_train[i]['dataset'] = dataset"
   ]
  },
  {
   "cell_type": "code",
   "execution_count": 8,
   "metadata": {},
   "outputs": [
    {
     "data": {
      "text/plain": [
       "579"
      ]
     },
     "execution_count": 8,
     "metadata": {},
     "output_type": "execute_result"
    }
   ],
   "source": [
    "removeindex = 0\n",
    "for r in range(len(review_train)):# one element with empty opinion\n",
    "    if len(review_train[r]['opinions']) == 0:\n",
    "        removeindex = r\n",
    "        break\n",
    "\n",
    "review_train.remove(review_train[removeindex])\n",
    "len(review_train)"
   ]
  },
  {
   "cell_type": "code",
   "execution_count": 9,
   "metadata": {},
   "outputs": [],
   "source": [
    "for i in range(len(review_train)):\n",
    "    if review_train[i]['text'][0] == ' ':\n",
    "        text2 = review_train[i]['text'][1:]\n",
    "        review_train[i]['text'] = text2"
   ]
  },
  {
   "cell_type": "code",
   "execution_count": 10,
   "metadata": {},
   "outputs": [
    {
     "data": {
      "text/plain": [
       "{'sent_id': 'FF#10',\n",
       " 'text': 'bad staff The food is good. But the service is HORRID!',\n",
       " 'opinions': [{'Source': [[], []],\n",
       "   'Target': [['staff'], ['4:9']],\n",
       "   'Polar_expression': [['bad'], ['0:3']],\n",
       "   'Polarity': 'Positive',\n",
       "   'Intensity': 'Standard'},\n",
       "  {'Source': [[], []],\n",
       "   'Target': [['The food'], ['0:8']],\n",
       "   'Polar_expression': [['good.'], ['12:17']],\n",
       "   'Polarity': 'Positive',\n",
       "   'Intensity': 'Standard'},\n",
       "  {'Source': [[], []],\n",
       "   'Target': [['the service'], ['4:15']],\n",
       "   'Polar_expression': [['HORRID!'], ['19:26']],\n",
       "   'Polarity': 'Positive',\n",
       "   'Intensity': 'Standard'}],\n",
       " 'dataset': 's16+_train'}"
      ]
     },
     "execution_count": 10,
     "metadata": {},
     "output_type": "execute_result"
    }
   ],
   "source": [
    "review_train[-1]"
   ]
  },
  {
   "cell_type": "code",
   "execution_count": 11,
   "metadata": {},
   "outputs": [],
   "source": [
    "# output json \n",
    "with open('../data/semEval16_plus/review_train.json', 'w') as outfile:\n",
    "    json.dump(review_train, outfile)"
   ]
  },
  {
   "cell_type": "markdown",
   "metadata": {},
   "source": [
    "### Combine sentences of dev(test) data"
   ]
  },
  {
   "cell_type": "code",
   "execution_count": 12,
   "metadata": {},
   "outputs": [
    {
     "data": {
      "text/plain": [
       "[{'sent_id': 'en_BlueRibbonSushi_478218171:1',\n",
       "  'text': 'Serves really good sushi.',\n",
       "  'opinions': [{'Source': [[], []],\n",
       "    'Target': [['sushi.'], ['19:25']],\n",
       "    'Polar_expression': [['good'], ['14:18']],\n",
       "    'Polarity': 'Positive',\n",
       "    'Intensity': 'Standard',\n",
       "    'Matching': True}],\n",
       "  'dataset': 's16+_test'},\n",
       " {'sent_id': 'en_BlueRibbonSushi_478218171:2',\n",
       "  'text': 'Not the biggest portions but adequate.',\n",
       "  'opinions': [{'Source': [[], []],\n",
       "    'Target': [['portions'], ['16:24']],\n",
       "    'Polar_expression': [['Not the biggest'], ['0:15']],\n",
       "    'Polarity': 'Negative',\n",
       "    'Intensity': 'Standard',\n",
       "    'Matching': True},\n",
       "   {'Source': [[], []],\n",
       "    'Target': [['portions'], ['16:24']],\n",
       "    'Polar_expression': [['adequate.'], ['29:38']],\n",
       "    'Polarity': 'Negative',\n",
       "    'Intensity': 'Standard',\n",
       "    'Matching': True}],\n",
       "  'dataset': 's16+_test'},\n",
       " {'sent_id': 'en_BlueRibbonSushi_478218171:3',\n",
       "  'text': 'Green Tea creme brulee is a must!',\n",
       "  'opinions': [{'Source': [[], []],\n",
       "    'Target': [['Green Tea creme brulee'], ['0:22']],\n",
       "    'Polar_expression': [['a must!'], ['26:33']],\n",
       "    'Polarity': 'Negative',\n",
       "    'Intensity': 'Standard',\n",
       "    'Matching': True}],\n",
       "  'dataset': 's16+_test'}]"
      ]
     },
     "execution_count": 12,
     "metadata": {},
     "output_type": "execute_result"
    }
   ],
   "source": [
    "with open('../data/semEval16_plus/s16+_test.json') as f:\n",
    "    sent_test = json.load(f)\n",
    "\n",
    "sent_test[:3]"
   ]
  },
  {
   "cell_type": "code",
   "execution_count": 13,
   "metadata": {},
   "outputs": [],
   "source": [
    "# remove noused key\n",
    "for i in range(len(sent_test)):\n",
    "    if len(sent_test[i]['opinions']) > 0:\n",
    "        for o in range(len(sent_test[i]['opinions'])):\n",
    "            del sent_test[i]['opinions'][o]['Matching']"
   ]
  },
  {
   "cell_type": "code",
   "execution_count": 14,
   "metadata": {},
   "outputs": [
    {
     "data": {
      "text/plain": [
       "250"
      ]
     },
     "execution_count": 14,
     "metadata": {},
     "output_type": "execute_result"
    }
   ],
   "source": [
    "len(sent_test)"
   ]
  },
  {
   "cell_type": "code",
   "execution_count": 15,
   "metadata": {},
   "outputs": [
    {
     "name": "stdout",
     "output_type": "stream",
     "text": [
      "83 reviews in total (sent_test)\n"
     ]
    }
   ],
   "source": [
    "sid_list = []\n",
    "\n",
    "for test in sent_test:\n",
    "    sentid = ''\n",
    "    \n",
    "    if test['sent_id'][-2] == ':':\n",
    "        sentid = test['sent_id'][:-2]\n",
    "        # print(train['sent_id'])\n",
    "    else:\n",
    "        sentid = test['sent_id'][:-3]\n",
    "\n",
    "    \n",
    "    if sentid not in sid_list:\n",
    "        sid_list.append(sentid)\n",
    "\n",
    "print(f'{len(sid_list)} reviews in total (sent_test)')"
   ]
  },
  {
   "cell_type": "code",
   "execution_count": 16,
   "metadata": {},
   "outputs": [
    {
     "data": {
      "text/plain": [
       "[{'sent_id': 'en_BlueRibbonSushi_478218171',\n",
       "  'text': '',\n",
       "  'opinions': [],\n",
       "  'dataset': ''},\n",
       " {'sent_id': 'en_BlueRibbonSushi_478218345',\n",
       "  'text': '',\n",
       "  'opinions': [],\n",
       "  'dataset': ''},\n",
       " {'sent_id': 'en_SchoonerOrLater_477965849',\n",
       "  'text': '',\n",
       "  'opinions': [],\n",
       "  'dataset': ''},\n",
       " {'sent_id': 'en_PagodaRestaurant_478006817',\n",
       "  'text': '',\n",
       "  'opinions': [],\n",
       "  'dataset': ''},\n",
       " {'sent_id': 'en_ParkChaletGardenRestaurant_477778282',\n",
       "  'text': '',\n",
       "  'opinions': [],\n",
       "  'dataset': ''}]"
      ]
     },
     "execution_count": 16,
     "metadata": {},
     "output_type": "execute_result"
    }
   ],
   "source": [
    "review_test = []\n",
    "\n",
    "for sid in sid_list:\n",
    "    review_test.append({'sent_id': sid, 'text': '', 'opinions': [], 'dataset': ''})\n",
    "\n",
    "review_test[:5]"
   ]
  },
  {
   "cell_type": "code",
   "execution_count": 17,
   "metadata": {},
   "outputs": [],
   "source": [
    "for i in range(len(review_test)):\n",
    "    text = ''\n",
    "    opinions = []\n",
    "    dataset = ''\n",
    "\n",
    "    for test in sent_test:\n",
    "        sentid = ''\n",
    "\n",
    "        if test['sent_id'][-2] == ':':\n",
    "            sentid = test['sent_id'][:-2]\n",
    "        else:\n",
    "            sentid = test['sent_id'][:-3]\n",
    "        \n",
    "        \n",
    "        if sentid == review_test[i]['sent_id']:\n",
    "            text = text + ' ' + test['text']\n",
    "            dataset = 's16+_test'\n",
    "\n",
    "            if len(test['opinions']) > 0:\n",
    "                opinions = opinions + test['opinions']\n",
    "\n",
    "    review_test[i]['text'] = text\n",
    "    review_test[i]['opinions'] = opinions\n",
    "    review_test[i]['dataset'] = dataset"
   ]
  },
  {
   "cell_type": "code",
   "execution_count": 18,
   "metadata": {},
   "outputs": [],
   "source": [
    "for i in range(len(review_test)):\n",
    "    if review_test[i]['text'][0] == ' ':\n",
    "        text2 = review_test[i]['text'][1:]\n",
    "        review_test[i]['text'] = text2"
   ]
  },
  {
   "cell_type": "code",
   "execution_count": 19,
   "metadata": {},
   "outputs": [
    {
     "data": {
      "text/plain": [
       "{'sent_id': \"en_Ray'sBoathouse_477775918\",\n",
       " 'text': \"Imagine my happy surprise upon finding that the views are only the third-best thing about Ray's! While I could have done without the youth who shared the evening with us, our wonderful server and food made the experience a very positive one. Oh yeah...the view was good, too.\",\n",
       " 'opinions': [{'Source': [[], []],\n",
       "   'Target': [['the views'], ['44:53']],\n",
       "   'Polar_expression': [['only the third-best thing'], ['58:83']],\n",
       "   'Polarity': 'Negative',\n",
       "   'Intensity': 'Standard'},\n",
       "  {'Source': [[], []],\n",
       "   'Target': [['server'], ['88:94']],\n",
       "   'Polar_expression': [['wonderful'], ['78:87']],\n",
       "   'Polarity': 'Positive',\n",
       "   'Intensity': 'Standard'},\n",
       "  {'Source': [[], []],\n",
       "   'Target': [['the experience'], ['109:123']],\n",
       "   'Polar_expression': [['very positive one.'], ['126:144']],\n",
       "   'Polarity': 'Positive',\n",
       "   'Intensity': 'Standard'},\n",
       "  {'Source': [[], []],\n",
       "   'Target': [['Oh yeah...the view'], ['0:18']],\n",
       "   'Polar_expression': [['good, too.'], ['23:33']],\n",
       "   'Polarity': 'Positive',\n",
       "   'Intensity': 'Standard'}],\n",
       " 'dataset': 's16+_test'}"
      ]
     },
     "execution_count": 19,
     "metadata": {},
     "output_type": "execute_result"
    }
   ],
   "source": [
    "review_test[-1]"
   ]
  },
  {
   "cell_type": "code",
   "execution_count": 20,
   "metadata": {},
   "outputs": [],
   "source": [
    "# output json \n",
    "with open('../data/semEval16_plus/review_test.json', 'w') as outfile:\n",
    "    json.dump(review_test, outfile, ensure_ascii = False, indent = 4)"
   ]
  }
 ],
 "metadata": {
  "kernelspec": {
   "display_name": "Python 3.6.9 ('qwe9887476': venv)",
   "language": "python",
   "name": "python3"
  },
  "language_info": {
   "codemirror_mode": {
    "name": "ipython",
    "version": 3
   },
   "file_extension": ".py",
   "mimetype": "text/x-python",
   "name": "python",
   "nbconvert_exporter": "python",
   "pygments_lexer": "ipython3",
   "version": "3.6.9"
  },
  "orig_nbformat": 4,
  "vscode": {
   "interpreter": {
    "hash": "5bf6df6aca0587c3d575cbe78d8d9df74e83db4ef5eb69188bbfb0803a9e9627"
   }
  }
 },
 "nbformat": 4,
 "nbformat_minor": 2
}
