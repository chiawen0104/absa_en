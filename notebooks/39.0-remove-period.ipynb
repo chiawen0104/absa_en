{
 "cells": [
  {
   "cell_type": "code",
   "execution_count": 1,
   "metadata": {},
   "outputs": [],
   "source": [
    "import pandas as pd\n",
    "import json"
   ]
  },
  {
   "cell_type": "code",
   "execution_count": 39,
   "metadata": {},
   "outputs": [
    {
     "data": {
      "text/plain": [
       "[{'review_id': 'LxMrMDZvwNL7btnuqKYm8g',\n",
       "  'user_id': '2ssBdVC1kKKe4wZNDzF5Vw',\n",
       "  'business_id': '_ab50qdWOk0DdB6XOrBitw',\n",
       "  'stars': 1.0,\n",
       "  'useful': 0,\n",
       "  'funny': 0,\n",
       "  'cool': 0,\n",
       "  'text': 'I agree with the previous review. You can definitely find better restaurants in New Orleans. Buyer beware: the food does not live up to its hype.',\n",
       "  'date': '2016-08-22 19:13:22'},\n",
       " {'review_id': 'gWLiqQWybWwIZS4gT9Spbw',\n",
       "  'user_id': 'ryNLy69uEwBSGQfSl5ZXzg',\n",
       "  'business_id': '_ab50qdWOk0DdB6XOrBitw',\n",
       "  'stars': 3.0,\n",
       "  'useful': 0,\n",
       "  'funny': 0,\n",
       "  'cool': 0,\n",
       "  'text': 'Acme has a welcoming atmosphere to a city guy.  Old, not much natural light, bustling, and kind of dirty like every bar should be.\\n\\nI ate here twice for quick lunches.  My first experience was better.  Seated at the oyster bar, the shucker was quite friendly.  After serving me 10 oysters (I ordered the half dozen) he asked how I enjoyed them.  \"I dont touch \\'em,\" he replied to my favorable review.  It was pretty funny.\\n\\nI also had the seafood gumbo and their signature po\\'boy, which were both decent.\\n\\nGo for oysters and beer.',\n",
       "  'date': '2008-09-30 15:00:00'},\n",
       " {'review_id': 'KNgC9AqrK8lAztmDnmZReg',\n",
       "  'user_id': 'Zq5FPoa1yOFGEHGnSltWqw',\n",
       "  'business_id': '_ab50qdWOk0DdB6XOrBitw',\n",
       "  'stars': 4.0,\n",
       "  'useful': 0,\n",
       "  'funny': 0,\n",
       "  'cool': 0,\n",
       "  'text': 'Excellent sensible priced local food. Recommended, very casual.',\n",
       "  'date': '2008-06-21 05:22:30'}]"
      ]
     },
     "execution_count": 39,
     "metadata": {},
     "output_type": "execute_result"
    }
   ],
   "source": [
    "with open('../data/yelp/RAW_yelp-food-test_2rest100.json') as f:\n",
    "    raw = json.load(f)\n",
    "\n",
    "raw[:3]"
   ]
  },
  {
   "cell_type": "code",
   "execution_count": 40,
   "metadata": {},
   "outputs": [],
   "source": [
    "# replace '.' or '!' with ',' \n",
    "# remove '\\n'\n",
    "\n",
    "for review in range(len(raw)):\n",
    "    text = raw[review]['text']\n",
    "    text = text.replace('\\n','')\n",
    "    text_list = list(text) # because 'str' object does not support item assignment\n",
    "    \n",
    "    for element in range(len(text_list)):\n",
    "        if element+1 < len(text_list) and element-1 >= 0:\n",
    "            if text_list[element] == '.' and (text_list[element-1].isalpha() or text_list[element-1].isalnum()) and text_list[element+1] != '.':\n",
    "                text_list[element] = ','\n",
    "\n",
    "            if text_list[element] == ' ' and text_list[element+1]  == ' ' :\n",
    "                text_list[element+1] = ''\n",
    "\n",
    "            if text_list[element] == ',' and text_list[element+1] != ' ':\n",
    "                text_list.insert(element+1, ' ')\n",
    "    \n",
    "    # print(text_list[-1])\n",
    "    # text_list[-1] = '.'\n",
    "    text2 = \"\".join(text_list)\n",
    "    # print(text2)\n",
    "    # print('----------')\n",
    "\n",
    "    raw[review]['text'] = text2\n",
    "    raw[review]['sent_id'] = raw[review]['review_id']\n",
    "    raw[review]['opinions'] = []"
   ]
  },
  {
   "cell_type": "code",
   "execution_count": 41,
   "metadata": {},
   "outputs": [
    {
     "data": {
      "text/plain": [
       "[{'review_id': 'LxMrMDZvwNL7btnuqKYm8g',\n",
       "  'user_id': '2ssBdVC1kKKe4wZNDzF5Vw',\n",
       "  'business_id': '_ab50qdWOk0DdB6XOrBitw',\n",
       "  'stars': 1.0,\n",
       "  'useful': 0,\n",
       "  'funny': 0,\n",
       "  'cool': 0,\n",
       "  'text': 'I agree with the previous review, You can definitely find better restaurants in New Orleans, Buyer beware: the food does not live up to its hype.',\n",
       "  'date': '2016-08-22 19:13:22',\n",
       "  'sent_id': 'LxMrMDZvwNL7btnuqKYm8g',\n",
       "  'opinions': []},\n",
       " {'review_id': 'gWLiqQWybWwIZS4gT9Spbw',\n",
       "  'user_id': 'ryNLy69uEwBSGQfSl5ZXzg',\n",
       "  'business_id': '_ab50qdWOk0DdB6XOrBitw',\n",
       "  'stars': 3.0,\n",
       "  'useful': 0,\n",
       "  'funny': 0,\n",
       "  'cool': 0,\n",
       "  'text': 'Acme has a welcoming atmosphere to a city guy, Old, not much natural light, bustling, and kind of dirty like every bar should be, I ate here twice for quick lunches, My first experience was better, Seated at the oyster bar, the shucker was quite friendly, After serving me 10 oysters (I ordered the half dozen) he asked how I enjoyed them, \"I dont touch \\'em, \" he replied to my favorable review, It was pretty funny, I also had the seafood gumbo and their signature po\\'boy, which were both decent, Go for oysters and beer.',\n",
       "  'date': '2008-09-30 15:00:00',\n",
       "  'sent_id': 'gWLiqQWybWwIZS4gT9Spbw',\n",
       "  'opinions': []},\n",
       " {'review_id': 'KNgC9AqrK8lAztmDnmZReg',\n",
       "  'user_id': 'Zq5FPoa1yOFGEHGnSltWqw',\n",
       "  'business_id': '_ab50qdWOk0DdB6XOrBitw',\n",
       "  'stars': 4.0,\n",
       "  'useful': 0,\n",
       "  'funny': 0,\n",
       "  'cool': 0,\n",
       "  'text': 'Excellent sensible priced local food, Recommended, very casual.',\n",
       "  'date': '2008-06-21 05:22:30',\n",
       "  'sent_id': 'KNgC9AqrK8lAztmDnmZReg',\n",
       "  'opinions': []},\n",
       " {'review_id': 'MDnLLtUkZV5BhExaCNnPiQ',\n",
       "  'user_id': 'LbUNMg-xDib6UMmkh32a0w',\n",
       "  'business_id': '_ab50qdWOk0DdB6XOrBitw',\n",
       "  'stars': 1.0,\n",
       "  'useful': 0,\n",
       "  'funny': 0,\n",
       "  'cool': 0,\n",
       "  'text': 'Do not go here for oysters if you value your dental work, Went here in December and have just finished dealing with fixing a crown that was broken as a result of pieces of shell in the oysters, Save yourself the headache and literally hundreds of dollars in dental bills by going somewhere else.',\n",
       "  'date': '2018-04-06 00:42:47',\n",
       "  'sent_id': 'MDnLLtUkZV5BhExaCNnPiQ',\n",
       "  'opinions': []},\n",
       " {'review_id': '1Y-T419l7IPwfkXzMeP4vQ',\n",
       "  'user_id': 'nMFlEQRj3MAeo9pcjbGCKw',\n",
       "  'business_id': '_ab50qdWOk0DdB6XOrBitw',\n",
       "  'stars': 5.0,\n",
       "  'useful': 1,\n",
       "  'funny': 1,\n",
       "  'cool': 1,\n",
       "  'text': 'Oysters upon oysters! No better place to have them than where you have to wait in a line in the rain for a table, Well worth the wet toes and damp hair, We had the oysters raw, oyster shooters and the chargrilled oysters, My favorite was the chargrilled oysters, Garlic, parmesan and herb butter are the best combination for a warm oyster, Dipping your bread in the sauce is even better, I would wait in like again if I had to, These oysters and fast service are well worth it!',\n",
       "  'date': '2017-09-07 18:52:13',\n",
       "  'sent_id': '1Y-T419l7IPwfkXzMeP4vQ',\n",
       "  'opinions': []}]"
      ]
     },
     "execution_count": 41,
     "metadata": {},
     "output_type": "execute_result"
    }
   ],
   "source": [
    "raw[:5]"
   ]
  },
  {
   "cell_type": "code",
   "execution_count": 43,
   "metadata": {},
   "outputs": [],
   "source": [
    "# output json \n",
    "with open('../data/yelp/yelp-food-noperiod_2rest100.json', 'w') as outfile:\n",
    "    json.dump(raw, outfile, ensure_ascii = False, indent = 4)"
   ]
  }
 ],
 "metadata": {
  "kernelspec": {
   "display_name": "Python 3.6.9 ('qwe9887476': venv)",
   "language": "python",
   "name": "python3"
  },
  "language_info": {
   "codemirror_mode": {
    "name": "ipython",
    "version": 3
   },
   "file_extension": ".py",
   "mimetype": "text/x-python",
   "name": "python",
   "nbconvert_exporter": "python",
   "pygments_lexer": "ipython3",
   "version": "3.6.9"
  },
  "orig_nbformat": 4,
  "vscode": {
   "interpreter": {
    "hash": "5bf6df6aca0587c3d575cbe78d8d9df74e83db4ef5eb69188bbfb0803a9e9627"
   }
  }
 },
 "nbformat": 4,
 "nbformat_minor": 2
}
