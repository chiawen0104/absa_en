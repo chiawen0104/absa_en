{
 "cells": [
  {
   "cell_type": "markdown",
   "metadata": {},
   "source": [
    "### Check the polarity of inference results based on stars of each review\n",
    "##### data: 100 random-selected reviews from 2 restaurants"
   ]
  },
  {
   "cell_type": "code",
   "execution_count": 1,
   "metadata": {},
   "outputs": [],
   "source": [
    "import pandas as pd\n",
    "import json"
   ]
  },
  {
   "cell_type": "code",
   "execution_count": 6,
   "metadata": {},
   "outputs": [
    {
     "data": {
      "text/plain": [
       "[{'sent_id': 'LxMrMDZvwNL7btnuqKYm8g:0',\n",
       "  'text': 'I agree with the previous review.',\n",
       "  'opinions': [{'Source': [['I'], ['0:1']],\n",
       "    'Target': [['review.'], ['26:33']],\n",
       "    'Polar_expression': [['agree'], ['2:7']],\n",
       "    'Polarity': 'Positive',\n",
       "    'Intensity': 'Standard'}]},\n",
       " {'sent_id': 'LxMrMDZvwNL7btnuqKYm8g:1',\n",
       "  'text': 'You can definitely find better restaurants in New Orleans.',\n",
       "  'opinions': [{'Source': [[], []],\n",
       "    'Target': [['restaurants'], ['31:42']],\n",
       "    'Polar_expression': [['better'], ['24:30']],\n",
       "    'Polarity': 'Positive',\n",
       "    'Intensity': 'Standard'}]},\n",
       " {'sent_id': 'LxMrMDZvwNL7btnuqKYm8g:2',\n",
       "  'text': 'Buyer beware: the food does not live up to its hype.',\n",
       "  'opinions': [{'Source': [[], []],\n",
       "    'Target': [['the food'], ['14:22']],\n",
       "    'Polar_expression': [['not live up to its hype.'], ['28:52']],\n",
       "    'Polarity': 'Negative',\n",
       "    'Intensity': 'Standard'}]},\n",
       " {'sent_id': 'gWLiqQWybWwIZS4gT9Spbw:0',\n",
       "  'text': 'Acme has a welcoming atmosphere to a city guy.',\n",
       "  'opinions': [{'Source': [[], []],\n",
       "    'Target': [['atmosphere'], ['21:31']],\n",
       "    'Polar_expression': [['welcoming'], ['11:20']],\n",
       "    'Polarity': 'Positive',\n",
       "    'Intensity': 'Standard'}]},\n",
       " {'sent_id': 'gWLiqQWybWwIZS4gT9Spbw:1',\n",
       "  'text': 'Old, not much natural light, bustling, and kind of dirty like every bar should be.',\n",
       "  'opinions': [{'Source': [[], []],\n",
       "    'Target': [['bar'], ['68:71']],\n",
       "    'Polar_expression': [['should be.'], ['72:82']],\n",
       "    'Polarity': 'Negative',\n",
       "    'Intensity': 'Standard'}]}]"
      ]
     },
     "execution_count": 6,
     "metadata": {},
     "output_type": "execute_result"
    }
   ],
   "source": [
    "# open the inference results\n",
    "\n",
    "with open('../data/yelp/INFER_yelp-food-test_2rest100.conllu.json') as f:\n",
    "    infer = json.load(f)\n",
    "\n",
    "infer[:5]"
   ]
  },
  {
   "cell_type": "code",
   "execution_count": 7,
   "metadata": {},
   "outputs": [
    {
     "data": {
      "text/plain": [
       "[{'review_id': 'LxMrMDZvwNL7btnuqKYm8g',\n",
       "  'user_id': '2ssBdVC1kKKe4wZNDzF5Vw',\n",
       "  'business_id': '_ab50qdWOk0DdB6XOrBitw',\n",
       "  'stars': 1.0,\n",
       "  'useful': 0,\n",
       "  'funny': 0,\n",
       "  'cool': 0,\n",
       "  'text': 'I agree with the previous review.',\n",
       "  'date': '2016-08-22 19:13:22',\n",
       "  'sent_id': 'LxMrMDZvwNL7btnuqKYm8g:0',\n",
       "  'opinions': []},\n",
       " {'review_id': 'LxMrMDZvwNL7btnuqKYm8g',\n",
       "  'user_id': '2ssBdVC1kKKe4wZNDzF5Vw',\n",
       "  'business_id': '_ab50qdWOk0DdB6XOrBitw',\n",
       "  'stars': 1.0,\n",
       "  'useful': 0,\n",
       "  'funny': 0,\n",
       "  'cool': 0,\n",
       "  'text': 'You can definitely find better restaurants in New Orleans.',\n",
       "  'date': '2016-08-22 19:13:22',\n",
       "  'sent_id': 'LxMrMDZvwNL7btnuqKYm8g:1',\n",
       "  'opinions': []},\n",
       " {'review_id': 'LxMrMDZvwNL7btnuqKYm8g',\n",
       "  'user_id': '2ssBdVC1kKKe4wZNDzF5Vw',\n",
       "  'business_id': '_ab50qdWOk0DdB6XOrBitw',\n",
       "  'stars': 1.0,\n",
       "  'useful': 0,\n",
       "  'funny': 0,\n",
       "  'cool': 0,\n",
       "  'text': 'Buyer beware: the food does not live up to its hype.',\n",
       "  'date': '2016-08-22 19:13:22',\n",
       "  'sent_id': 'LxMrMDZvwNL7btnuqKYm8g:2',\n",
       "  'opinions': []},\n",
       " {'review_id': 'gWLiqQWybWwIZS4gT9Spbw',\n",
       "  'user_id': 'ryNLy69uEwBSGQfSl5ZXzg',\n",
       "  'business_id': '_ab50qdWOk0DdB6XOrBitw',\n",
       "  'stars': 3.0,\n",
       "  'useful': 0,\n",
       "  'funny': 0,\n",
       "  'cool': 0,\n",
       "  'text': 'Acme has a welcoming atmosphere to a city guy.',\n",
       "  'date': '2008-09-30 15:00:00',\n",
       "  'sent_id': 'gWLiqQWybWwIZS4gT9Spbw:0',\n",
       "  'opinions': []},\n",
       " {'review_id': 'gWLiqQWybWwIZS4gT9Spbw',\n",
       "  'user_id': 'ryNLy69uEwBSGQfSl5ZXzg',\n",
       "  'business_id': '_ab50qdWOk0DdB6XOrBitw',\n",
       "  'stars': 3.0,\n",
       "  'useful': 0,\n",
       "  'funny': 0,\n",
       "  'cool': 0,\n",
       "  'text': 'Old, not much natural light, bustling, and kind of dirty like every bar should be.',\n",
       "  'date': '2008-09-30 15:00:00',\n",
       "  'sent_id': 'gWLiqQWybWwIZS4gT9Spbw:1',\n",
       "  'opinions': []}]"
      ]
     },
     "execution_count": 7,
     "metadata": {},
     "output_type": "execute_result"
    }
   ],
   "source": [
    "# open the raw reviews\n",
    "\n",
    "with open('../data/yelp/yelp-food-test_2rest100.json') as f:\n",
    "    raw = json.load(f)\n",
    "\n",
    "raw[:5]"
   ]
  },
  {
   "cell_type": "code",
   "execution_count": 19,
   "metadata": {},
   "outputs": [
    {
     "data": {
      "text/plain": [
       "[{'sent_id': 'LxMrMDZvwNL7btnuqKYm8g:0',\n",
       "  'text': 'I agree with the previous review.',\n",
       "  'opinions': [{'Source': [['I'], ['0:1']],\n",
       "    'Target': [['review.'], ['26:33']],\n",
       "    'Polar_expression': [['agree'], ['2:7']],\n",
       "    'Polarity': 'Positive',\n",
       "    'Intensity': 'Standard'}],\n",
       "  'business_id': '_ab50qdWOk0DdB6XOrBitw',\n",
       "  'review_id': 'LxMrMDZvwNL7btnuqKYm8g',\n",
       "  'stars': 1.0,\n",
       "  'polar_ans': False},\n",
       " {'sent_id': 'LxMrMDZvwNL7btnuqKYm8g:1',\n",
       "  'text': 'You can definitely find better restaurants in New Orleans.',\n",
       "  'opinions': [{'Source': [[], []],\n",
       "    'Target': [['restaurants'], ['31:42']],\n",
       "    'Polar_expression': [['better'], ['24:30']],\n",
       "    'Polarity': 'Positive',\n",
       "    'Intensity': 'Standard'}],\n",
       "  'business_id': '_ab50qdWOk0DdB6XOrBitw',\n",
       "  'review_id': 'LxMrMDZvwNL7btnuqKYm8g',\n",
       "  'stars': 1.0,\n",
       "  'polar_ans': False},\n",
       " {'sent_id': 'LxMrMDZvwNL7btnuqKYm8g:2',\n",
       "  'text': 'Buyer beware: the food does not live up to its hype.',\n",
       "  'opinions': [{'Source': [[], []],\n",
       "    'Target': [['the food'], ['14:22']],\n",
       "    'Polar_expression': [['not live up to its hype.'], ['28:52']],\n",
       "    'Polarity': 'Negative',\n",
       "    'Intensity': 'Standard'}],\n",
       "  'business_id': '_ab50qdWOk0DdB6XOrBitw',\n",
       "  'review_id': 'LxMrMDZvwNL7btnuqKYm8g',\n",
       "  'stars': 1.0,\n",
       "  'polar_ans': False},\n",
       " {'sent_id': 'gWLiqQWybWwIZS4gT9Spbw:0',\n",
       "  'text': 'Acme has a welcoming atmosphere to a city guy.',\n",
       "  'opinions': [{'Source': [[], []],\n",
       "    'Target': [['atmosphere'], ['21:31']],\n",
       "    'Polar_expression': [['welcoming'], ['11:20']],\n",
       "    'Polarity': 'Positive',\n",
       "    'Intensity': 'Standard'}],\n",
       "  'business_id': '_ab50qdWOk0DdB6XOrBitw',\n",
       "  'review_id': 'gWLiqQWybWwIZS4gT9Spbw',\n",
       "  'stars': 3.0,\n",
       "  'polar_ans': False},\n",
       " {'sent_id': 'gWLiqQWybWwIZS4gT9Spbw:1',\n",
       "  'text': 'Old, not much natural light, bustling, and kind of dirty like every bar should be.',\n",
       "  'opinions': [{'Source': [[], []],\n",
       "    'Target': [['bar'], ['68:71']],\n",
       "    'Polar_expression': [['should be.'], ['72:82']],\n",
       "    'Polarity': 'Negative',\n",
       "    'Intensity': 'Standard'}],\n",
       "  'business_id': '_ab50qdWOk0DdB6XOrBitw',\n",
       "  'review_id': 'gWLiqQWybWwIZS4gT9Spbw',\n",
       "  'stars': 3.0,\n",
       "  'polar_ans': False}]"
      ]
     },
     "execution_count": 19,
     "metadata": {},
     "output_type": "execute_result"
    }
   ],
   "source": [
    "# add some information (stars, business_id,...) to inferrence from raw reviews\n",
    "\n",
    "for i in range(len(infer)):\n",
    "    raw_one = [j for j in raw if j['sent_id'] == infer[i]['sent_id']][0]\n",
    "    # print(infer[i]['sent_id'], raw_one['sent_id'])\n",
    "    infer[i]['business_id'] = raw_one['business_id']\n",
    "    infer[i]['review_id'] = raw_one['review_id']\n",
    "    infer[i]['stars'] = raw_one['stars']\n",
    "    infer[i]['polar_ans'] = False\n",
    "\n",
    "infer[:5]"
   ]
  },
  {
   "cell_type": "code",
   "execution_count": 21,
   "metadata": {},
   "outputs": [],
   "source": [
    "# output json \n",
    "with open('../data/yelp/ANS-polar-stars_2rest100.json', 'w') as outfile:\n",
    "    json.dump(infer, outfile, indent = 4, ensure_ascii=False)"
   ]
  },
  {
   "cell_type": "code",
   "execution_count": 24,
   "metadata": {},
   "outputs": [
    {
     "name": "stdout",
     "output_type": "stream",
     "text": [
      "total: 710\n",
      "non-empty: 433\n"
     ]
    }
   ],
   "source": [
    "# count the number of non-empty opinions\n",
    "c = 0\n",
    "for i in infer:\n",
    "    if len(i['opinions']) > 0:\n",
    "        c += 1\n",
    "\n",
    "print(f'total: {len(infer)}')\n",
    "print(f'non-empty: {c}')"
   ]
  },
  {
   "cell_type": "markdown",
   "metadata": {},
   "source": [
    "##### EDA of annotated 2rest100 (after annotation on the above output json)"
   ]
  },
  {
   "cell_type": "code",
   "execution_count": 39,
   "metadata": {},
   "outputs": [
    {
     "data": {
      "text/plain": [
       "[{'sent_id': 'LxMrMDZvwNL7btnuqKYm8g:0',\n",
       "  'text': 'I agree with the previous review.',\n",
       "  'opinions': [{'Source': [['I'], ['0:1']],\n",
       "    'Target': [['review.'], ['26:33']],\n",
       "    'Polar_expression': [['agree'], ['2:7']],\n",
       "    'Polarity': 'Positive',\n",
       "    'Intensity': 'Standard'}],\n",
       "  'business_id': '_ab50qdWOk0DdB6XOrBitw',\n",
       "  'review_id': 'LxMrMDZvwNL7btnuqKYm8g',\n",
       "  'stars': 1.0,\n",
       "  'polar_ans': True},\n",
       " {'sent_id': 'LxMrMDZvwNL7btnuqKYm8g:1',\n",
       "  'text': 'You can definitely find better restaurants in New Orleans.',\n",
       "  'opinions': [{'Source': [[], []],\n",
       "    'Target': [['restaurants'], ['31:42']],\n",
       "    'Polar_expression': [['better'], ['24:30']],\n",
       "    'Polarity': 'Positive',\n",
       "    'Intensity': 'Standard'}],\n",
       "  'business_id': '_ab50qdWOk0DdB6XOrBitw',\n",
       "  'review_id': 'LxMrMDZvwNL7btnuqKYm8g',\n",
       "  'stars': 1.0,\n",
       "  'polar_ans': True},\n",
       " {'sent_id': 'LxMrMDZvwNL7btnuqKYm8g:2',\n",
       "  'text': 'Buyer beware: the food does not live up to its hype.',\n",
       "  'opinions': [{'Source': [[], []],\n",
       "    'Target': [['the food'], ['14:22']],\n",
       "    'Polar_expression': [['not live up to its hype.'], ['28:52']],\n",
       "    'Polarity': 'Negative',\n",
       "    'Intensity': 'Standard'}],\n",
       "  'business_id': '_ab50qdWOk0DdB6XOrBitw',\n",
       "  'review_id': 'LxMrMDZvwNL7btnuqKYm8g',\n",
       "  'stars': 1.0,\n",
       "  'polar_ans': True},\n",
       " {'sent_id': 'gWLiqQWybWwIZS4gT9Spbw:0',\n",
       "  'text': 'Acme has a welcoming atmosphere to a city guy.',\n",
       "  'opinions': [{'Source': [[], []],\n",
       "    'Target': [['atmosphere'], ['21:31']],\n",
       "    'Polar_expression': [['welcoming'], ['11:20']],\n",
       "    'Polarity': 'Positive',\n",
       "    'Intensity': 'Standard'}],\n",
       "  'business_id': '_ab50qdWOk0DdB6XOrBitw',\n",
       "  'review_id': 'gWLiqQWybWwIZS4gT9Spbw',\n",
       "  'stars': 3.0,\n",
       "  'polar_ans': True},\n",
       " {'sent_id': 'gWLiqQWybWwIZS4gT9Spbw:1',\n",
       "  'text': 'Old, not much natural light, bustling, and kind of dirty like every bar should be.',\n",
       "  'opinions': [{'Source': [[], []],\n",
       "    'Target': [['bar'], ['68:71']],\n",
       "    'Polar_expression': [['should be.'], ['72:82']],\n",
       "    'Polarity': 'Negative',\n",
       "    'Intensity': 'Standard'}],\n",
       "  'business_id': '_ab50qdWOk0DdB6XOrBitw',\n",
       "  'review_id': 'gWLiqQWybWwIZS4gT9Spbw',\n",
       "  'stars': 3.0,\n",
       "  'polar_ans': True}]"
      ]
     },
     "execution_count": 39,
     "metadata": {},
     "output_type": "execute_result"
    }
   ],
   "source": [
    "with open('../data/yelp/ANS-polar-stars_2rest100.json') as f:\n",
    "    infer_gold = json.load(f)\n",
    "\n",
    "infer_gold[:5]"
   ]
  },
  {
   "cell_type": "code",
   "execution_count": 40,
   "metadata": {},
   "outputs": [
    {
     "name": "stdout",
     "output_type": "stream",
     "text": [
      "non-empty: 433, empty: 277\n",
      "r1: 214\n",
      "r2: 219\n"
     ]
    }
   ],
   "source": [
    "# restaurant1: '_ab50qdWOk0DdB6XOrBitw'\n",
    "# restaurant2: 'ac1AeYqs8Z4_e2X5M3if2A' \n",
    "\n",
    "empty = 0\n",
    "rest1 = []\n",
    "rest2 = []\n",
    "\n",
    "for i in infer_gold:\n",
    "    if len(i['opinions']) == 0:\n",
    "        empty += 1\n",
    "    else:\n",
    "        if i['business_id'] == '_ab50qdWOk0DdB6XOrBitw':\n",
    "            rest1.append(i)\n",
    "        else:\n",
    "            rest2.append(i)\n",
    "\n",
    "print(f'non-empty: {len(infer_gold)-empty}, empty: {empty}')\n",
    "print(f'r1: {len(rest1)}')\n",
    "print(f'r2: {len(rest2)}')"
   ]
  },
  {
   "cell_type": "code",
   "execution_count": 58,
   "metadata": {},
   "outputs": [
    {
     "name": "stdout",
     "output_type": "stream",
     "text": [
      "---------------rest1----------------\n",
      "1s:   9(T: 9, F: 0) | (TP: 3, TN: 6)\n",
      "2s:  24(T:15, F: 9) | (TP: 4, TN:11)\n",
      "3s:  33(T:25, F: 8) | (TP:17, TN: 8)\n",
      "4s:  62(T:49, F:13) | (TP:41, TN: 8)\n",
      "5s:  86(T:73, F:13) | (TP:68, TN: 5)\n",
      "---------------rest2----------------\n",
      "1s:   8(T: 4, F: 4) | (TP: 2, TN: 2)\n",
      "2s:  12(T: 7, F: 5) | (TP: 2, TN: 5)\n",
      "3s:  33(T:25, F: 8) | (TP:19, TN: 6)\n",
      "4s:  62(T:52, F:10) | (TP:47, TN: 5)\n",
      "5s: 104(T:94, F:10) | (TP:89, TN: 5)\n"
     ]
    }
   ],
   "source": [
    "# stars -> polar_ans -> True or Negative\n",
    "\n",
    "print('---------------rest1----------------')\n",
    "\n",
    "for k in range(2):\n",
    "\n",
    "    s1, s2, s3, s4, s5 = 0, 0, 0, 0, 0 # Stars\n",
    "    t1, t2, t3, t4, t5 = 0, 0, 0, 0, 0 # True\n",
    "    tp1, tp2, tp3, tp4, tp5 = 0, 0, 0, 0, 0 # True Positive\n",
    "    tn1, tn2, tn3, tn4, tn5 = 0, 0, 0, 0, 0 # True Negative\n",
    "\n",
    "    if k == 0:\n",
    "        lst = rest1\n",
    "    else:\n",
    "        lst = rest2\n",
    "\n",
    "    for i in lst:\n",
    "        if i['stars'] == 1.0:\n",
    "            s1 += 1\n",
    "            if i['polar_ans']:\n",
    "                t1 += 1\n",
    "                if i['opinions'][0]['Polarity'] == 'Positive':\n",
    "                    tp1 += 1\n",
    "                else:\n",
    "                    tn1 += 1\n",
    "        elif i['stars'] == 2.0:\n",
    "            s2 += 1\n",
    "            if i['polar_ans']:\n",
    "                t2 += 1\n",
    "                if i['opinions'][0]['Polarity'] == 'Positive':\n",
    "                    tp2 += 1\n",
    "                else:\n",
    "                    tn2 += 1\n",
    "        elif i['stars'] == 3.0:\n",
    "            s3 += 1\n",
    "            if i['polar_ans']:\n",
    "                t3 += 1\n",
    "                if i['opinions'][0]['Polarity'] == 'Positive':\n",
    "                    tp3 += 1\n",
    "                else:\n",
    "                    tn3 += 1\n",
    "        elif i['stars'] == 4.0:\n",
    "            s4 += 1\n",
    "            if i['polar_ans']:\n",
    "                t4 += 1\n",
    "                if i['opinions'][0]['Polarity'] == 'Positive':\n",
    "                    tp4 += 1\n",
    "                else:\n",
    "                    tn4 += 1\n",
    "        else:\n",
    "            s5 += 1\n",
    "            if i['polar_ans']:\n",
    "                t5 += 1\n",
    "                if i['opinions'][0]['Polarity'] == 'Positive':\n",
    "                    tp5 += 1\n",
    "                else:\n",
    "                    tn5 += 1\n",
    "\n",
    "    print(f'1s: {s1:3d}(T:{t1:2d}, F:{s1-t1:2d}) | (TP:{tp1:2d}, TN:{tn1:2d})')\n",
    "    print(f'2s: {s2:3d}(T:{t2:2d}, F:{s2-t2:2d}) | (TP:{tp2:2d}, TN:{tn2:2d})')\n",
    "    print(f'3s: {s3:3d}(T:{t3:2d}, F:{s3-t3:2d}) | (TP:{tp3:2d}, TN:{tn3:2d})')\n",
    "    print(f'4s: {s4:3d}(T:{t4:2d}, F:{s4-t4:2d}) | (TP:{tp4:2d}, TN:{tn4:2d})')\n",
    "    print(f'5s: {s5:3d}(T:{t5:2d}, F:{s5-t5:2d}) | (TP:{tp5:2d}, TN:{tn5:2d})')\n",
    "    if k == 1:\n",
    "        break\n",
    "    print('---------------rest2----------------')\n"
   ]
  },
  {
   "cell_type": "code",
   "execution_count": null,
   "metadata": {},
   "outputs": [],
   "source": []
  }
 ],
 "metadata": {
  "kernelspec": {
   "display_name": "Python 3.6.9 ('qwe9887476': venv)",
   "language": "python",
   "name": "python3"
  },
  "language_info": {
   "codemirror_mode": {
    "name": "ipython",
    "version": 3
   },
   "file_extension": ".py",
   "mimetype": "text/x-python",
   "name": "python",
   "nbconvert_exporter": "python",
   "pygments_lexer": "ipython3",
   "version": "3.6.9"
  },
  "orig_nbformat": 4,
  "vscode": {
   "interpreter": {
    "hash": "5bf6df6aca0587c3d575cbe78d8d9df74e83db4ef5eb69188bbfb0803a9e9627"
   }
  }
 },
 "nbformat": 4,
 "nbformat_minor": 2
}
