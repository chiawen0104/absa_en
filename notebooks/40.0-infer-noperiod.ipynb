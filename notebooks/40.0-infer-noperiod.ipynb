{
 "cells": [
  {
   "cell_type": "code",
   "execution_count": 1,
   "metadata": {},
   "outputs": [],
   "source": [
    "import pandas as pd\n",
    "import json"
   ]
  },
  {
   "cell_type": "code",
   "execution_count": 28,
   "metadata": {},
   "outputs": [
    {
     "data": {
      "text/plain": [
       "[{'sent_id': 'LxMrMDZvwNL7btnuqKYm8g',\n",
       "  'text': 'I agree with the previous review, You can definitely find better restaurants in New Orleans, Buyer beware: the food does not live up to its hype.',\n",
       "  'opinions': [{'Source': [[], []],\n",
       "    'Target': [['the food'], ['107:115']],\n",
       "    'Polar_expression': [['not live up to its hype.'], ['121:145']],\n",
       "    'Polarity': 'Negative',\n",
       "    'Intensity': 'Standard'}]},\n",
       " {'sent_id': 'gWLiqQWybWwIZS4gT9Spbw',\n",
       "  'text': 'Acme has a welcoming atmosphere to a city guy, Old, not much natural light, bustling, and kind of dirty like every bar should be, I ate here twice for quick lunches, My first experience was better, Seated at the oyster bar, the shucker was quite friendly, After serving me 10 oysters (I ordered the half dozen) he asked how I enjoyed them, \"I dont touch \\'em, \" he replied to my favorable review, It was pretty funny, I also had the seafood gumbo and their signature po\\'boy, which were both decent, Go for oysters and beer.',\n",
       "  'opinions': [{'Source': [[], []],\n",
       "    'Target': [[], []],\n",
       "    'Polar_expression': [['welcoming'], ['11:20']],\n",
       "    'Polarity': 'Positive',\n",
       "    'Intensity': 'Standard'}]},\n",
       " {'sent_id': 'KNgC9AqrK8lAztmDnmZReg',\n",
       "  'text': 'Excellent sensible priced local food, Recommended, very casual.',\n",
       "  'opinions': [{'Source': [[], []],\n",
       "    'Target': [[], []],\n",
       "    'Polar_expression': [['Excellent'], ['0:9']],\n",
       "    'Polarity': 'Positive',\n",
       "    'Intensity': 'Standard'},\n",
       "   {'Source': [[], []],\n",
       "    'Target': [[], []],\n",
       "    'Polar_expression': [['casual.'], ['56:63']],\n",
       "    'Polarity': 'Positive',\n",
       "    'Intensity': 'Standard'},\n",
       "   {'Source': [[], []],\n",
       "    'Target': [[], []],\n",
       "    'Polar_expression': [['priced'], ['19:25']],\n",
       "    'Polarity': 'Positive',\n",
       "    'Intensity': 'Standard'}]}]"
      ]
     },
     "execution_count": 28,
     "metadata": {},
     "output_type": "execute_result"
    }
   ],
   "source": [
    "with open('../data/yelp/INFER_yelp-food-noperiod_2rest100.conllu.json') as f:\n",
    "    infer = json.load(f)\n",
    "\n",
    "infer[:3]"
   ]
  },
  {
   "cell_type": "code",
   "execution_count": 29,
   "metadata": {},
   "outputs": [
    {
     "name": "stdout",
     "output_type": "stream",
     "text": [
      "94 nonempty-opinion reviews in 100 reviews\n",
      "total opinions: 307\n",
      "nonempty targets: 181\n"
     ]
    }
   ],
   "source": [
    "total_op = 0\n",
    "nonempty_target = 0\n",
    "nonempty_opinion = 0\n",
    "\n",
    "for pred in infer:\n",
    "    # print(pred['opinions'])\n",
    "    if len(pred['opinions']) > 0:\n",
    "        nonempty_opinion += 1\n",
    "        total_op += len(pred['opinions'])\n",
    "\n",
    "        # print(pred['text']+'\\n')\n",
    "        for opin in pred['opinions']:\n",
    "            if len(opin['Target'][0]) > 0:\n",
    "                nonempty_target += 1\n",
    "\n",
    "                # print(opin['Target'][0], opin['Polarity'])\n",
    "        # print('----------')\n",
    "\n",
    "print(f'{nonempty_opinion} nonempty-opinion reviews in 100 reviews')\n",
    "print(f'total opinions: {total_op}')\n",
    "print(f'nonempty targets: {nonempty_target}')"
   ]
  },
  {
   "cell_type": "code",
   "execution_count": 30,
   "metadata": {},
   "outputs": [
    {
     "name": "stdout",
     "output_type": "stream",
     "text": [
      "The oysters were fresh and delicious! The oysters are the only reason I'm giving them 2! The smell at this location was very strong, we waited 30 minutes which wasn't bad however the lady cleaned our bar table with a dirty rag that had been sitting under all the menus she was handing out, Which lead me to believe that it hadn't been sanitized in a while, Silly me for not getting up and leaving but I wanted to see what the hype was! Well needless to say I won't be back, the gumbo was blah not a lot of flavor, Well this review is all over the pace but here it is!\n",
      "\n",
      "\n",
      "['The oysters'] Positive\n",
      "----------\n",
      "Really wanted to like this place, but it was super meh, I didn't mind the hour-long wait since you can grab a drink and hang out... but the whole experience just wasn't worth the wait, Prices aren't too bad (but I'm from Los Angeles so I'm used to hyped up prices)... but overpriced for what the place provides, First star off for the terrible service from the woman behind the bar, She looked miserable, like she hated her life, She didn't ask if we wanted a drink, she walked away mid-sentence when we asked a question about the menu, didn't ask if we needed anything else during our meal, no refills on our water, shrugged her shoulders when we commented about the terribly shucked oysters, took forever taking care of our check (you'd think she would wants us out of there with the long line outside!). Two stars off for the TERRIBLY shucked oysters, It's an OYSTER HOUSE so you'd think they'd get that right, Oysters were large and meaty, but EVERY one of the two dozen raw oysters we ordered had shell shards, The grilled oysters had shell shards also, Really ruined the experience, I saw people next to us spit out shell chunks, too, I LOVE oysters and had more than 6 dozen during my few nights in NOLA... and this was the only place that had shell shards, Terrible, Grilled oysters were overcooked as well, (I actually recommend Felix's across the street for fresh, meaty raw and grilled oysters, )Two stars because the boo fries are good (but suuuuuper salty). Gumbo and jambalaya were good, but COOP'S does it WAY better, NOT worth the wait, So many other places nearby that do these better! Super disappointed :(\n",
      "\n",
      "\n",
      "['the whole experience', 'right,', 'the boo'] Positive\n",
      "['whole', 'the boo fries'] Positive\n",
      "----------\n"
     ]
    }
   ],
   "source": [
    "# special cases\n",
    "\n",
    "for pred in infer:\n",
    "    if pred['sent_id'] == 'kQVI8-VqhIVq3hN2ekFCSQ' or pred['sent_id'] == 'qagu5kfTLzwXlqWYjfrS5Q':\n",
    "        print(pred['text'])\n",
    "        print('\\n')\n",
    "\n",
    "        for opin in pred['opinions']:\n",
    "            if len(opin['Target'][0]) > 0:\n",
    "                print(opin['Target'][0], opin['Polarity'])\n",
    "\n",
    "        print('----------')\n",
    "\n"
   ]
  },
  {
   "cell_type": "code",
   "execution_count": 2,
   "metadata": {},
   "outputs": [
    {
     "data": {
      "text/plain": [
       "[{'sent_id': 'LxMrMDZvwNL7btnuqKYm8g',\n",
       "  'text': 'I agree with the previous review. You can definitely find better restaurants in New Orleans. Buyer beware: the food does not live up to its hype.',\n",
       "  'opinions': [{'Source': [[], []],\n",
       "    'Target': [['the food'], ['107:115']],\n",
       "    'Polar_expression': [['not live up to its hype.'], ['121:145']],\n",
       "    'Polarity': 'Negative',\n",
       "    'Intensity': 'Standard'}]},\n",
       " {'sent_id': 'gWLiqQWybWwIZS4gT9Spbw',\n",
       "  'text': 'Acme has a welcoming atmosphere to a city guy.  Old, not much natural light, bustling, and kind of dirty like every bar should be.I ate here twice for quick lunches.  My first experience was better.  Seated at the oyster bar, the shucker was quite friendly.  After serving me 10 oysters (I ordered the half dozen) he asked how I enjoyed them.  \"I dont touch \\'em,\" he replied to my favorable review.  It was pretty funny.I also had the seafood gumbo and their signature po\\'boy, which were both decent.Go for oysters and beer.',\n",
       "  'opinions': [{'Source': [[], []],\n",
       "    'Target': [[], []],\n",
       "    'Polar_expression': [['funny.I'], ['408:415']],\n",
       "    'Polarity': 'Negative',\n",
       "    'Intensity': 'Standard'},\n",
       "   {'Source': [[], []],\n",
       "    'Target': [[], []],\n",
       "    'Polar_expression': [['welcoming'], ['11:20']],\n",
       "    'Polarity': 'Positive',\n",
       "    'Intensity': 'Standard'}]},\n",
       " {'sent_id': 'KNgC9AqrK8lAztmDnmZReg',\n",
       "  'text': 'Excellent sensible priced local food. Recommended, very casual.',\n",
       "  'opinions': [{'Source': [[], []],\n",
       "    'Target': [[], []],\n",
       "    'Polar_expression': [['priced'], ['19:25']],\n",
       "    'Polarity': 'Positive',\n",
       "    'Intensity': 'Standard'},\n",
       "   {'Source': [[], []],\n",
       "    'Target': [[], []],\n",
       "    'Polar_expression': [['casual.'], ['56:63']],\n",
       "    'Polarity': 'Positive',\n",
       "    'Intensity': 'Standard'},\n",
       "   {'Source': [[], []],\n",
       "    'Target': [['local food. Recommended,'], ['26:50']],\n",
       "    'Polar_expression': [['Excellent'], ['0:9']],\n",
       "    'Polarity': 'Positive',\n",
       "    'Intensity': 'Standard'}]}]"
      ]
     },
     "execution_count": 2,
     "metadata": {},
     "output_type": "execute_result"
    }
   ],
   "source": [
    "with open('../data/yelp/INFER_yelp-food-rawtext_2rest100.conllu.json') as f:\n",
    "    infer2 = json.load(f)\n",
    "\n",
    "infer2[:3]"
   ]
  },
  {
   "cell_type": "code",
   "execution_count": 3,
   "metadata": {},
   "outputs": [
    {
     "name": "stdout",
     "output_type": "stream",
     "text": [
      "94 nonempty-opinion reviews in 100 reviews\n",
      "total opinions: 310\n",
      "nonempty targets: 182\n"
     ]
    }
   ],
   "source": [
    "total_op = 0\n",
    "nonempty_target = 0\n",
    "nonempty_opinion = 0\n",
    "\n",
    "for pred in infer2:\n",
    "    # print(pred['opinions'])\n",
    "    if len(pred['opinions']) > 0:\n",
    "        nonempty_opinion += 1\n",
    "        total_op += len(pred['opinions'])\n",
    "\n",
    "        # print(pred['text']+'\\n')\n",
    "        for opin in pred['opinions']:\n",
    "            if len(opin['Target'][0]) > 0:\n",
    "                nonempty_target += 1\n",
    "\n",
    "                # print(opin['Target'][0], opin['Polarity'])\n",
    "        # print('----------')\n",
    "\n",
    "print(f'{nonempty_opinion} nonempty-opinion reviews in 100 reviews')\n",
    "print(f'total opinions: {total_op}')\n",
    "print(f'nonempty targets: {nonempty_target}')"
   ]
  },
  {
   "cell_type": "code",
   "execution_count": 4,
   "metadata": {},
   "outputs": [
    {
     "name": "stdout",
     "output_type": "stream",
     "text": [
      "The oysters were fresh and delicious! The oysters are the only reason I'm giving them 2! The smell at this location was very strong, we waited 30 minutes which wasn't bad however the lady cleaned our bar table with a dirty rag that had been sitting under all the menus she was handing out. Which lead me to believe that it hadn't been sanitized in a while. Silly me for not getting up and leaving but I wanted to see what the hype was! Well needless to say I won't be back, the gumbo was blah not a lot of flavor. Well this review is all over the pace but here it is!\n",
      "\n",
      "\n",
      "['The oysters'] Positive\n",
      "----------\n",
      "Really wanted to like this place, but it was super meh. I didn't mind the hour-long wait since you can grab a drink and hang out... but the whole experience just wasn't worth the wait. Prices aren't too bad (but I'm from Los Angeles so I'm used to hyped up prices)... but overpriced for what the place provides.First star off for the terrible service from the woman behind the bar. She looked miserable, like she hated her life. She didn't ask if we wanted a drink, she walked away mid-sentence when we asked a question about the menu, didn't ask if we needed anything else during our meal, no refills on our water, shrugged her shoulders when we commented about the terribly shucked oysters, took forever taking care of our check (you'd think she would wants us out of there with the long line outside!). Two stars off for the TERRIBLY shucked oysters. It's an OYSTER HOUSE so you'd think they'd get that right. Oysters were large and meaty, but EVERY one of the two dozen raw oysters we ordered had shell shards. The grilled oysters had shell shards also. Really ruined the experience. I saw people next to us spit out shell chunks, too. I LOVE oysters and had more than 6 dozen during my few nights in NOLA... and this was the only place that had shell shards. Terrible. Grilled oysters were overcooked as well. (I actually recommend Felix's across the street for fresh, meaty raw and grilled oysters.)Two stars because the boo fries are good (but suuuuuper salty). Gumbo and jambalaya were good, but COOP'S does it WAY better. NOT worth the wait. So many other places nearby that do these better! Super disappointed :(\n",
      "\n",
      "\n",
      "['the whole experience', 'right.', 'the'] Positive\n",
      "['the boo fries'] Positive\n",
      "----------\n"
     ]
    }
   ],
   "source": [
    "# special cases\n",
    "\n",
    "for pred in infer2:\n",
    "    if pred['sent_id'] == 'kQVI8-VqhIVq3hN2ekFCSQ' or pred['sent_id'] == 'qagu5kfTLzwXlqWYjfrS5Q':\n",
    "        print(pred['text'])\n",
    "        print('\\n')\n",
    "\n",
    "        for opin in pred['opinions']:\n",
    "            if len(opin['Target'][0]) > 0:\n",
    "                print(opin['Target'][0], opin['Polarity'])\n",
    "\n",
    "        print('----------')\n"
   ]
  }
 ],
 "metadata": {
  "kernelspec": {
   "display_name": "Python 3.6.9 ('qwe9887476': venv)",
   "language": "python",
   "name": "python3"
  },
  "language_info": {
   "codemirror_mode": {
    "name": "ipython",
    "version": 3
   },
   "file_extension": ".py",
   "mimetype": "text/x-python",
   "name": "python",
   "nbconvert_exporter": "python",
   "pygments_lexer": "ipython3",
   "version": "3.6.9"
  },
  "orig_nbformat": 4,
  "vscode": {
   "interpreter": {
    "hash": "5bf6df6aca0587c3d575cbe78d8d9df74e83db4ef5eb69188bbfb0803a9e9627"
   }
  }
 },
 "nbformat": 4,
 "nbformat_minor": 2
}
