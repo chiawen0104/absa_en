{
 "cells": [
  {
   "cell_type": "markdown",
   "id": "95f5bcee-e1e8-4586-9146-32012f9457f9",
   "metadata": {
    "tags": []
   },
   "source": [
    "\n",
    "## Postponed\n",
    "### SemEval22 Data Merging \n",
    "\n",
    "- Author: Ching Wen Yang (Nana)\n",
    "- Date Created: 2022/08/17\n",
    "- Purpose: Merging data \n",
    "---\n",
    "- merge Train Sets of `opener_en, dunis,  mpqa`\n",
    "    - give them a tag of `source` for indication \n",
    "- [Graph Parser REPO](https://github.com/jerbarnes/semeval22_structured_sentiment/tree/aa65f2c9fd65a1b7f31b96878da8912b8ff3f67c/baselines/graph_parser)\n",
    "    - command: `bash ./inference.sh sentiment_graphs/multibooked_eu/head_final/dev.conllu experiments/multibooked_eu/head_final/ embeddings/32.zip`"
   ]
  },
  {
   "cell_type": "code",
   "execution_count": null,
   "id": "53847f65-c695-4815-bad3-4100a824cd5a",
   "metadata": {},
   "outputs": [],
   "source": [
    "s22root = '/share/home/nana2929/semEval22/Structured_Sentiment'\n",
    "s22data = f'{s22root}/data'\n",
    "DATASETS = ['opener_en', 'darmstadt_unis',  'mpqa']\n",
    "# train.json \n",
    "# 那dev set要用啥\n",
    "\n"
   ]
  }
 ],
 "metadata": {
  "kernelspec": {
   "display_name": "Python 3",
   "language": "python",
   "name": "python3"
  },
  "language_info": {
   "codemirror_mode": {
    "name": "ipython",
    "version": 3
   },
   "file_extension": ".py",
   "mimetype": "text/x-python",
   "name": "python",
   "nbconvert_exporter": "python",
   "pygments_lexer": "ipython3",
   "version": "3.6.9"
  }
 },
 "nbformat": 4,
 "nbformat_minor": 5
}
