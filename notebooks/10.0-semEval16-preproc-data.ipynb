{
 "cells": [
  {
   "cell_type": "markdown",
   "id": "d7f3dd52-b662-4068-995a-443fc4195782",
   "metadata": {},
   "source": [
    "## SemEval16: Dataset Preprocessing \n",
    "\n",
    "- Author: Nana\n",
    "- Created: 2022.07.21\n",
    "---\n",
    "- Goal: preprocess the data to fit the format provided by semEval 2022.\n",
    "- Source data: SemEval 2016 Task 5 Restaurant datasets \n",
    "- XML to JSON\n"
   ]
  },
  {
   "cell_type": "code",
   "execution_count": 111,
   "id": "00cefdbc-316a-49fc-8751-a549e1f6bef6",
   "metadata": {},
   "outputs": [
    {
     "data": {
      "text/plain": [
       "['EN_REST_SB1_TEST-gold.xml',\n",
       " 'EN_REST_SB1_TEST-B.xml',\n",
       " 'ABSA16_Restaurants_Train_SB1_v2.xml',\n",
       " 'EN_REST_SB1_TEST-A.xml']"
      ]
     },
     "execution_count": 111,
     "metadata": {},
     "output_type": "execute_result"
    }
   ],
   "source": [
    "datadir = '../../semEval16/data'\n",
    "import os, sys\n",
    "queue = []\n",
    "for file in os.listdir(datadir):\n",
    "    if file.endswith('.xml'):\n",
    "        queue.append(file)\n",
    "queue"
   ]
  },
  {
   "cell_type": "markdown",
   "id": "1d3f41f2-f0c9-4774-9018-82fc3794edce",
   "metadata": {},
   "source": [
    "### XML structure "
   ]
  },
  {
   "cell_type": "code",
   "execution_count": 47,
   "id": "64ad19cb-dbbc-4225-bd86-e0e5e0bf83ec",
   "metadata": {},
   "outputs": [
    {
     "name": "stdout",
     "output_type": "stream",
     "text": [
      "Reviews\n",
      "Review {'rid': 'en_BlueRibbonSushi_478218171'}\n",
      "{'id': 'en_BlueRibbonSushi_478218171:0'}\n",
      "Yum!\n",
      "{'target': 'NULL', 'category': 'FOOD#QUALITY', 'polarity': 'positive', 'from': '0', 'to': '0'}\n",
      "{'id': 'en_BlueRibbonSushi_478218171:1'}\n",
      "Serves really good sushi.\n",
      "{'target': 'sushi', 'category': 'FOOD#QUALITY', 'polarity': 'positive', 'from': '19', 'to': '24'}\n",
      "{'id': 'en_BlueRibbonSushi_478218171:2'}\n",
      "Not the biggest portions but adequate.\n",
      "{'target': 'portions', 'category': 'FOOD#STYLE_OPTIONS', 'polarity': 'neutral', 'from': '16', 'to': '24'}\n",
      "{'id': 'en_BlueRibbonSushi_478218171:3'}\n",
      "Green Tea creme brulee is a must!\n",
      "{'target': 'Green Tea creme brulee', 'category': 'FOOD#QUALITY', 'polarity': 'positive', 'from': '0', 'to': '22'}\n",
      "{'id': 'en_BlueRibbonSushi_478218171:4'}\n",
      "Don't leave the restaurant without it.\n",
      "{'target': 'NULL', 'category': 'FOOD#QUALITY', 'polarity': 'positive', 'from': '0', 'to': '0'}\n"
     ]
    }
   ],
   "source": [
    "from xml.etree import ElementTree as ET\n",
    "\n",
    "filename = f'{datadir}/{queue[0]}'\n",
    "tree = ET.parse(filename)\n",
    "root = tree.getroot()\n",
    "print(root.tag)\n",
    "for review in root:\n",
    "    print(review.tag, review.attrib)\n",
    "    sentences = review.find('sentences')\n",
    "    for sentence in sentences.findall('sentence'):\n",
    "        print(sentence.attrib)\n",
    "        senttext = sentence.find('text')\n",
    "        opinions = sentence.find('Opinions')\n",
    "        print(senttext.text)\n",
    "        opinions = opinions.findall('Opinion')\n",
    "        print(opinions[0].attrib)  \n",
    "    break "
   ]
  },
  {
   "cell_type": "markdown",
   "id": "8bc4d43f-fea7-46a0-9200-0619ca0af873",
   "metadata": {},
   "source": [
    "### SemEval 2022 Data Structure"
   ]
  },
  {
   "cell_type": "code",
   "execution_count": 87,
   "id": "14177752-357b-4e65-8ded-2e337814d9ef",
   "metadata": {},
   "outputs": [],
   "source": [
    "class structs:\n",
    "    def ReviewDict():\n",
    "        return {\n",
    "            'review_id':'', # extra, to keep the review-sentences structure in SemEval 2016 \n",
    "            'sent_id': '',\n",
    "            'text':'',\n",
    "            'opinions':[]\n",
    "        }\n",
    "    def OpnDict():\n",
    "        return {\n",
    "        'Source':[[],[]],\n",
    "        'Target':[[],[]],\n",
    "        'Polar_expression':[[],[]],\n",
    "        'Polarity':'',\n",
    "        'Intensity':'',\n",
    "        'Category': '', # extra, to keep the gold label of category in SemEval 2016 \n",
    "    }"
   ]
  },
  {
   "cell_type": "markdown",
   "id": "919bc73b-cfff-4e1c-ae8d-df861b906f7e",
   "metadata": {},
   "source": [
    "### Conversion Function"
   ]
  },
  {
   "cell_type": "code",
   "execution_count": 109,
   "id": "f531bc8e-5398-4bee-ba33-021a7a3b65b6",
   "metadata": {},
   "outputs": [],
   "source": [
    "from xml.etree import ElementTree as ET\n",
    "import json "
   ]
  },
  {
   "cell_type": "code",
   "execution_count": 124,
   "id": "06885d35-1a93-4691-bcaf-3dfcfc5a1712",
   "metadata": {},
   "outputs": [],
   "source": [
    "def xml2JSON(filename):\n",
    "    tree = ET.parse(filename)\n",
    "    root = tree.getroot()\n",
    "    print(root.tag)\n",
    "    REVIEWS = []\n",
    "    for review in root:\n",
    "        # print(review.tag, review.attrib['rid'])\n",
    "\n",
    "        sentences = review.find('sentences')\n",
    "\n",
    "        for sentence in sentences.findall('sentence'):\n",
    "            # print('==initializing ReviewDict==')\n",
    "            RD = structs.ReviewDict()\n",
    "            RD['review_id'] = review.attrib['rid']\n",
    "            RD['sent_id'] = sentence.attrib['id']\n",
    "            RD['text'] = sentence.find('text').text\n",
    "\n",
    "            opinions = sentence.find('Opinions')\n",
    "            if opinions: \n",
    "                opinions = opinions.findall('Opinion')\n",
    "                for op in opinions:\n",
    "                    op = op.attrib\n",
    "                    OPD = structs.OpnDict()\n",
    "\n",
    "                    if op['target'] == 'NULL': \n",
    "                        target = [[], []]\n",
    "                    else: \n",
    "                        target = [op['target'], [f\"{op['from']}:{op['to']}\"]]\n",
    "                    # skip Source\n",
    "                    OPD['Target'] = target\n",
    "                    OPD['Polarity'] = op['polarity']\n",
    "                    OPD['Category'] = op['category']\n",
    "                    RD['opinions'].append(OPD) \n",
    "                    # print(RD['opinions'])\n",
    "            else: pass \n",
    "            REVIEWS.append(RD)\n",
    "            \n",
    "    jsonfilename = filename.rstrip('.xml')+'.json'\n",
    "    with open(jsonfilename, 'w') as fout:\n",
    "        json.dump(REVIEWS , fout, ensure_ascii=False, indent = 4)\n",
    "    print(f'{filename} converting to {jsonfilename}.')"
   ]
  },
  {
   "cell_type": "code",
   "execution_count": 125,
   "id": "b32ecd3b-e013-4280-a8de-e968aa4eba2b",
   "metadata": {},
   "outputs": [
    {
     "name": "stdout",
     "output_type": "stream",
     "text": [
      "Reviews\n",
      "../../semEval16/data/EN_REST_SB1_TEST-gold.xml converting to ../../semEval16/data/EN_REST_SB1_TEST-gold.json.\n",
      "Reviews\n",
      "../../semEval16/data/EN_REST_SB1_TEST-B.xml converting to ../../semEval16/data/EN_REST_SB1_TEST-B.json.\n",
      "Reviews\n",
      "../../semEval16/data/ABSA16_Restaurants_Train_SB1_v2.xml converting to ../../semEval16/data/ABSA16_Restaurants_Train_SB1_v2.json.\n",
      "Reviews\n",
      "../../semEval16/data/EN_REST_SB1_TEST-A.xml converting to ../../semEval16/data/EN_REST_SB1_TEST-A.json.\n"
     ]
    }
   ],
   "source": [
    "for file in queue:\n",
    "    filename = f'{datadir}/{file}'\n",
    "    xml2JSON(filename)"
   ]
  },
  {
   "cell_type": "code",
   "execution_count": null,
   "id": "5778c946-ac1b-40ad-8e2e-99fde8b3607f",
   "metadata": {},
   "outputs": [],
   "source": []
  }
 ],
 "metadata": {
  "kernelspec": {
   "display_name": "Python 3",
   "language": "python",
   "name": "python3"
  },
  "language_info": {
   "codemirror_mode": {
    "name": "ipython",
    "version": 3
   },
   "file_extension": ".py",
   "mimetype": "text/x-python",
   "name": "python",
   "nbconvert_exporter": "python",
   "pygments_lexer": "ipython3",
   "version": "3.6.9"
  }
 },
 "nbformat": 4,
 "nbformat_minor": 5
}
