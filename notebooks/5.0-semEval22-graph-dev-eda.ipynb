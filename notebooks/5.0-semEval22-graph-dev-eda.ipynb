{
 "cells": [
  {
   "cell_type": "markdown",
   "id": "533dd5f2-9fe3-4106-b6dd-0f511f3585d4",
   "metadata": {},
   "source": [
    "# SemEval 2022 Dev set EDA: Graph-Parser Baseline"
   ]
  },
  {
   "cell_type": "markdown",
   "id": "dbfbb6df-c0a2-4f95-933d-ec68707ce62d",
   "metadata": {},
   "source": [
    "- Introduction: [graph-parsr Github](https://github.com/jerbarnes/semeval22_structured_sentiment/tree/master/baselines/graph_parser)\n",
    "- Best F1:\n",
    "\n",
    "|-|opener_en|darmstadt_unis|mpqa|\n",
    "|:---------:|:---------:|:----------:|:--------:|\n",
    "|  epoch  |  #100   |    #63   |  #100  | \n",
    "|    F1   |  0.5308 |   0.3135 | 0.3671 |"
   ]
  },
  {
   "cell_type": "code",
   "execution_count": 1,
   "id": "2512ca90-249d-407d-8145-0a61242ae18e",
   "metadata": {},
   "outputs": [],
   "source": [
    "import os\n",
    "os.chdir('/share/home/qwe9887476/')"
   ]
  },
  {
   "cell_type": "code",
   "execution_count": 4,
   "id": "b072dba7-4eeb-4893-ae40-4085921d756f",
   "metadata": {},
   "outputs": [],
   "source": [
    "import json\n",
    "root_dir = './semeval22_structured_sentiment/'\n",
    "prediction_dir = f'{root_dir}/baselines/graph_parser/experiments'\n",
    "golden_dir = f'{root_dir}/data'\n",
    "PREDICTIONS = {'darmstadt_unis':None, 'mpqa':None, 'opener_en':None}\n",
    "GOLDS = {'darmstadt_unis':None, 'mpqa':None, 'opener_en':None}\n",
    "\n",
    "for DATASET in PREDICTIONS.keys():\n",
    "    predpath = f'{prediction_dir}/{DATASET}/head_final/dev.conllu.json'\n",
    "    goldpath = f'{golden_dir}/{DATASET}/dev.json'\n",
    "    with open (predpath, 'r') as f:\n",
    "        PREDICTIONS[DATASET] = json.load(f)  \n",
    "    with open (goldpath, 'r') as f2:\n",
    "        GOLDS[DATASET] = json.load(f2) "
   ]
  },
  {
   "cell_type": "code",
   "execution_count": 5,
   "id": "f1b0633a-ae4a-44dc-b097-b5ba4ded35ee",
   "metadata": {},
   "outputs": [],
   "source": [
    "ALLDEVS = {}"
   ]
  },
  {
   "cell_type": "code",
   "execution_count": 6,
   "id": "4a4ae82f-9718-4f65-871b-301c9494b1fb",
   "metadata": {},
   "outputs": [],
   "source": [
    "# match by sent-id\n",
    "from collections import defaultdict\n",
    "def pred_align(preds, golds):\n",
    "    '''\n",
    "    preds: list of dicts\n",
    "    golds: list of dicts\n",
    "    dict內需包含 'sent_id' key \n",
    "    '''\n",
    "    SENTID = defaultdict(lambda: {'PRED':None, 'GOLD':None})\n",
    "    for p, g in zip(preds, golds):\n",
    "        p_id, g_id = p['sent_id'], g['sent_id']\n",
    "        SENTID[p_id]['PRED'] = p\n",
    "        SENTID[g_id]['GOLD'] = g\n",
    "    return SENTID, list(SENTID.keys())"
   ]
  },
  {
   "cell_type": "code",
   "execution_count": 7,
   "id": "5a98ecdf-1a87-4d1d-9f67-127e90d4ddad",
   "metadata": {},
   "outputs": [],
   "source": [
    "def show_random(dataset_name, sent_id = None):\n",
    "    '''\n",
    "    dataset_name: string\n",
    "    '''\n",
    "    from random import randint\n",
    "    try:\n",
    "        PGPAIRS, ids = ALLDEVS[dataset_name]\n",
    "    except KeyError:\n",
    "        print(f'No {dataset_name} in ALLDEVS.')\n",
    "    dev_size=len(ids)\n",
    "    rsid = ids[randint(0, dev_size-1)]\n",
    "    if sent_id:\n",
    "        rsid = sent_id\n",
    "    \n",
    "    print(f'[INFO] dev set size: {dev_size}')\n",
    "    print(f'[INFO] sent id: {rsid}')\n",
    "    pred, gold = PGPAIRS[rsid]['PRED'], PGPAIRS[rsid]['GOLD']\n",
    "    return pred, gold, rsid"
   ]
  },
  {
   "cell_type": "code",
   "execution_count": 9,
   "id": "625c0dfd-6530-4dde-8f10-850a21d422eb",
   "metadata": {},
   "outputs": [],
   "source": [
    "keys = ('opener_en', 'darmstadt_unis', 'mpqa')"
   ]
  },
  {
   "cell_type": "code",
   "execution_count": 10,
   "id": "a4a8e3bb-7371-4f89-8ede-1a28584de33e",
   "metadata": {},
   "outputs": [],
   "source": [
    "for key in keys:\n",
    "    PGPAIRS, ids = pred_align(PREDICTIONS[key], GOLDS[key])\n",
    "    ALLDEVS[key] = (PGPAIRS, ids)"
   ]
  },
  {
   "cell_type": "markdown",
   "id": "41d5c639-f7e9-4aba-b192-be256bc9ec91",
   "metadata": {
    "tags": []
   },
   "source": [
    "## opener_en"
   ]
  },
  {
   "cell_type": "markdown",
   "id": "82a55393-b688-4394-a220-034a77be38d0",
   "metadata": {},
   "source": [
    "### example 1 (long text): correct targets and expressions"
   ]
  },
  {
   "cell_type": "code",
   "execution_count": 11,
   "id": "6f95cb75-d5a7-4182-9e20-6f4f2ab747d5",
   "metadata": {},
   "outputs": [
    {
     "name": "stdout",
     "output_type": "stream",
     "text": [
      "[INFO] dev set size: 249\n",
      "[INFO] sent id: opener_en/kaf/hotel/english00180_d5ec496d5858acfbab77283dd350b0ec-4\n"
     ]
    }
   ],
   "source": [
    "key = 'opener_en'\n",
    "pred, gold, sent_id = show_random(key, sent_id='opener_en/kaf/hotel/english00180_d5ec496d5858acfbab77283dd350b0ec-4')\n",
    "# pred, gold, sent_id = show_random(key)"
   ]
  },
  {
   "cell_type": "code",
   "execution_count": 12,
   "id": "c5846d8e-2257-4894-b8f3-77e9dcd07e61",
   "metadata": {},
   "outputs": [
    {
     "data": {
      "text/plain": [
       "{'sent_id': 'opener_en/kaf/hotel/english00180_d5ec496d5858acfbab77283dd350b0ec-4',\n",
       " 'text': 'We had a groundfloor room so access for my scootmobile was no problem and parking of the scootmobile was also sorted without any fuss · a great team , staff and management .',\n",
       " 'opinions': [{'Source': [['We'], ['0:2']],\n",
       "   'Target': [['groundfloor room'], ['9:25']],\n",
       "   'Polar_expression': [['no problem'], ['59:69']],\n",
       "   'Polarity': 'Positive',\n",
       "   'Intensity': 'Standard'},\n",
       "  {'Source': [['We'], ['0:2']],\n",
       "   'Target': [['access for my scootmobile'], ['29:54']],\n",
       "   'Polar_expression': [['no problem'], ['59:69']],\n",
       "   'Polarity': 'Positive',\n",
       "   'Intensity': 'Standard'},\n",
       "  {'Source': [[], []],\n",
       "   'Target': [['management'], ['161:171']],\n",
       "   'Polar_expression': [['great'], ['138:143']],\n",
       "   'Polarity': 'Positive',\n",
       "   'Intensity': 'Strong'},\n",
       "  {'Source': [[], []],\n",
       "   'Target': [['team'], ['144:148']],\n",
       "   'Polar_expression': [['great'], ['138:143']],\n",
       "   'Polarity': 'Positive',\n",
       "   'Intensity': 'Strong'},\n",
       "  {'Source': [[], []],\n",
       "   'Target': [['staff'], ['151:156']],\n",
       "   'Polar_expression': [['great'], ['138:143']],\n",
       "   'Polarity': 'Positive',\n",
       "   'Intensity': 'Strong'},\n",
       "  {'Source': [[], []],\n",
       "   'Target': [['parking of the scootmobile'], ['74:100']],\n",
       "   'Polar_expression': [['sorted without any fuss'], ['110:133']],\n",
       "   'Polarity': 'Positive',\n",
       "   'Intensity': 'Standard'}]}"
      ]
     },
     "execution_count": 12,
     "metadata": {},
     "output_type": "execute_result"
    }
   ],
   "source": [
    "gold"
   ]
  },
  {
   "cell_type": "code",
   "execution_count": 13,
   "id": "56b2e724-9ac1-460a-8a9f-7d3dba4b3f8e",
   "metadata": {},
   "outputs": [
    {
     "data": {
      "text/plain": [
       "{'sent_id': 'opener_en/kaf/hotel/english00180_d5ec496d5858acfbab77283dd350b0ec-4',\n",
       " 'text': 'We had a groundfloor room so access for my scootmobile was no problem and parking of the scootmobile was also sorted without any fuss · a great team , staff and management .',\n",
       " 'opinions': [{'Source': [[], []],\n",
       "   'Target': [['parking of the scootmobile'], ['74:100']],\n",
       "   'Polar_expression': [['sorted without any fuss'], ['110:133']],\n",
       "   'Polarity': 'Positive',\n",
       "   'Intensity': 'Standard'},\n",
       "  {'Source': [['We'], ['0:2']],\n",
       "   'Target': [['groundfloor room', 'access'], ['9:25', '29:35']],\n",
       "   'Polar_expression': [['no problem'], ['59:69']],\n",
       "   'Polarity': 'Positive',\n",
       "   'Intensity': 'Standard'},\n",
       "  {'Source': [['We'], ['0:2']],\n",
       "   'Target': [['groundfloor', 'access for my scootmobile'], ['9:20', '29:54']],\n",
       "   'Polar_expression': [['no problem'], ['59:69']],\n",
       "   'Polarity': 'Positive',\n",
       "   'Intensity': 'Standard'},\n",
       "  {'Source': [[], []],\n",
       "   'Target': [['team'], ['144:148']],\n",
       "   'Polar_expression': [['great'], ['138:143']],\n",
       "   'Polarity': 'Positive',\n",
       "   'Intensity': 'Standard'},\n",
       "  {'Source': [[], []],\n",
       "   'Target': [['staff'], ['151:156']],\n",
       "   'Polar_expression': [['great'], ['138:143']],\n",
       "   'Polarity': 'Positive',\n",
       "   'Intensity': 'Standard'},\n",
       "  {'Source': [[], []],\n",
       "   'Target': [['management'], ['161:171']],\n",
       "   'Polar_expression': [['great'], ['138:143']],\n",
       "   'Polarity': 'Positive',\n",
       "   'Intensity': 'Standard'}]}"
      ]
     },
     "execution_count": 13,
     "metadata": {},
     "output_type": "execute_result"
    }
   ],
   "source": [
    "pred"
   ]
  },
  {
   "cell_type": "markdown",
   "id": "f4263936-1ed5-4a0c-8b96-c41638d19a14",
   "metadata": {},
   "source": [
    "### example 2: correct targets and expressions"
   ]
  },
  {
   "cell_type": "code",
   "execution_count": 29,
   "id": "243c3bcb-3783-4e02-b6fc-e1704740e4ee",
   "metadata": {},
   "outputs": [
    {
     "name": "stdout",
     "output_type": "stream",
     "text": [
      "[INFO] dev set size: 249\n",
      "[INFO] sent id: opener_en/kaf/hotel/english00163_f2de7a0618bb010682e1d91c2e554c63-3\n"
     ]
    }
   ],
   "source": [
    "key = 'opener_en'\n",
    "pred, gold, sent_id = show_random(key, sent_id='opener_en/kaf/hotel/english00163_f2de7a0618bb010682e1d91c2e554c63-3')\n",
    "# pred, gold, sent_id = show_random(key)"
   ]
  },
  {
   "cell_type": "code",
   "execution_count": 14,
   "id": "cc1c44fb-6dc6-4829-89e5-9db5ff045314",
   "metadata": {},
   "outputs": [
    {
     "data": {
      "text/plain": [
       "{'sent_id': 'opener_en/kaf/hotel/english00180_d5ec496d5858acfbab77283dd350b0ec-4',\n",
       " 'text': 'We had a groundfloor room so access for my scootmobile was no problem and parking of the scootmobile was also sorted without any fuss · a great team , staff and management .',\n",
       " 'opinions': [{'Source': [['We'], ['0:2']],\n",
       "   'Target': [['groundfloor room'], ['9:25']],\n",
       "   'Polar_expression': [['no problem'], ['59:69']],\n",
       "   'Polarity': 'Positive',\n",
       "   'Intensity': 'Standard'},\n",
       "  {'Source': [['We'], ['0:2']],\n",
       "   'Target': [['access for my scootmobile'], ['29:54']],\n",
       "   'Polar_expression': [['no problem'], ['59:69']],\n",
       "   'Polarity': 'Positive',\n",
       "   'Intensity': 'Standard'},\n",
       "  {'Source': [[], []],\n",
       "   'Target': [['management'], ['161:171']],\n",
       "   'Polar_expression': [['great'], ['138:143']],\n",
       "   'Polarity': 'Positive',\n",
       "   'Intensity': 'Strong'},\n",
       "  {'Source': [[], []],\n",
       "   'Target': [['team'], ['144:148']],\n",
       "   'Polar_expression': [['great'], ['138:143']],\n",
       "   'Polarity': 'Positive',\n",
       "   'Intensity': 'Strong'},\n",
       "  {'Source': [[], []],\n",
       "   'Target': [['staff'], ['151:156']],\n",
       "   'Polar_expression': [['great'], ['138:143']],\n",
       "   'Polarity': 'Positive',\n",
       "   'Intensity': 'Strong'},\n",
       "  {'Source': [[], []],\n",
       "   'Target': [['parking of the scootmobile'], ['74:100']],\n",
       "   'Polar_expression': [['sorted without any fuss'], ['110:133']],\n",
       "   'Polarity': 'Positive',\n",
       "   'Intensity': 'Standard'}]}"
      ]
     },
     "execution_count": 14,
     "metadata": {},
     "output_type": "execute_result"
    }
   ],
   "source": [
    "gold"
   ]
  },
  {
   "cell_type": "code",
   "execution_count": 15,
   "id": "2fb92f8a-9e22-4ba8-881c-6c97d5ddc648",
   "metadata": {},
   "outputs": [
    {
     "data": {
      "text/plain": [
       "{'sent_id': 'opener_en/kaf/hotel/english00180_d5ec496d5858acfbab77283dd350b0ec-4',\n",
       " 'text': 'We had a groundfloor room so access for my scootmobile was no problem and parking of the scootmobile was also sorted without any fuss · a great team , staff and management .',\n",
       " 'opinions': [{'Source': [[], []],\n",
       "   'Target': [['parking of the scootmobile'], ['74:100']],\n",
       "   'Polar_expression': [['sorted without any fuss'], ['110:133']],\n",
       "   'Polarity': 'Positive',\n",
       "   'Intensity': 'Standard'},\n",
       "  {'Source': [['We'], ['0:2']],\n",
       "   'Target': [['groundfloor room', 'access'], ['9:25', '29:35']],\n",
       "   'Polar_expression': [['no problem'], ['59:69']],\n",
       "   'Polarity': 'Positive',\n",
       "   'Intensity': 'Standard'},\n",
       "  {'Source': [['We'], ['0:2']],\n",
       "   'Target': [['groundfloor', 'access for my scootmobile'], ['9:20', '29:54']],\n",
       "   'Polar_expression': [['no problem'], ['59:69']],\n",
       "   'Polarity': 'Positive',\n",
       "   'Intensity': 'Standard'},\n",
       "  {'Source': [[], []],\n",
       "   'Target': [['team'], ['144:148']],\n",
       "   'Polar_expression': [['great'], ['138:143']],\n",
       "   'Polarity': 'Positive',\n",
       "   'Intensity': 'Standard'},\n",
       "  {'Source': [[], []],\n",
       "   'Target': [['staff'], ['151:156']],\n",
       "   'Polar_expression': [['great'], ['138:143']],\n",
       "   'Polarity': 'Positive',\n",
       "   'Intensity': 'Standard'},\n",
       "  {'Source': [[], []],\n",
       "   'Target': [['management'], ['161:171']],\n",
       "   'Polar_expression': [['great'], ['138:143']],\n",
       "   'Polarity': 'Positive',\n",
       "   'Intensity': 'Standard'}]}"
      ]
     },
     "execution_count": 15,
     "metadata": {},
     "output_type": "execute_result"
    }
   ],
   "source": [
    "pred"
   ]
  },
  {
   "cell_type": "markdown",
   "id": "d9cb059a-b655-4a07-8f19-ff36a903c535",
   "metadata": {},
   "source": [
    "### example 3: no target, wrong expression"
   ]
  },
  {
   "cell_type": "code",
   "execution_count": 16,
   "id": "da5cfdd4-c1f6-4bb5-90f7-f4f11b20d5d6",
   "metadata": {},
   "outputs": [
    {
     "name": "stdout",
     "output_type": "stream",
     "text": [
      "[INFO] dev set size: 249\n",
      "[INFO] sent id: opener_en/kaf/hotel/english00016_1bf091a4517b245ddc05ed2efd135973-7\n"
     ]
    }
   ],
   "source": [
    "key = 'opener_en'\n",
    "pred, gold, sent_id = show_random(key, sent_id='opener_en/kaf/hotel/english00016_1bf091a4517b245ddc05ed2efd135973-7')\n",
    "# pred, gold, sent_id = show_random(key)"
   ]
  },
  {
   "cell_type": "code",
   "execution_count": 17,
   "id": "90620386-eb4c-47a9-823d-c0d87e43f37d",
   "metadata": {},
   "outputs": [
    {
     "data": {
      "text/plain": [
       "{'sent_id': 'opener_en/kaf/hotel/english00016_1bf091a4517b245ddc05ed2efd135973-7',\n",
       " 'text': \"But what I really didn 't like was the music in the lobby bar en all the other bars , way to old !\",\n",
       " 'opinions': [{'Source': [['I'], ['9:10']],\n",
       "   'Target': [['the music'], ['35:44']],\n",
       "   'Polar_expression': [[\"really didn 't like\"], ['11:30']],\n",
       "   'Polarity': 'Negative',\n",
       "   'Intensity': 'Strong'}]}"
      ]
     },
     "execution_count": 17,
     "metadata": {},
     "output_type": "execute_result"
    }
   ],
   "source": [
    "gold"
   ]
  },
  {
   "cell_type": "code",
   "execution_count": 18,
   "id": "fc84c88b-ba82-4dcb-99a0-f7e770403374",
   "metadata": {},
   "outputs": [
    {
     "data": {
      "text/plain": [
       "{'sent_id': 'opener_en/kaf/hotel/english00016_1bf091a4517b245ddc05ed2efd135973-7',\n",
       " 'text': \"But what I really didn 't like was the music in the lobby bar en all the other bars , way to old !\",\n",
       " 'opinions': [{'Source': [[], []],\n",
       "   'Target': [[], []],\n",
       "   'Polar_expression': [['way to old !'], ['86:98']],\n",
       "   'Polarity': 'Negative',\n",
       "   'Intensity': 'Standard'}]}"
      ]
     },
     "execution_count": 18,
     "metadata": {},
     "output_type": "execute_result"
    }
   ],
   "source": [
    "pred"
   ]
  },
  {
   "cell_type": "markdown",
   "id": "ccd2d2c0-c6d3-49e0-9c6a-6174b7efc090",
   "metadata": {},
   "source": [
    "## darmstadt_unis"
   ]
  },
  {
   "cell_type": "markdown",
   "id": "b7f1d75e-a43b-45a9-9ac1-656de09bdc4a",
   "metadata": {},
   "source": [
    "### example 1: correct target but wrong polarity"
   ]
  },
  {
   "cell_type": "code",
   "execution_count": 90,
   "id": "c151609b-286e-475e-bcac-65668e014d78",
   "metadata": {},
   "outputs": [
    {
     "name": "stdout",
     "output_type": "stream",
     "text": [
      "[INFO] dev set size: 232\n",
      "[INFO] sent id: University_of_Phoenix_Online_174_11-02-2004-1\n"
     ]
    }
   ],
   "source": [
    "key = 'darmstadt_unis'\n",
    "pred, gold, sent_id = show_random(key, sent_id='University_of_Phoenix_Online_174_11-02-2004-1')\n",
    "# pred, gold, sent_id = show_random(key)"
   ]
  },
  {
   "cell_type": "code",
   "execution_count": 91,
   "id": "a626b023-c648-466e-99c4-25308104d5d2",
   "metadata": {},
   "outputs": [
    {
     "data": {
      "text/plain": [
       "{'sent_id': 'University_of_Phoenix_Online_174_11-02-2004-1',\n",
       " 'text': 'In general I have been pleased with UOP instruction and technical support is excellent , but their response times with the newsgroups are often unacceptable .',\n",
       " 'opinions': [{'Source': [[], []],\n",
       "   'Target': [['UOP'], ['36:39']],\n",
       "   'Polar_expression': [['pleased'], ['23:30']],\n",
       "   'Polarity': 'Positive',\n",
       "   'Intensity': 'Average'}]}"
      ]
     },
     "execution_count": 91,
     "metadata": {},
     "output_type": "execute_result"
    }
   ],
   "source": [
    "gold"
   ]
  },
  {
   "cell_type": "code",
   "execution_count": 92,
   "id": "bde2715f-429a-47da-8d84-8092a9c04727",
   "metadata": {},
   "outputs": [
    {
     "data": {
      "text/plain": [
       "{'sent_id': 'University_of_Phoenix_Online_174_11-02-2004-1',\n",
       " 'text': 'In general I have been pleased with UOP instruction and technical support is excellent , but their response times with the newsgroups are often unacceptable .',\n",
       " 'opinions': [{'Source': [[], []],\n",
       "   'Target': [[], []],\n",
       "   'Polar_expression': [['excellent'], ['77:86']],\n",
       "   'Polarity': 'Positive',\n",
       "   'Intensity': 'Standard'},\n",
       "  {'Source': [[], []],\n",
       "   'Target': [['UOP'], ['36:39']],\n",
       "   'Polar_expression': [['pleased'], ['23:30']],\n",
       "   'Polarity': 'Negative',\n",
       "   'Intensity': 'Standard'}]}"
      ]
     },
     "execution_count": 92,
     "metadata": {},
     "output_type": "execute_result"
    }
   ],
   "source": [
    "pred"
   ]
  },
  {
   "cell_type": "markdown",
   "id": "57818a2f-2129-460a-9361-65e3c6dc546f",
   "metadata": {},
   "source": [
    "### example 2: wrong targets and opinions"
   ]
  },
  {
   "cell_type": "code",
   "execution_count": 93,
   "id": "2657662f-97f7-47d8-bfa5-969041e186c8",
   "metadata": {},
   "outputs": [
    {
     "name": "stdout",
     "output_type": "stream",
     "text": [
      "[INFO] dev set size: 232\n",
      "[INFO] sent id: DeVry_University_95_05-16-2004-7\n"
     ]
    }
   ],
   "source": [
    "key = 'darmstadt_unis'\n",
    "pred, gold, sent_id = show_random(key, sent_id='DeVry_University_95_05-16-2004-7')\n",
    "# pred, gold, sent_id = show_random(key)"
   ]
  },
  {
   "cell_type": "code",
   "execution_count": 94,
   "id": "f8a5923c-293f-4815-9580-34ccc4c7e6a2",
   "metadata": {},
   "outputs": [
    {
     "data": {
      "text/plain": [
       "{'sent_id': 'DeVry_University_95_05-16-2004-7',\n",
       " 'text': 'The school gives students a knowledge base that makes them extremely competitive in the corporate world .',\n",
       " 'opinions': [{'Source': [[], []],\n",
       "   'Target': [['students'], ['17:25']],\n",
       "   'Polar_expression': [['extremely', 'competitive'], ['59:68', '69:80']],\n",
       "   'Polarity': 'Positive',\n",
       "   'Intensity': 'Strong'}]}"
      ]
     },
     "execution_count": 94,
     "metadata": {},
     "output_type": "execute_result"
    }
   ],
   "source": [
    "gold"
   ]
  },
  {
   "cell_type": "code",
   "execution_count": 95,
   "id": "48cc193f-853f-4673-b5e0-cf884bb0dbc3",
   "metadata": {},
   "outputs": [
    {
     "data": {
      "text/plain": [
       "{'sent_id': 'DeVry_University_95_05-16-2004-7',\n",
       " 'text': 'The school gives students a knowledge base that makes them extremely competitive in the corporate world .',\n",
       " 'opinions': [{'Source': [[], []],\n",
       "   'Target': [['school'], ['4:10']],\n",
       "   'Polar_expression': [['knowledge'], ['28:37']],\n",
       "   'Polarity': 'Positive',\n",
       "   'Intensity': 'Standard'}]}"
      ]
     },
     "execution_count": 95,
     "metadata": {},
     "output_type": "execute_result"
    }
   ],
   "source": [
    "pred"
   ]
  },
  {
   "cell_type": "markdown",
   "id": "68463047-7620-42ea-9f23-d7717e9d94a1",
   "metadata": {},
   "source": [
    "### example 3: correct!"
   ]
  },
  {
   "cell_type": "code",
   "execution_count": 99,
   "id": "4ba450fa-7531-4592-a305-b6485352ba81",
   "metadata": {},
   "outputs": [
    {
     "name": "stdout",
     "output_type": "stream",
     "text": [
      "[INFO] dev set size: 232\n",
      "[INFO] sent id: University_of_Maryland_University_College_3_01-03-2008-1\n"
     ]
    }
   ],
   "source": [
    "key = 'darmstadt_unis'\n",
    "pred, gold, sent_id = show_random(key, sent_id='University_of_Maryland_University_College_3_01-03-2008-1')\n",
    "# pred, gold, sent_id = show_random(key)"
   ]
  },
  {
   "cell_type": "code",
   "execution_count": 100,
   "id": "f201d7ba-232c-4fb1-bcb5-1b4e3a6a3f79",
   "metadata": {},
   "outputs": [
    {
     "data": {
      "text/plain": [
       "{'sent_id': 'University_of_Maryland_University_College_3_01-03-2008-1',\n",
       " 'text': 'Its not perfect , but it works for individuals who are motivated , hardworking and yet are busy with their careers .',\n",
       " 'opinions': [{'Source': [[], []],\n",
       "   'Target': [['it'], ['22:24']],\n",
       "   'Polar_expression': [['works'], ['25:30']],\n",
       "   'Polarity': 'Positive',\n",
       "   'Intensity': 'Weak'},\n",
       "  {'Source': [[], []],\n",
       "   'Target': [['Its'], ['0:3']],\n",
       "   'Polar_expression': [['not', 'perfect'], ['4:7', '8:15']],\n",
       "   'Polarity': 'Positive',\n",
       "   'Intensity': 'Average'}]}"
      ]
     },
     "execution_count": 100,
     "metadata": {},
     "output_type": "execute_result"
    }
   ],
   "source": [
    "gold"
   ]
  },
  {
   "cell_type": "code",
   "execution_count": 101,
   "id": "9453db83-fd37-48d4-8f45-4f6759b58711",
   "metadata": {},
   "outputs": [
    {
     "data": {
      "text/plain": [
       "{'sent_id': 'University_of_Maryland_University_College_3_01-03-2008-1',\n",
       " 'text': 'Its not perfect , but it works for individuals who are motivated , hardworking and yet are busy with their careers .',\n",
       " 'opinions': [{'Source': [[], []],\n",
       "   'Target': [['Its'], ['0:3']],\n",
       "   'Polar_expression': [['not perfect'], ['4:15']],\n",
       "   'Polarity': 'Positive',\n",
       "   'Intensity': 'Standard'}]}"
      ]
     },
     "execution_count": 101,
     "metadata": {},
     "output_type": "execute_result"
    }
   ],
   "source": [
    "pred"
   ]
  },
  {
   "cell_type": "markdown",
   "id": "4326461f-e941-48d6-8e83-c018082968c1",
   "metadata": {},
   "source": [
    "## mpqa"
   ]
  },
  {
   "cell_type": "markdown",
   "id": "343b1396-5576-496c-bf93-fe5974937b77",
   "metadata": {},
   "source": [
    "### example 1: partially correct"
   ]
  },
  {
   "cell_type": "code",
   "execution_count": 123,
   "id": "fe5c92d2-2bdd-4471-92f9-9d57ec3824cf",
   "metadata": {},
   "outputs": [
    {
     "name": "stdout",
     "output_type": "stream",
     "text": [
      "[INFO] dev set size: 1997\n",
      "[INFO] sent id: 20020507/22.11.06-28210-26\n"
     ]
    }
   ],
   "source": [
    "key = 'mpqa'\n",
    "pred, gold, sent_id = show_random(key, sent_id='20020507/22.11.06-28210-26')\n",
    "# pred, gold, sent_id = show_random(key)"
   ]
  },
  {
   "cell_type": "code",
   "execution_count": 124,
   "id": "d32bddef-f64c-43a1-944f-97784a970a0a",
   "metadata": {},
   "outputs": [
    {
     "data": {
      "text/plain": [
       "{'sent_id': '20020507/22.11.06-28210-26',\n",
       " 'text': \"The opposition leader commended Canada and other countries for invoking sanctions against Mr. Mugabe 's regime .\",\n",
       " 'opinions': [{'Source': [['The opposition leader'], ['0:21']],\n",
       "   'Target': [[\"Mr. Mugabe 's regime\"], ['90:110']],\n",
       "   'Polar_expression': [['invoking sanctions against'], ['63:89']],\n",
       "   'Polarity': 'Negative',\n",
       "   'Intensity': 'Average'},\n",
       "  {'Source': [['The opposition leader'], ['0:21']],\n",
       "   'Target': [[\"invoking sanctions against Mr. Mugabe 's regime\"], ['63:110']],\n",
       "   'Polar_expression': [['commended'], ['22:31']],\n",
       "   'Polarity': 'Positive',\n",
       "   'Intensity': 'Average'},\n",
       "  {'Source': [['The opposition leader'], ['0:21']],\n",
       "   'Target': [[\"Mr. Mugabe 's regime\"], ['90:110']],\n",
       "   'Polar_expression': [['commended'], ['22:31']],\n",
       "   'Polarity': 'Positive',\n",
       "   'Intensity': 'Average'}]}"
      ]
     },
     "execution_count": 124,
     "metadata": {},
     "output_type": "execute_result"
    }
   ],
   "source": [
    "gold"
   ]
  },
  {
   "cell_type": "code",
   "execution_count": 125,
   "id": "9f9b8e23-7ec0-45d1-84ce-5691331aa4b7",
   "metadata": {},
   "outputs": [
    {
     "data": {
      "text/plain": [
       "{'sent_id': '20020507/22.11.06-28210-26',\n",
       " 'text': \"The opposition leader commended Canada and other countries for invoking sanctions against Mr. Mugabe 's regime .\",\n",
       " 'opinions': [{'Source': [['The opposition leader'], ['0:21']],\n",
       "   'Target': [['Mr. Mugabe'], ['90:100']],\n",
       "   'Polar_expression': [['invoking sanctions against'], ['63:89']],\n",
       "   'Polarity': 'Negative',\n",
       "   'Intensity': 'Standard'},\n",
       "  {'Source': [['The opposition leader'], ['0:21']],\n",
       "   'Target': [[\"Mr. Mugabe 's regime\"], ['90:110']],\n",
       "   'Polar_expression': [['invoking sanctions against'], ['63:89']],\n",
       "   'Polarity': 'Negative',\n",
       "   'Intensity': 'Standard'},\n",
       "  {'Source': [['The opposition leader'], ['0:21']],\n",
       "   'Target': [['Canada and other countries'], ['32:58']],\n",
       "   'Polar_expression': [['commended'], ['22:31']],\n",
       "   'Polarity': 'Negative',\n",
       "   'Intensity': 'Standard'}]}"
      ]
     },
     "execution_count": 125,
     "metadata": {},
     "output_type": "execute_result"
    }
   ],
   "source": [
    "pred"
   ]
  },
  {
   "cell_type": "markdown",
   "id": "654339f1-496c-4298-b27c-d9a030a4bf81",
   "metadata": {},
   "source": [
    "### example 2: correct! (target of pred is shorter)"
   ]
  },
  {
   "cell_type": "code",
   "execution_count": 170,
   "id": "fa5475ae-74a4-4a19-986c-38d75100cd6d",
   "metadata": {},
   "outputs": [
    {
     "name": "stdout",
     "output_type": "stream",
     "text": [
      "[INFO] dev set size: 1997\n",
      "[INFO] sent id: 20020304/20.42.01-25605-10\n"
     ]
    }
   ],
   "source": [
    "key = 'mpqa'\n",
    "pred, gold, sent_id = show_random(key, sent_id='20020304/20.42.01-25605-10')\n",
    "# pred, gold, sent_id = show_random(key)"
   ]
  },
  {
   "cell_type": "code",
   "execution_count": 171,
   "id": "06a2301a-e37a-48a8-9bf8-990a4cae93ea",
   "metadata": {},
   "outputs": [
    {
     "data": {
      "text/plain": [
       "{'sent_id': '20020304/20.42.01-25605-10',\n",
       " 'text': 'For instance , he denounced as a human rights violation the banning and seizure of satellite dishes in Iran , while the measure has been taken in line with the law .',\n",
       " 'opinions': [{'Source': [['he'], ['15:17']],\n",
       "   'Target': [['the banning and seizure of satellite dishes in Iran'],\n",
       "    ['56:107']],\n",
       "   'Polar_expression': [['denounced'], ['18:27']],\n",
       "   'Polarity': 'Negative',\n",
       "   'Intensity': 'Strong'}]}"
      ]
     },
     "execution_count": 171,
     "metadata": {},
     "output_type": "execute_result"
    }
   ],
   "source": [
    "gold"
   ]
  },
  {
   "cell_type": "code",
   "execution_count": 172,
   "id": "11592cee-9408-450a-9f3f-ea6d2f74451c",
   "metadata": {},
   "outputs": [
    {
     "data": {
      "text/plain": [
       "{'sent_id': '20020304/20.42.01-25605-10',\n",
       " 'text': 'For instance , he denounced as a human rights violation the banning and seizure of satellite dishes in Iran , while the measure has been taken in line with the law .',\n",
       " 'opinions': [{'Source': [['he'], ['15:17']],\n",
       "   'Target': [['dishes', 'Iran'], ['93:99', '103:107']],\n",
       "   'Polar_expression': [['denounced'], ['18:27']],\n",
       "   'Polarity': 'Negative',\n",
       "   'Intensity': 'Standard'}]}"
      ]
     },
     "execution_count": 172,
     "metadata": {},
     "output_type": "execute_result"
    }
   ],
   "source": [
    "pred"
   ]
  },
  {
   "cell_type": "markdown",
   "id": "621b7d10-cd65-44ed-84d3-9cccab7137dd",
   "metadata": {},
   "source": [
    "### example 3: wrong expression"
   ]
  },
  {
   "cell_type": "code",
   "execution_count": 233,
   "id": "aa753b36-e492-4fb1-ac62-7ec67a70eae8",
   "metadata": {},
   "outputs": [
    {
     "name": "stdout",
     "output_type": "stream",
     "text": [
      "[INFO] dev set size: 1997\n",
      "[INFO] sent id: 20020304/20.42.01-25605-14\n"
     ]
    }
   ],
   "source": [
    "key = 'mpqa'\n",
    "pred, gold, sent_id = show_random(key, sent_id='20020304/20.42.01-25605-14')\n",
    "# pred, gold, sent_id = show_random(key)"
   ]
  },
  {
   "cell_type": "code",
   "execution_count": 234,
   "id": "f711e482-d8fa-44c7-9058-9c7dd0c4f9fb",
   "metadata": {},
   "outputs": [
    {
     "data": {
      "text/plain": [
       "{'sent_id': '20020304/20.42.01-25605-14',\n",
       " 'text': 'This means that his annual anti-Iran reports are only dictated to him by Zionist circles and arrogant powers like the United States that lost their illegitimate interests in Iran with the victory of the Islamic Revolution and downfall of their puppet Pahlavi regime .',\n",
       " 'opinions': [{'Source': [['his'], ['16:19']],\n",
       "   'Target': [['Iran'], ['32:36']],\n",
       "   'Polar_expression': [['annual anti-Iran reports'], ['20:44']],\n",
       "   'Polarity': 'Negative',\n",
       "   'Intensity': 'Weak'}]}"
      ]
     },
     "execution_count": 234,
     "metadata": {},
     "output_type": "execute_result"
    }
   ],
   "source": [
    "gold"
   ]
  },
  {
   "cell_type": "code",
   "execution_count": 235,
   "id": "986d2e9f-5fa3-4fd8-a341-bf6c285dccfe",
   "metadata": {},
   "outputs": [
    {
     "data": {
      "text/plain": [
       "{'sent_id': '20020304/20.42.01-25605-14',\n",
       " 'text': 'This means that his annual anti-Iran reports are only dictated to him by Zionist circles and arrogant powers like the United States that lost their illegitimate interests in Iran with the victory of the Islamic Revolution and downfall of their puppet Pahlavi regime .',\n",
       " 'opinions': [{'Source': [[], []],\n",
       "   'Target': [['Iran with the victory of the Islamic Revolution and downfall of their puppet Pahlavi regime'],\n",
       "    ['174:265']],\n",
       "   'Polar_expression': [['interests'], ['161:170']],\n",
       "   'Polarity': 'Positive',\n",
       "   'Intensity': 'Standard'}]}"
      ]
     },
     "execution_count": 235,
     "metadata": {},
     "output_type": "execute_result"
    }
   ],
   "source": [
    "pred"
   ]
  },
  {
   "cell_type": "code",
   "execution_count": null,
   "id": "2187b5e9-62c1-4836-a7f9-eff19817c4ac",
   "metadata": {},
   "outputs": [],
   "source": []
  }
 ],
 "metadata": {
  "kernelspec": {
   "display_name": "Python 3",
   "language": "python",
   "name": "python3"
  },
  "language_info": {
   "codemirror_mode": {
    "name": "ipython",
    "version": 3
   },
   "file_extension": ".py",
   "mimetype": "text/x-python",
   "name": "python",
   "nbconvert_exporter": "python",
   "pygments_lexer": "ipython3",
   "version": "3.6.9"
  }
 },
 "nbformat": 4,
 "nbformat_minor": 5
}
