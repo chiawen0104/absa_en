{
 "cells": [
  {
   "cell_type": "markdown",
   "id": "c2ab9fd9-eb5e-45dd-b0bd-d1f369c868b1",
   "metadata": {},
   "source": [
    "## SemEval 2022 Dev set EDA: Seq-labeling Baseline\n",
    "- Author: Nana\n",
    "- Created: 2022.7.19\n",
    "\n",
    "- Dataset statistics \n",
    "    src: [1.0-semEval22-eda.ipynb](https://github.com/Nana2929/ckip_absa_en/blob/main/notebooks/1.0-semEval22-eda.ipynb)\n",
    "    - 資料數量\n",
    "    \n",
    "    |-|opener_en|darmstadt_unis|mpqa|\n",
    "    |-------|------|------|-------|\n",
    "    |train  |1744  |2253  |5643   |\n",
    "    |dev    |249   |232   |1997   |\n",
    "    |test   |499   |318   |2055   |\n",
    "\n",
    "    - 無情緒標記資料數量\n",
    "    \n",
    "    |-|opener_en|darmstadt_unis|mpqa|\n",
    "    |-------|------|------|-------|\n",
    "    |train  |344   |1572  |4389   |\n",
    "    |dev    |51    |150   |1581   |\n",
    "    |test   |92    |214   |1665   |\n",
    "\n",
    "The below description is taken from [seq-labeling Github](https://github.com/jerbarnes/semeval22_structured_sentiment/tree/master/baselines/sequence_labeling).\n",
    "- Pipelined; first train **3 separate models that extract the 3 sub-elements (holders, targets, expressions)** using sequence labeler (BiLSTM, 1-layer, 100 hidden-dim) for 10 epochs\n",
    "- Finally, train a **relation prediction model (BiLSTM + max-pooling)** to create contextualized representations of 1) the full text, 2) the first element (either a holder or target) and 3) the sentiment expression.\n",
    "- These three representations are then concatenated and passed to a linear layer followed by a sigmoid function. The training consists of predicting whether two elements have a relationship or not, converting the problem in binary classification.\n",
    "\n",
    "- Each dataset is trained alone (**7 datasets * (3+1) models = 28 models**).\n",
    "- The best development scores (metrics: **Macro F1**):\n",
    "1. extractions 直接看bios tagging每個token label正確與否\n",
    "2. relations (target, expression)兩兩交叉配對，有關係就T無關係則F，binary classifcation \n",
    "\n",
    "|annotation_type|  opener_en |darmstadt_unis|  mpqa  |\n",
    "|-----------|-----------|-------------|--------|\n",
    "|sources    |     0.779   |      0.547     |      0.432       |\n",
    "|targets    |     0.726    |     0.459    |         0.511    |\n",
    "|expressions|   0.577      |   0.243      |       0.320     | \n",
    "|relations|     0.701   | 0.435        |      0.709       | \n"
   ]
  },
  {
   "cell_type": "code",
   "execution_count": 11,
   "id": "703128e3-35d5-43b2-a2b1-1d4ddda32294",
   "metadata": {},
   "outputs": [],
   "source": [
    "import os\n",
    "os.chdir('/share/home/nana2929/')"
   ]
  },
  {
   "cell_type": "code",
   "execution_count": 38,
   "id": "77d08c2e-bf86-48b8-99af-83269564df8a",
   "metadata": {},
   "outputs": [],
   "source": [
    "import json\n",
    "root_dir = './semEval22/Structured_Sentiment/'\n",
    "prediction_dir = f'{root_dir}/baselines/sequence_labeling/saved_models/relation_prediction'\n",
    "golden_dir = f'{root_dir}/data'\n",
    "PREDICTIONS = {'darmstadt_unis':None, 'mpqa':None, 'opener_en':None}\n",
    "GOLDS = {'darmstadt_unis':None, 'mpqa':None, 'opener_en':None}\n",
    "\n",
    "for DATASET in PREDICTIONS.keys():\n",
    "    predpath = f'{prediction_dir}/{DATASET}/prediction.json'\n",
    "    goldpath = f'{golden_dir}/{DATASET}/dev.json'\n",
    "    with open (predpath, 'r') as f:\n",
    "        PREDICTIONS[DATASET] = json.load(f)  \n",
    "    with open (goldpath, 'r') as f2:\n",
    "        GOLDS[DATASET] = json.load(f2) "
   ]
  },
  {
   "cell_type": "code",
   "execution_count": 45,
   "id": "6d185bf1-70c9-4390-865e-337ec77f9d9e",
   "metadata": {},
   "outputs": [],
   "source": [
    "ALLDEVS = {}"
   ]
  },
  {
   "cell_type": "code",
   "execution_count": 39,
   "id": "32bd868a-63a4-466e-a7bd-d2632ceeb8f2",
   "metadata": {},
   "outputs": [],
   "source": [
    "# match by sent-id\n",
    "from collections import defaultdict\n",
    "def pred_align(preds, golds):\n",
    "    '''\n",
    "    preds: list of dicts\n",
    "    golds: list of dicts\n",
    "    dict內需包含 'sent_id' key \n",
    "    '''\n",
    "    SENTID = defaultdict(lambda: {'PRED':None, 'GOLD':None})\n",
    "    for p, g in zip(preds, golds):\n",
    "        p_id, g_id = p['sent_id'], g['sent_id']\n",
    "        SENTID[p_id]['PRED'] = p\n",
    "        SENTID[g_id]['GOLD'] = g\n",
    "    return SENTID, list(SENTID.keys())"
   ]
  },
  {
   "cell_type": "code",
   "execution_count": 148,
   "id": "422f4397-b574-4f90-92f8-682d93e18104",
   "metadata": {},
   "outputs": [],
   "source": [
    "def show_random(dataset_name, sent_id = None):\n",
    "    '''\n",
    "    dataset_name: string\n",
    "    '''\n",
    "    from random import randint\n",
    "    try:\n",
    "        PGPAIRS, ids = ALLDEVS[dataset_name]\n",
    "    except KeyError:\n",
    "        print(f'No {dataset_name} in ALLDEVS.')\n",
    "    dev_size=len(ids)\n",
    "    rsid = ids[randint(0, dev_size-1)]\n",
    "    if sent_id:\n",
    "        rsid = sent_id\n",
    "    \n",
    "    print(f'[INFO] dev set size: {dev_size}')\n",
    "    print(f'[INFO] sent id: {rsid}')\n",
    "    pred, gold = PGPAIRS[rsid]['PRED'], PGPAIRS[rsid]['GOLD']\n",
    "    return pred, gold, rsid"
   ]
  },
  {
   "cell_type": "code",
   "execution_count": 55,
   "id": "8cfed161-fd27-42b3-a764-38a1b545b8eb",
   "metadata": {},
   "outputs": [],
   "source": [
    "keys = ('opener_en', 'darmstadt_unis', 'mpqa')"
   ]
  },
  {
   "cell_type": "code",
   "execution_count": 56,
   "id": "ca77de4c-d06e-4cd5-8afe-763701c591cf",
   "metadata": {},
   "outputs": [],
   "source": [
    "for key in keys:\n",
    "    PGPAIRS, ids = pred_align(PREDICTIONS[key], GOLDS[key])\n",
    "    ALLDEVS[key] = (PGPAIRS, ids)"
   ]
  },
  {
   "cell_type": "markdown",
   "id": "c90e7a3c-3344-466d-8142-67947f5a3409",
   "metadata": {
    "tags": []
   },
   "source": [
    "### A. opener_en"
   ]
  },
  {
   "cell_type": "markdown",
   "id": "d9144d90-402a-48b0-8c7f-9a802c12cea5",
   "metadata": {
    "tags": []
   },
   "source": [
    "#### example 1: short"
   ]
  },
  {
   "cell_type": "code",
   "execution_count": 199,
   "id": "029842a7-4e9c-4c86-91ec-f068dba0802f",
   "metadata": {},
   "outputs": [
    {
     "name": "stdout",
     "output_type": "stream",
     "text": [
      "[INFO] dev set size: 249\n",
      "[INFO] sent id: opener_en/kaf/hotel/english00122_b509ee1b998f3418b1fd4a8096880441-1\n"
     ]
    }
   ],
   "source": [
    "key = 'opener_en'\n",
    "pred, gold, sent_id = show_random(key, sent_id='opener_en/kaf/hotel/english00122_b509ee1b998f3418b1fd4a8096880441-1')"
   ]
  },
  {
   "cell_type": "code",
   "execution_count": 200,
   "id": "0c345599-8887-455e-b174-df66ef39ac53",
   "metadata": {},
   "outputs": [
    {
     "data": {
      "text/plain": [
       "{'sent_id': 'opener_en/kaf/hotel/english00122_b509ee1b998f3418b1fd4a8096880441-1',\n",
       " 'text': 'Stay was too short',\n",
       " 'opinions': [{'Source': [[], []],\n",
       "   'Target': [['Stay'], ['0:4']],\n",
       "   'Polar_expression': [['too short'], ['9:18']],\n",
       "   'Polarity': 'Negative',\n",
       "   'Intensity': 'Standard'}]}"
      ]
     },
     "execution_count": 200,
     "metadata": {},
     "output_type": "execute_result"
    }
   ],
   "source": [
    "gold"
   ]
  },
  {
   "cell_type": "code",
   "execution_count": 201,
   "id": "30737c14-d521-46f1-b202-45b7b259443c",
   "metadata": {},
   "outputs": [
    {
     "data": {
      "text/plain": [
       "{'sent_id': 'opener_en/kaf/hotel/english00122_b509ee1b998f3418b1fd4a8096880441-1',\n",
       " 'text': 'Stay was too short',\n",
       " 'opinions': [{'Source': [[], []],\n",
       "   'Target': [['Stay'], ['0:4']],\n",
       "   'Polar_expression': [['too short'], ['9:18']],\n",
       "   'Polarity': 'Negative',\n",
       "   'Intensity': 'Standard'}]}"
      ]
     },
     "execution_count": 201,
     "metadata": {},
     "output_type": "execute_result"
    }
   ],
   "source": [
    "pred"
   ]
  },
  {
   "cell_type": "markdown",
   "id": "2acde03a-6e7d-41cd-b50b-436370b27610",
   "metadata": {
    "tags": [],
    "toc-hr-collapsed": true
   },
   "source": [
    "#### example 2: multiple, simple \n",
    "determine relation的部分似乎配對得不太好，把所有extractions都交叉配對了，\n",
    "但這筆資料extractions近乎全對\n",
    "\n",
    "- text = 'the hotel is very clean and all the people who are working their are very friendly and willing to help .'\n",
    "\n",
    "整體prediction\n",
    "- the hotel: clean, friendly, willing to help\n",
    "- the people: clean, friendly, willing to help"
   ]
  },
  {
   "cell_type": "code",
   "execution_count": 67,
   "id": "5bc516f7-fe70-4fc4-a2d3-26a1be217ad3",
   "metadata": {},
   "outputs": [
    {
     "name": "stdout",
     "output_type": "stream",
     "text": [
      "[INFO] dev set size: 249\n",
      "[INFO] sent id: opener_en/kaf/hotel/english00073_6d0660face021ed117d3193124ae7849-2\n"
     ]
    }
   ],
   "source": [
    "pred, gold, sent_id = show_random(key)"
   ]
  },
  {
   "cell_type": "code",
   "execution_count": 69,
   "id": "fb365132-e010-41a0-8e9c-9477e48fa402",
   "metadata": {},
   "outputs": [
    {
     "data": {
      "text/plain": [
       "{'sent_id': 'opener_en/kaf/hotel/english00073_6d0660face021ed117d3193124ae7849-2',\n",
       " 'text': 'the hotel is very clean and all the people who are working their are very friendly and willing to help .',\n",
       " 'opinions': [{'Source': [[], []],\n",
       "   'Target': [['the people'], ['32:42']],\n",
       "   'Polar_expression': [['very friendly'], ['69:82']],\n",
       "   'Polarity': 'Positive',\n",
       "   'Intensity': 'Strong'},\n",
       "  {'Source': [[], []],\n",
       "   'Target': [['the people'], ['32:42']],\n",
       "   'Polar_expression': [['willing to help'], ['87:102']],\n",
       "   'Polarity': 'Positive',\n",
       "   'Intensity': 'Standard'},\n",
       "  {'Source': [[], []],\n",
       "   'Target': [['the hotel'], ['0:9']],\n",
       "   'Polar_expression': [['very clean'], ['13:23']],\n",
       "   'Polarity': 'Positive',\n",
       "   'Intensity': 'Strong'}]}"
      ]
     },
     "execution_count": 69,
     "metadata": {},
     "output_type": "execute_result"
    }
   ],
   "source": [
    "gold"
   ]
  },
  {
   "cell_type": "code",
   "execution_count": 68,
   "id": "c919a300-2810-4987-a06d-506a8cfd32d1",
   "metadata": {},
   "outputs": [
    {
     "data": {
      "text/plain": [
       "{'sent_id': 'opener_en/kaf/hotel/english00073_6d0660face021ed117d3193124ae7849-2',\n",
       " 'text': 'the hotel is very clean and all the people who are working their are very friendly and willing to help .',\n",
       " 'opinions': [{'Source': [[], []],\n",
       "   'Target': [['the hotel'], ['0:9']],\n",
       "   'Polar_expression': [['very clean'], ['13:23']],\n",
       "   'Polarity': 'Positive',\n",
       "   'Intensity': 'Standard'},\n",
       "  {'Source': [[], []],\n",
       "   'Target': [['the people'], ['32:42']],\n",
       "   'Polar_expression': [['very clean'], ['13:23']],\n",
       "   'Polarity': 'Positive',\n",
       "   'Intensity': 'Standard'},\n",
       "  {'Source': [[], []],\n",
       "   'Target': [['the hotel'], ['0:9']],\n",
       "   'Polar_expression': [['very friendly'], ['69:82']],\n",
       "   'Polarity': 'Positive',\n",
       "   'Intensity': 'Standard'},\n",
       "  {'Source': [[], []],\n",
       "   'Target': [['the people'], ['32:42']],\n",
       "   'Polar_expression': [['very friendly'], ['69:82']],\n",
       "   'Polarity': 'Positive',\n",
       "   'Intensity': 'Standard'},\n",
       "  {'Source': [[], []],\n",
       "   'Target': [['the hotel'], ['0:9']],\n",
       "   'Polar_expression': [['willing to help'], ['87:102']],\n",
       "   'Polarity': 'Positive',\n",
       "   'Intensity': 'Standard'},\n",
       "  {'Source': [[], []],\n",
       "   'Target': [['the people'], ['32:42']],\n",
       "   'Polar_expression': [['willing to help'], ['87:102']],\n",
       "   'Polarity': 'Positive',\n",
       "   'Intensity': 'Standard'}]}"
      ]
     },
     "execution_count": 68,
     "metadata": {},
     "output_type": "execute_result"
    }
   ],
   "source": [
    "pred"
   ]
  },
  {
   "cell_type": "markdown",
   "id": "178b509b-d15d-4ce3-8955-f5d7bc906efd",
   "metadata": {
    "jp-MarkdownHeadingCollapsed": true,
    "tags": []
   },
   "source": [
    "#### example 3: multiple, complicated expressions\n",
    "expressions 只能抓到 'a little rough from all of the Hen'，忽視了cleanest\n",
    "targets 的部分 reception 沒有抓出來，只有抓出定冠詞。"
   ]
  },
  {
   "cell_type": "code",
   "execution_count": 71,
   "id": "9d972e29-ebe2-4b4c-a9c0-b81f272269c4",
   "metadata": {},
   "outputs": [
    {
     "name": "stdout",
     "output_type": "stream",
     "text": [
      "[INFO] dev set size: 249\n",
      "[INFO] sent id: opener_en/kaf/hotel/english00070_4b333078625224037956975e6fba0e41-3\n"
     ]
    }
   ],
   "source": [
    "pred, gold, sent_id = show_random(key)"
   ]
  },
  {
   "cell_type": "code",
   "execution_count": 73,
   "id": "9ce001c9-91ab-48cb-813a-f403073dd156",
   "metadata": {},
   "outputs": [
    {
     "data": {
      "text/plain": [
       "{'sent_id': 'opener_en/kaf/hotel/english00070_4b333078625224037956975e6fba0e41-3',\n",
       " 'text': \"The rooms are one of the cleanest Travelodges I 've been too however the corridors and reception area is a little rough from all of the Hen / Stag weekend traffic .\",\n",
       " 'opinions': [{'Source': [[], []],\n",
       "   'Target': [['reception area'], ['87:101']],\n",
       "   'Polar_expression': [['a little rough'], ['105:119']],\n",
       "   'Polarity': 'Negative',\n",
       "   'Intensity': 'Standard'},\n",
       "  {'Source': [[], []],\n",
       "   'Target': [['the corridors'], ['69:82']],\n",
       "   'Polar_expression': [['a little rough'], ['105:119']],\n",
       "   'Polarity': 'Negative',\n",
       "   'Intensity': 'Standard'},\n",
       "  {'Source': [[], []],\n",
       "   'Target': [['The rooms'], ['0:9']],\n",
       "   'Polar_expression': [['one of the cleanest'], ['14:33']],\n",
       "   'Polarity': 'Positive',\n",
       "   'Intensity': 'Standard'}]}"
      ]
     },
     "execution_count": 73,
     "metadata": {},
     "output_type": "execute_result"
    }
   ],
   "source": [
    "gold"
   ]
  },
  {
   "cell_type": "code",
   "execution_count": 72,
   "id": "94b06d1e-fd58-4bdf-8004-89434f64b60f",
   "metadata": {},
   "outputs": [
    {
     "data": {
      "text/plain": [
       "{'sent_id': 'opener_en/kaf/hotel/english00070_4b333078625224037956975e6fba0e41-3',\n",
       " 'text': \"The rooms are one of the cleanest Travelodges I 've been too however the corridors and reception area is a little rough from all of the Hen / Stag weekend traffic .\",\n",
       " 'opinions': [{'Source': [[], []],\n",
       "   'Target': [['The rooms'], ['0:9']],\n",
       "   'Polar_expression': [['little rough from all of the Hen /'], ['107:141']],\n",
       "   'Polarity': 'Negative',\n",
       "   'Intensity': 'Standard'},\n",
       "  {'Source': [[], []],\n",
       "   'Target': [['the'], ['21:24']],\n",
       "   'Polar_expression': [['little rough from all of the Hen /'], ['107:141']],\n",
       "   'Polarity': 'Negative',\n",
       "   'Intensity': 'Standard'},\n",
       "  {'Source': [[], []],\n",
       "   'Target': [['corridors'], ['73:82']],\n",
       "   'Polar_expression': [['little rough from all of the Hen /'], ['107:141']],\n",
       "   'Polarity': 'Negative',\n",
       "   'Intensity': 'Standard'}]}"
      ]
     },
     "execution_count": 72,
     "metadata": {},
     "output_type": "execute_result"
    }
   ],
   "source": [
    "pred"
   ]
  },
  {
   "cell_type": "markdown",
   "id": "7b3843d9-7f37-4614-aca9-e09c280704bd",
   "metadata": {
    "jp-MarkdownHeadingCollapsed": true,
    "tags": []
   },
   "source": [
    "#### example 4: implicit sentiment \n",
    "\n",
    "40歐元顯然是說太貴的意思，\n",
    "但這個如果沒有world knowledge是不能判斷的（模型預測無標記）"
   ]
  },
  {
   "cell_type": "code",
   "execution_count": 203,
   "id": "250ecf9b-4111-4a92-9643-f330e1cb948b",
   "metadata": {},
   "outputs": [
    {
     "name": "stdout",
     "output_type": "stream",
     "text": [
      "[INFO] dev set size: 249\n",
      "[INFO] sent id: opener_en/kaf/hotel/english00210_f4aa2529a7784fec56fad627916db4b7-8\n"
     ]
    },
    {
     "data": {
      "text/plain": [
       "{'sent_id': 'opener_en/kaf/hotel/english00210_f4aa2529a7784fec56fad627916db4b7-8',\n",
       " 'text': 'Over 40 Euros for a pizza , burger and two drinks .',\n",
       " 'opinions': [{'Source': [[], []],\n",
       "   'Target': [[], []],\n",
       "   'Polar_expression': [['Over 40 Euros for a pizza , burger and two drinks'],\n",
       "    ['0:49']],\n",
       "   'Polarity': 'Negative',\n",
       "   'Intensity': 'Standard'}]}"
      ]
     },
     "execution_count": 203,
     "metadata": {},
     "output_type": "execute_result"
    }
   ],
   "source": [
    "pred, gold, sent_id = show_random(key)\n",
    "gold"
   ]
  },
  {
   "cell_type": "code",
   "execution_count": 204,
   "id": "53af6f87-eccb-4782-97b0-1dfd2a1f75fb",
   "metadata": {},
   "outputs": [
    {
     "data": {
      "text/plain": [
       "{'sent_id': 'opener_en/kaf/hotel/english00210_f4aa2529a7784fec56fad627916db4b7-8',\n",
       " 'text': 'Over 40 Euros for a pizza , burger and two drinks .',\n",
       " 'opinions': []}"
      ]
     },
     "execution_count": 204,
     "metadata": {},
     "output_type": "execute_result"
    }
   ],
   "source": [
    "pred"
   ]
  },
  {
   "cell_type": "markdown",
   "id": "8782af12-645e-4bcc-985b-d3ced1f6eaa6",
   "metadata": {},
   "source": [
    "### B. darmstadt_unis"
   ]
  },
  {
   "cell_type": "code",
   "execution_count": 153,
   "id": "924045cf-76e6-433a-b6ed-c71acab08efc",
   "metadata": {},
   "outputs": [],
   "source": [
    "key = 'darmstadt_unis'"
   ]
  },
  {
   "cell_type": "markdown",
   "id": "358e12a3-b25d-4a26-9913-07dbae4ff151",
   "metadata": {},
   "source": [
    "#### example 1: short\n",
    "\n",
    "- gold: quality: poor\n",
    "- pred: they: poor, isbn: poor\n",
    "\n",
    "extractions沒有全對，沒有抓出quality這個字（抓出了they, isbn），因為pipeline的error propagation，\n",
    "relation pairing也是錯的。expression和情緒極度是對的"
   ]
  },
  {
   "cell_type": "code",
   "execution_count": 83,
   "id": "e3709222-5086-4472-b22f-69732d34e44a",
   "metadata": {},
   "outputs": [
    {
     "name": "stdout",
     "output_type": "stream",
     "text": [
      "[INFO] dev set size: 232\n",
      "[INFO] sent id: Colorado_Technical_University_Online_76_06-17-2005-6\n"
     ]
    }
   ],
   "source": [
    "pred, gold, sent_id = show_random(key)"
   ]
  },
  {
   "cell_type": "code",
   "execution_count": 85,
   "id": "895f1460-0937-49bd-a0a2-090e832a6eaa",
   "metadata": {},
   "outputs": [
    {
     "data": {
      "text/plain": [
       "{'sent_id': 'Colorado_Technical_University_Online_76_06-17-2005-6',\n",
       " 'text': \"The free books taht they provide are so poor in quality you cannot even find their isbn's on the internet .\",\n",
       " 'opinions': [{'Source': [[], []],\n",
       "   'Target': [['quality'], ['48:55']],\n",
       "   'Polar_expression': [['so', 'poor'], ['37:39', '40:44']],\n",
       "   'Polarity': 'Negative',\n",
       "   'Intensity': 'Strong'}]}"
      ]
     },
     "execution_count": 85,
     "metadata": {},
     "output_type": "execute_result"
    }
   ],
   "source": [
    "gold"
   ]
  },
  {
   "cell_type": "code",
   "execution_count": 84,
   "id": "9a177c43-79c8-40fd-b6ca-68984f5161af",
   "metadata": {},
   "outputs": [
    {
     "data": {
      "text/plain": [
       "{'sent_id': 'Colorado_Technical_University_Online_76_06-17-2005-6',\n",
       " 'text': \"The free books taht they provide are so poor in quality you cannot even find their isbn's on the internet .\",\n",
       " 'opinions': [{'Source': [[], []],\n",
       "   'Target': [['they'], ['20:24']],\n",
       "   'Polar_expression': [['poor'], ['40:44']],\n",
       "   'Polarity': 'Negative',\n",
       "   'Intensity': 'Standard'},\n",
       "  {'Source': [[], []],\n",
       "   'Target': [[\"isbn's\"], ['83:89']],\n",
       "   'Polar_expression': [['poor'], ['40:44']],\n",
       "   'Polarity': 'Negative',\n",
       "   'Intensity': 'Standard'}]}"
      ]
     },
     "execution_count": 84,
     "metadata": {},
     "output_type": "execute_result"
    }
   ],
   "source": [
    "pred"
   ]
  },
  {
   "cell_type": "markdown",
   "id": "43bb18f6-9f47-4d79-ab44-779022571520",
   "metadata": {},
   "source": [
    "#### example 2: short, 'joke'\n",
    "\n",
    "\n",
    "Capella_University_80_09-21-2004-1 \n",
    "\n",
    "unregular expression? 抓得還算可以，但target標得不完善\n",
    "\n",
    "是說這個資料集，很多都是空opinions（pred和gold都是）"
   ]
  },
  {
   "cell_type": "code",
   "execution_count": 101,
   "id": "990cce6f-7b7a-4e6f-8013-0bee03cac0be",
   "metadata": {},
   "outputs": [
    {
     "name": "stdout",
     "output_type": "stream",
     "text": [
      "[INFO] dev set size: 232\n",
      "[INFO] sent id: Capella_University_80_09-21-2004-1\n"
     ]
    }
   ],
   "source": [
    "pred, gold, sent_id = show_random(key) "
   ]
  },
  {
   "cell_type": "code",
   "execution_count": 103,
   "id": "d767e567-0a85-494a-a694-159173e303e6",
   "metadata": {},
   "outputs": [
    {
     "data": {
      "text/plain": [
       "{'sent_id': 'Capella_University_80_09-21-2004-1',\n",
       " 'text': 'Capella University is a joke .',\n",
       " 'opinions': [{'Source': [[], []],\n",
       "   'Target': [['Capella University'], ['0:18']],\n",
       "   'Polar_expression': [['joke'], ['24:28']],\n",
       "   'Polarity': 'Negative',\n",
       "   'Intensity': 'Strong'}]}"
      ]
     },
     "execution_count": 103,
     "metadata": {},
     "output_type": "execute_result"
    }
   ],
   "source": [
    "gold"
   ]
  },
  {
   "cell_type": "code",
   "execution_count": 102,
   "id": "a1589468-cd23-43ab-b700-9b5ee13638f9",
   "metadata": {},
   "outputs": [
    {
     "data": {
      "text/plain": [
       "{'sent_id': 'Capella_University_80_09-21-2004-1',\n",
       " 'text': 'Capella University is a joke .',\n",
       " 'opinions': [{'Source': [[], []],\n",
       "   'Target': [['University'], ['8:18']],\n",
       "   'Polar_expression': [['joke'], ['24:28']],\n",
       "   'Polarity': 'Negative',\n",
       "   'Intensity': 'Standard'}]}"
      ]
     },
     "execution_count": 102,
     "metadata": {},
     "output_type": "execute_result"
    }
   ],
   "source": [
    "pred"
   ]
  },
  {
   "cell_type": "markdown",
   "id": "e61505d7-74fa-476a-aabd-e02324c8cdf5",
   "metadata": {},
   "source": [
    "#### example 3: Neutral和不標的差異到底在...？"
   ]
  },
  {
   "cell_type": "code",
   "execution_count": 170,
   "id": "e517544f-9e85-47ea-b6aa-2edece89a79d",
   "metadata": {},
   "outputs": [
    {
     "name": "stdout",
     "output_type": "stream",
     "text": [
      "[INFO] dev set size: 232\n",
      "[INFO] sent id: University_of_Phoenix_Online_27_12-21-2007-1\n"
     ]
    }
   ],
   "source": [
    "pred, gold, sent_id = show_random(key)"
   ]
  },
  {
   "cell_type": "code",
   "execution_count": 171,
   "id": "72dd038a-aaa0-453f-983b-7b614edab0be",
   "metadata": {},
   "outputs": [
    {
     "data": {
      "text/plain": [
       "{'sent_id': 'University_of_Phoenix_Online_27_12-21-2007-1',\n",
       " 'text': 'I am currently a student at UoP , and for every post on here there are some truth to them .',\n",
       " 'opinions': []}"
      ]
     },
     "execution_count": 171,
     "metadata": {},
     "output_type": "execute_result"
    }
   ],
   "source": [
    "pred"
   ]
  },
  {
   "cell_type": "code",
   "execution_count": 172,
   "id": "80d86ec5-5b5a-4240-b034-4eab42cf5144",
   "metadata": {},
   "outputs": [
    {
     "data": {
      "text/plain": [
       "{'sent_id': 'University_of_Phoenix_Online_27_12-21-2007-1',\n",
       " 'text': 'I am currently a student at UoP , and for every post on here there are some truth to them .',\n",
       " 'opinions': [{'Source': [[], []],\n",
       "   'Target': [['UoP'], ['28:31']],\n",
       "   'Polar_expression': [['some truth'], ['71:81']],\n",
       "   'Polarity': 'Neutral',\n",
       "   'Intensity': 'Average'}]}"
      ]
     },
     "execution_count": 172,
     "metadata": {},
     "output_type": "execute_result"
    }
   ],
   "source": [
    "gold"
   ]
  },
  {
   "cell_type": "markdown",
   "id": "312eeb5b-c79f-457a-b040-69fd98cecb4b",
   "metadata": {},
   "source": [
    "### C. mpqa"
   ]
  },
  {
   "cell_type": "code",
   "execution_count": 193,
   "id": "aee89b1c-459b-4ebf-92e9-201a70850f52",
   "metadata": {},
   "outputs": [],
   "source": [
    "key = 'mpqa'"
   ]
  },
  {
   "cell_type": "markdown",
   "id": "2eb7aaf3-5dd5-4673-828f-f8809cf68574",
   "metadata": {},
   "source": [
    "#### example 1: weird prediction\n",
    "determination被標成negative\n"
   ]
  },
  {
   "cell_type": "code",
   "execution_count": 115,
   "id": "10afeb85-8ba7-4b12-af0d-81d3ad73da42",
   "metadata": {},
   "outputs": [
    {
     "name": "stdout",
     "output_type": "stream",
     "text": [
      "[INFO] dev set size: 1997\n",
      "[INFO] sent id: non_fbis/15.45.31-12608-3\n"
     ]
    }
   ],
   "source": [
    "pred, gold, sent_id = show_random(key)"
   ]
  },
  {
   "cell_type": "code",
   "execution_count": 117,
   "id": "9c3e3232-c72d-4f96-b0c0-32cd44c6a259",
   "metadata": {},
   "outputs": [
    {
     "data": {
      "text/plain": [
       "{'sent_id': 'non_fbis/15.45.31-12608-3',\n",
       " 'text': 'In response , President Chavez reiterated his commitment to the principles of constitutional rule , legality and democracy and his determination to pursue a broad - based national dialogue .',\n",
       " 'opinions': []}"
      ]
     },
     "execution_count": 117,
     "metadata": {},
     "output_type": "execute_result"
    }
   ],
   "source": [
    "gold"
   ]
  },
  {
   "cell_type": "code",
   "execution_count": 116,
   "id": "08449461-5326-4bbe-b9d5-6fab06c46a97",
   "metadata": {},
   "outputs": [
    {
     "data": {
      "text/plain": [
       "{'sent_id': 'non_fbis/15.45.31-12608-3',\n",
       " 'text': 'In response , President Chavez reiterated his commitment to the principles of constitutional rule , legality and democracy and his determination to pursue a broad - based national dialogue .',\n",
       " 'opinions': [{'Source': [[], []],\n",
       "   'Target': [[], []],\n",
       "   'Polar_expression': [['determination'], ['131:144']],\n",
       "   'Polarity': 'Negative',\n",
       "   'Intensity': 'Standard'}]}"
      ]
     },
     "execution_count": 116,
     "metadata": {},
     "output_type": "execute_result"
    }
   ],
   "source": [
    "pred"
   ]
  },
  {
   "cell_type": "markdown",
   "id": "82918baf-02a2-46e7-aabf-8756688c662d",
   "metadata": {},
   "source": [
    "#### example 2: non-empty, all-correct\n",
    "看起來完全正確的標記，’The SADC on Saturday endorsed the vote' \n",
    "extractions全對，因為只有一組，relation pairing is correct (trivially)\n",
    "唯有intensity略有出入但影響不大"
   ]
  },
  {
   "cell_type": "code",
   "execution_count": 194,
   "id": "ea1b82eb-8576-46c5-be5f-4e91e598b5eb",
   "metadata": {},
   "outputs": [
    {
     "name": "stdout",
     "output_type": "stream",
     "text": [
      "[INFO] dev set size: 1997\n",
      "[INFO] sent id: 20020316/20.37.48-18053-9\n"
     ]
    }
   ],
   "source": [
    "pred, gold, sent_id = show_random(key, sent_id='20020316/20.37.48-18053-9')"
   ]
  },
  {
   "cell_type": "code",
   "execution_count": 195,
   "id": "ea3afc12-dbf7-4ea7-8d88-014af8d5d05d",
   "metadata": {},
   "outputs": [
    {
     "data": {
      "text/plain": [
       "{'sent_id': '20020316/20.37.48-18053-9',\n",
       " 'text': 'The SADC on Saturday endorsed the vote , despite its Parliamentary Forum , which judging that the March 9 - 11 election \" did not conform with the norms and standards of the SADC Parliamentary Forum , \" signed on to by Zimbabwe .',\n",
       " 'opinions': [{'Source': [['The SADC'], ['0:8']],\n",
       "   'Target': [['the vote'], ['30:38']],\n",
       "   'Polar_expression': [['endorsed'], ['21:29']],\n",
       "   'Polarity': 'Positive',\n",
       "   'Intensity': 'Average'}]}"
      ]
     },
     "execution_count": 195,
     "metadata": {},
     "output_type": "execute_result"
    }
   ],
   "source": [
    "gold"
   ]
  },
  {
   "cell_type": "code",
   "execution_count": 196,
   "id": "2932e93d-8de5-4c49-89b3-bcaf8c4caf52",
   "metadata": {},
   "outputs": [
    {
     "data": {
      "text/plain": [
       "{'sent_id': '20020316/20.37.48-18053-9',\n",
       " 'text': 'The SADC on Saturday endorsed the vote , despite its Parliamentary Forum , which judging that the March 9 - 11 election \" did not conform with the norms and standards of the SADC Parliamentary Forum , \" signed on to by Zimbabwe .',\n",
       " 'opinions': [{'Source': [[], []],\n",
       "   'Target': [['the vote'], ['30:38']],\n",
       "   'Polar_expression': [['endorsed'], ['21:29']],\n",
       "   'Polarity': 'Positive',\n",
       "   'Intensity': 'Standard',\n",
       "   'source': [['The SADC'], ['0:8']]}]}"
      ]
     },
     "execution_count": 196,
     "metadata": {},
     "output_type": "execute_result"
    }
   ],
   "source": [
    "pred"
   ]
  },
  {
   "cell_type": "markdown",
   "id": "c5a425e8-943b-44f7-8e33-e8bd068a5037",
   "metadata": {},
   "source": [
    "#### example 3: 6 opinions in one data, complicated relations and target spans\n",
    "這個資料集的targets的定義真的很弔詭，常常是phrases（boundary會很難抓），而且polar expressions有動詞\n",
    "這個資料的relation pairing prediction很慘，不過他似乎有學到 n't 是否定的意思。"
   ]
  },
  {
   "cell_type": "code",
   "execution_count": 149,
   "id": "875a3767-238f-434a-beb5-6bb0bf4493fa",
   "metadata": {},
   "outputs": [
    {
     "name": "stdout",
     "output_type": "stream",
     "text": [
      "[INFO] dev set size: 1997\n",
      "[INFO] sent id: ula/sw2015-ms98-a-trans-23\n"
     ]
    }
   ],
   "source": [
    "pred, gold, sent_id = show_random(key, sent_id='ula/sw2015-ms98-a-trans-23')"
   ]
  },
  {
   "cell_type": "code",
   "execution_count": 152,
   "id": "6517d8e6-1eda-439a-8051-b4c6ba231af0",
   "metadata": {},
   "outputs": [
    {
     "data": {
      "text/plain": [
       "{'sent_id': 'ula/sw2015-ms98-a-trans-23',\n",
       " 'text': \"right yeah yeah no i i agree with you there though i mean they want to choose that particular religion then that 's fine with me too you know as long as they do n't try and pull me in and drag me in and and i do n't like the way that they do it either and and it's their mission as they do as they go door - to - door and they go out into the public and they actually have the uh teenagers serving two years like you would say like in an army and two years in going around and doing missionary type work and i do n't know i just um i just do n't particularly care for that at all and that that 's one thing that i feel really strongly about though is uh you know people coming up to my door especially religious organizations and wanting to uh you know to try and get me to join or you know become interested in their religion because i have my own\",\n",
       " 'opinions': [{'Source': [[], []],\n",
       "   'Target': [['the way that they do it either'], ['221:251']],\n",
       "   'Polar_expression': [[\"do n't like\"], ['209:220']],\n",
       "   'Polarity': 'Negative',\n",
       "   'Intensity': 'Average'},\n",
       "  {'Source': [[], []],\n",
       "   'Target': [['to choose that particular religion'], ['68:102']],\n",
       "   'Polar_expression': [['want'], ['63:67']],\n",
       "   'Polarity': 'Positive',\n",
       "   'Intensity': 'Average'},\n",
       "  {'Source': [[], []],\n",
       "   'Target': [['that'], ['568:572']],\n",
       "   'Polar_expression': [[\"do n't particularly care for that at all\"],\n",
       "    ['539:579']],\n",
       "   'Polarity': 'Negative',\n",
       "   'Intensity': 'Strong'},\n",
       "  {'Source': [[], []],\n",
       "   'Target': [['to uh you know to try and get me to join or you know become interested in their religion'],\n",
       "    ['738:826']],\n",
       "   'Polar_expression': [['wanting'], ['730:737']],\n",
       "   'Polarity': 'Positive',\n",
       "   'Intensity': 'Average'},\n",
       "  {'Source': [[], []],\n",
       "   'Target': [['people coming up to my door'], ['663:690']],\n",
       "   'Polar_expression': [['feel really strongly about'], ['614:640']],\n",
       "   'Polarity': 'Negative',\n",
       "   'Intensity': 'Strong'},\n",
       "  {'Source': [[], []],\n",
       "   'Target': [['their religion'], ['812:826']],\n",
       "   'Polar_expression': [['interested'], ['798:808']],\n",
       "   'Polarity': 'Positive',\n",
       "   'Intensity': 'Weak'},\n",
       "  {'Source': [[], []],\n",
       "   'Target': [[\"that 's\"], ['108:115']],\n",
       "   'Polar_expression': [['fine with'], ['116:125']],\n",
       "   'Polarity': 'Positive',\n",
       "   'Intensity': 'Weak'}]}"
      ]
     },
     "execution_count": 152,
     "metadata": {},
     "output_type": "execute_result"
    }
   ],
   "source": [
    "gold"
   ]
  },
  {
   "cell_type": "code",
   "execution_count": 150,
   "id": "15c829f9-f9cf-43b7-80ee-b90974e822f6",
   "metadata": {},
   "outputs": [
    {
     "data": {
      "text/plain": [
       "{'sent_id': 'ula/sw2015-ms98-a-trans-23',\n",
       " 'text': \"right yeah yeah no i i agree with you there though i mean they want to choose that particular religion then that 's fine with me too you know as long as they do n't try and pull me in and drag me in and and i do n't like the way that they do it either and and it's their mission as they do as they go door - to - door and they go out into the public and they actually have the uh teenagers serving two years like you would say like in an army and two years in going around and doing missionary type work and i do n't know i just um i just do n't particularly care for that at all and that that 's one thing that i feel really strongly about though is uh you know people coming up to my door especially religious organizations and wanting to uh you know to try and get me to join or you know become interested in their religion because i have my own\",\n",
       " 'opinions': [{'Source': [[], []],\n",
       "   'Target': [['the way'], ['221:228']],\n",
       "   'Polar_expression': [['want'], ['63:67']],\n",
       "   'Polarity': 'Positive',\n",
       "   'Intensity': 'Standard'},\n",
       "  {'Source': [[], []],\n",
       "   'Target': [['they do it either and'], ['234:255']],\n",
       "   'Polar_expression': [['want'], ['63:67']],\n",
       "   'Polarity': 'Positive',\n",
       "   'Intensity': 'Standard'},\n",
       "  {'Source': [[], []],\n",
       "   'Target': [[\"it's their\"], ['260:270']],\n",
       "   'Polar_expression': [['want'], ['63:67']],\n",
       "   'Polarity': 'Positive',\n",
       "   'Intensity': 'Standard'},\n",
       "  {'Source': [[], []],\n",
       "   'Target': [['they do'], ['282:289']],\n",
       "   'Polar_expression': [['want'], ['63:67']],\n",
       "   'Polarity': 'Positive',\n",
       "   'Intensity': 'Standard'},\n",
       "  {'Source': [[], []],\n",
       "   'Target': [['they'], ['293:297']],\n",
       "   'Polar_expression': [['want'], ['63:67']],\n",
       "   'Polarity': 'Positive',\n",
       "   'Intensity': 'Standard'},\n",
       "  {'Source': [[], []],\n",
       "   'Target': [['you know to try and get me to join or you'], ['744:785']],\n",
       "   'Polar_expression': [['want'], ['63:67']],\n",
       "   'Polarity': 'Positive',\n",
       "   'Intensity': 'Standard'},\n",
       "  {'Source': [[], []],\n",
       "   'Target': [['the way'], ['221:228']],\n",
       "   'Polar_expression': [[\"n't\"], ['212:215']],\n",
       "   'Polarity': 'Negative',\n",
       "   'Intensity': 'Standard'},\n",
       "  {'Source': [[], []],\n",
       "   'Target': [['they do it either and'], ['234:255']],\n",
       "   'Polar_expression': [[\"n't\"], ['212:215']],\n",
       "   'Polarity': 'Negative',\n",
       "   'Intensity': 'Standard'},\n",
       "  {'Source': [[], []],\n",
       "   'Target': [[\"it's their\"], ['260:270']],\n",
       "   'Polar_expression': [[\"n't\"], ['212:215']],\n",
       "   'Polarity': 'Negative',\n",
       "   'Intensity': 'Standard'},\n",
       "  {'Source': [[], []],\n",
       "   'Target': [['they do'], ['282:289']],\n",
       "   'Polar_expression': [[\"n't\"], ['212:215']],\n",
       "   'Polarity': 'Negative',\n",
       "   'Intensity': 'Standard'},\n",
       "  {'Source': [[], []],\n",
       "   'Target': [['they'], ['293:297']],\n",
       "   'Polar_expression': [[\"n't\"], ['212:215']],\n",
       "   'Polarity': 'Negative',\n",
       "   'Intensity': 'Standard'},\n",
       "  {'Source': [[], []],\n",
       "   'Target': [['you know to try and get me to join or you'], ['744:785']],\n",
       "   'Polar_expression': [[\"n't\"], ['212:215']],\n",
       "   'Polarity': 'Negative',\n",
       "   'Intensity': 'Standard'},\n",
       "  {'Source': [[], []],\n",
       "   'Target': [['the way'], ['221:228']],\n",
       "   'Polar_expression': [['wanting'], ['730:737']],\n",
       "   'Polarity': 'Positive',\n",
       "   'Intensity': 'Standard'},\n",
       "  {'Source': [[], []],\n",
       "   'Target': [['they do it either and'], ['234:255']],\n",
       "   'Polar_expression': [['wanting'], ['730:737']],\n",
       "   'Polarity': 'Positive',\n",
       "   'Intensity': 'Standard'},\n",
       "  {'Source': [[], []],\n",
       "   'Target': [[\"it's their\"], ['260:270']],\n",
       "   'Polar_expression': [['wanting'], ['730:737']],\n",
       "   'Polarity': 'Positive',\n",
       "   'Intensity': 'Standard'},\n",
       "  {'Source': [[], []],\n",
       "   'Target': [['they do'], ['282:289']],\n",
       "   'Polar_expression': [['wanting'], ['730:737']],\n",
       "   'Polarity': 'Positive',\n",
       "   'Intensity': 'Standard'},\n",
       "  {'Source': [[], []],\n",
       "   'Target': [['they'], ['293:297']],\n",
       "   'Polar_expression': [['wanting'], ['730:737']],\n",
       "   'Polarity': 'Positive',\n",
       "   'Intensity': 'Standard'},\n",
       "  {'Source': [[], []],\n",
       "   'Target': [['you know to try and get me to join or you'], ['744:785']],\n",
       "   'Polar_expression': [['wanting'], ['730:737']],\n",
       "   'Polarity': 'Positive',\n",
       "   'Intensity': 'Standard'},\n",
       "  {'Source': [[], []],\n",
       "   'Target': [['the way'], ['221:228']],\n",
       "   'Polar_expression': [['interested'], ['798:808']],\n",
       "   'Polarity': 'Positive',\n",
       "   'Intensity': 'Standard'},\n",
       "  {'Source': [[], []],\n",
       "   'Target': [['they do it either and'], ['234:255']],\n",
       "   'Polar_expression': [['interested'], ['798:808']],\n",
       "   'Polarity': 'Positive',\n",
       "   'Intensity': 'Standard'},\n",
       "  {'Source': [[], []],\n",
       "   'Target': [[\"it's their\"], ['260:270']],\n",
       "   'Polar_expression': [['interested'], ['798:808']],\n",
       "   'Polarity': 'Positive',\n",
       "   'Intensity': 'Standard'},\n",
       "  {'Source': [[], []],\n",
       "   'Target': [['they do'], ['282:289']],\n",
       "   'Polar_expression': [['interested'], ['798:808']],\n",
       "   'Polarity': 'Positive',\n",
       "   'Intensity': 'Standard'},\n",
       "  {'Source': [[], []],\n",
       "   'Target': [['they'], ['293:297']],\n",
       "   'Polar_expression': [['interested'], ['798:808']],\n",
       "   'Polarity': 'Positive',\n",
       "   'Intensity': 'Standard'},\n",
       "  {'Source': [[], []],\n",
       "   'Target': [['you know to try and get me to join or you'], ['744:785']],\n",
       "   'Polar_expression': [['interested'], ['798:808']],\n",
       "   'Polarity': 'Positive',\n",
       "   'Intensity': 'Standard'}]}"
      ]
     },
     "execution_count": 150,
     "metadata": {},
     "output_type": "execute_result"
    }
   ],
   "source": [
    "pred"
   ]
  },
  {
   "cell_type": "code",
   "execution_count": null,
   "id": "13ac8383-404e-4639-9dce-9a27d2842183",
   "metadata": {},
   "outputs": [],
   "source": []
  },
  {
   "cell_type": "code",
   "execution_count": null,
   "id": "7938add6-8a8f-42cd-982b-7cb31949baf3",
   "metadata": {},
   "outputs": [],
   "source": []
  }
 ],
 "metadata": {
  "kernelspec": {
   "display_name": "Python 3",
   "language": "python",
   "name": "python3"
  },
  "language_info": {
   "codemirror_mode": {
    "name": "ipython",
    "version": 3
   },
   "file_extension": ".py",
   "mimetype": "text/x-python",
   "name": "python",
   "nbconvert_exporter": "python",
   "pygments_lexer": "ipython3",
   "version": "3.6.9"
  }
 },
 "nbformat": 4,
 "nbformat_minor": 5
}
